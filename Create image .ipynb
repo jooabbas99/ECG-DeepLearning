{
 "cells": [
  {
   "cell_type": "code",
   "execution_count": null,
   "metadata": {},
   "outputs": [],
   "source": [
    "import pandas as pd, matplotlib.pyplot as plt\n",
    "import os\n",
    "from sklearn.model_selection import train_test_split\n",
    "import cv2\n",
    "from tqdm import tqdm_notebook as tqdm"
   ]
  },
  {
   "cell_type": "code",
   "execution_count": null,
   "metadata": {},
   "outputs": [],
   "source": [
    "!pip install gdown"
   ]
  },
  {
   "cell_type": "code",
   "execution_count": null,
   "metadata": {},
   "outputs": [],
   "source": [
    "!gdown --id 11zufpuePYayZys7vK-uFyTOG9_g8o7zv"
   ]
  },
  {
   "cell_type": "code",
   "execution_count": null,
   "metadata": {},
   "outputs": [],
   "source": [
    "data = pd.read_csv('./MIT_BIH_DATASET_Resampled_Filltered_6_2021.csv')"
   ]
  },
  {
   "cell_type": "code",
   "execution_count": null,
   "metadata": {},
   "outputs": [],
   "source": [
    "data_new = data.to_numpy()\n",
    "print(data_new.shape)"
   ]
  },
  {
   "cell_type": "code",
   "execution_count": null,
   "metadata": {},
   "outputs": [],
   "source": [
    "data, labels = data_new[:, :-1], data_new[:, -1]\n",
    "print(data.shape, labels.shape)"
   ]
  },
  {
   "cell_type": "code",
   "execution_count": null,
   "metadata": {},
   "outputs": [],
   "source": [
    "from biosppy.signals import ecg\n",
    "from scipy import signal\n",
    "import numpy as np"
   ]
  },
  {
   "cell_type": "code",
   "execution_count": null,
   "metadata": {},
   "outputs": [],
   "source": [
    "sampling_rate = 300"
   ]
  },
  {
   "cell_type": "code",
   "execution_count": null,
   "metadata": {},
   "outputs": [],
   "source": [
    "sampling_rate = float(sampling_rate)\n",
    "# filter signal\n",
    "order = int(0.3 * sampling_rate)\n",
    "filter_data = np.zeros((len(data),len(data[0])))\n",
    "for i, (xrow, yrow) in enumerate(zip(data, labels)):\n",
    "  filtered, _, _ = ecg.st.filter_signal(signal=xrow,\n",
    "                                      ftype='FIR',\n",
    "                                      band='bandpass',\n",
    "                                      order=order,\n",
    "                                      frequency=[3, 45],\n",
    "                                      sampling_rate=sampling_rate)\n",
    "  # print(filtered)\n",
    "  filter_data[i] = filtered\n"
   ]
  },
  {
   "cell_type": "code",
   "execution_count": null,
   "metadata": {},
   "outputs": [],
   "source": [
    "from sklearn.model_selection import train_test_split\n",
    "\n",
    "X_train, X_valid, y_train, y_valid = train_test_split(filter_data, labels, test_size=0.40, random_state=42)\n",
    "X_valid, X_test, y_valid, y_test = train_test_split(X_valid, y_valid, test_size=0.50, random_state=42)"
   ]
  },
  {
   "cell_type": "code",
   "execution_count": null,
   "metadata": {},
   "outputs": [],
   "source": [
    "train_dir = './filter/train_imgs_128'\n",
    "valid_dir = './filter/valid_imgs_128'\n",
    "test_dir = './filter/test_imgs_128'"
   ]
  },
  {
   "cell_type": "code",
   "execution_count": null,
   "metadata": {},
   "outputs": [],
   "source": [
    "os.mkdir(train_dir)\n",
    "os.mkdir(test_dir)\n",
    "os.mkdir(valid_dir)"
   ]
  },
  {
   "cell_type": "code",
   "execution_count": null,
   "metadata": {},
   "outputs": [],
   "source": [
    "os.mkdir(train_dir+'/0')\n",
    "os.mkdir(train_dir+'/1')\n",
    "os.mkdir(train_dir+'/2')\n",
    "os.mkdir(train_dir+'/3')\n",
    "os.mkdir(train_dir+'/4')\n",
    "\n",
    "os.mkdir(test_dir+'/0')\n",
    "os.mkdir(test_dir+'/1')\n",
    "os.mkdir(test_dir+'/2')\n",
    "os.mkdir(test_dir+'/3')\n",
    "os.mkdir(test_dir+'/4')\n",
    "\n",
    "os.mkdir(valid_dir+'/0')\n",
    "os.mkdir(valid_dir+'/1')\n",
    "os.mkdir(valid_dir+'/2')\n",
    "os.mkdir(valid_dir+'/3')\n",
    "os.mkdir(valid_dir+'/4')"
   ]
  },
  {
   "cell_type": "code",
   "execution_count": null,
   "metadata": {},
   "outputs": [],
   "source": [
    "for i, (xrow, yrow) in enumerate(zip(X_train, y_train)):\n",
    "\n",
    "  fig = plt.figure(frameon=False)\n",
    "  plt.plot(xrow) \n",
    "  plt.xticks([]), plt.yticks([])\n",
    "  for spine in plt.gca().spines.values():\n",
    "     spine.set_visible(False)\n",
    "    \n",
    "  # plt.show()\n",
    "  # print(yrow)\n",
    "\n",
    "  filename = train_dir + '/' + str(int(yrow))+'/'+str(i)+'.png'\n",
    "  fig.savefig(filename)\n",
    "  im_gray = cv2.imread(filename, cv2.IMREAD_GRAYSCALE)\n",
    "  im_gray = cv2.resize(im_gray, (256, 256), interpolation = cv2.INTER_LANCZOS4)\n",
    "  cv2.imwrite(filename, im_gray)\n",
    "\n"
   ]
  },
  {
   "cell_type": "code",
   "execution_count": null,
   "metadata": {},
   "outputs": [],
   "source": [
    "for i, (xrow, yrow) in enumerate(zip(X_valid, y_valid)):\n",
    "\n",
    "  fig = plt.figure(frameon=False)\n",
    "  plt.plot(xrow) \n",
    "  plt.xticks([]), plt.yticks([])\n",
    "  for spine in plt.gca().spines.values():\n",
    "     spine.set_visible(False)\n",
    "    \n",
    "  # plt.show()\n",
    "  # print(yrow)\n",
    "  # # break\n",
    "\n",
    "  filename = valid_dir + '/' + str(int(yrow))+'/'+str(i)+'.png'\n",
    "  fig.savefig(filename)\n",
    "  im_gray = cv2.imread(filename, cv2.IMREAD_GRAYSCALE)\n",
    "  im_gray = cv2.resize(im_gray, (256, 256), interpolation = cv2.INTER_LANCZOS4)\n",
    "  cv2.imwrite(filename, im_gray)"
   ]
  },
  {
   "cell_type": "code",
   "execution_count": null,
   "metadata": {},
   "outputs": [],
   "source": [
    "for i, (xrow, yrow) in enumerate(zip(X_test, y_test)):\n",
    "\n",
    "  fig = plt.figure(frameon=False)\n",
    "  plt.plot(xrow) \n",
    "  plt.xticks([]), plt.yticks([])\n",
    "  for spine in plt.gca().spines.values():\n",
    "     spine.set_visible(False)\n",
    "    \n",
    "  # plt.show()\n",
    "  # print(yrow)\n",
    "  # # break\n",
    "\n",
    "  filename = test_dir + '/' + str(int(yrow))+'/'+str(i)+'.png'\n",
    "  fig.savefig(filename)\n",
    "  im_gray = cv2.imread(filename, cv2.IMREAD_GRAYSCALE)\n",
    "  im_gray = cv2.resize(im_gray, (256, 256), interpolation = cv2.INTER_LANCZOS4)\n",
    "  cv2.imwrite(filename, im_gray)"
   ]
  },
  {
   "cell_type": "code",
   "execution_count": null,
   "metadata": {},
   "outputs": [],
   "source": []
  }
 ],
 "metadata": {
  "kernelspec": {
   "display_name": "Python 3",
   "language": "python",
   "name": "python3"
  },
  "language_info": {
   "codemirror_mode": {
    "name": "ipython",
    "version": 3
   },
   "file_extension": ".py",
   "mimetype": "text/x-python",
   "name": "python",
   "nbconvert_exporter": "python",
   "pygments_lexer": "ipython3",
   "version": "3.7.9"
  }
 },
 "nbformat": 4,
 "nbformat_minor": 4
}
