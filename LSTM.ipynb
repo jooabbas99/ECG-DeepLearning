{
 "cells": [
  {
   "cell_type": "code",
   "execution_count": 1,
   "metadata": {
    "id": "PuLC3KMg-bNb"
   },
   "outputs": [],
   "source": [
    "# only for macbook with AMD GPU\n",
    "import os\n",
    "import plaidml.keras\n",
    "plaidml.keras.install_backend()\n",
    "os.environ[\"KERAS_BACKEND\"] = \"plaidml.keras.backend\"\n"
   ]
  },
  {
   "cell_type": "code",
   "execution_count": null,
   "metadata": {
    "colab": {
     "base_uri": "https://localhost:8080/"
    },
    "id": "tIKGtzB1YrSb",
    "outputId": "f801fae8-735f-4dd4-8230-1eb71f54687e"
   },
   "outputs": [
    {
     "name": "stdout",
     "output_type": "stream",
     "text": [
      "Downloading...\n",
      "From: https://drive.google.com/uc?id=11zufpuePYayZys7vK-uFyTOG9_g8o7zv\n",
      "To: /content/all_in_one_MIT_BIH_DATASET_32_5_2021.csv\n",
      "241MB [00:02, 85.3MB/s]\n"
     ]
    }
   ],
   "source": [
    "! gdown --id 11zufpuePYayZys7vK-uFyTOG9_g8o7zv"
   ]
  },
  {
   "cell_type": "code",
   "execution_count": null,
   "metadata": {
    "colab": {
     "base_uri": "https://localhost:8080/"
    },
    "id": "VHHxQb8TZ1gY",
    "outputId": "8ba1795c-e763-4b78-e02f-b683aab13cb6"
   },
   "outputs": [
    {
     "name": "stdout",
     "output_type": "stream",
     "text": [
      "all_in_one_MIT_BIH_DATASET_32_5_2021.csv  sample_data\n"
     ]
    }
   ],
   "source": [
    "!ls\n"
   ]
  },
  {
   "cell_type": "code",
   "execution_count": 2,
   "metadata": {
    "id": "LBmnQGcjZ2T-"
   },
   "outputs": [],
   "source": [
    "from __future__ import print_function\n",
    "import warnings\n",
    "warnings.filterwarnings('ignore')\n",
    "import numpy as np\n",
    "import pandas as pd\n",
    "import matplotlib.pyplot as plt\n",
    "from keras.utils.np_utils import to_categorical\n",
    "import cv2\n",
    "import os\n",
    "from tqdm.notebook import tqdm\n",
    "from tensorflow.keras.models import Sequential, Model\n",
    "from tensorflow.keras.layers import Dense, Dropout, Activation, Flatten\n",
    "from tensorflow.keras.layers import Conv2D, MaxPooling2D, ZeroPadding2D\n",
    "from tensorflow.keras.layers import BatchNormalization\n",
    "from keras.regularizers import l2\n",
    "from tensorflow.keras.preprocessing.image import ImageDataGenerator\n",
    "from tensorflow.keras import optimizers\n",
    "import tensorflow.keras as keras\n",
    "import tensorflow.keras.backend as K\n",
    "from tensorflow.keras.models import load_model"
   ]
  },
  {
   "cell_type": "code",
   "execution_count": null,
   "metadata": {
    "colab": {
     "base_uri": "https://localhost:8080/"
    },
    "id": "ewg3TZwIbx0s",
    "outputId": "d0c03124-58bf-494c-9a52-9173d0b8f507"
   },
   "outputs": [
    {
     "name": "stdout",
     "output_type": "stream",
     "text": [
      "/content\n"
     ]
    }
   ],
   "source": [
    "!pwd all_in_one_MIT_BIH_DATASET_32_5_2021.csv"
   ]
  },
  {
   "cell_type": "code",
   "execution_count": 3,
   "metadata": {
    "id": "_A7XkZC_bn8p"
   },
   "outputs": [],
   "source": [
    "data = pd.read_csv('./MIT_BIH_DATASET_Resampled_Filltered_6_2021.csv')"
   ]
  },
  {
   "cell_type": "code",
   "execution_count": 4,
   "metadata": {
    "id": "P7g3caytB4Qk"
   },
   "outputs": [],
   "source": [
    "from sklearn.utils import resample\n",
    "df_1=data[data['301']==1]\n",
    "df_2=data[data['301']==2]\n",
    "df_3=data[data['301']==3]\n",
    "df_4=data[data['301']==4]\n",
    "df_0=(data[data['301']==0])\n",
    "\n",
    "df_4_upsample=resample(df_4,replace=True,n_samples=4200,random_state=42)\n",
    "\n",
    "new_data=pd.concat([df_0,df_1,df_2,df_3,df_4_upsample])"
   ]
  },
  {
   "cell_type": "markdown",
   "metadata": {
    "id": "wGk973dpKxkV"
   },
   "source": []
  },
  {
   "cell_type": "code",
   "execution_count": 14,
   "metadata": {
    "colab": {
     "base_uri": "https://localhost:8080/",
     "height": 253
    },
    "id": "IxpT5k-vb6Vu",
    "outputId": "0f863acf-b122-498f-f525-2c6707518f2b"
   },
   "outputs": [
    {
     "data": {
      "text/html": [
       "<div>\n",
       "<style scoped>\n",
       "    .dataframe tbody tr th:only-of-type {\n",
       "        vertical-align: middle;\n",
       "    }\n",
       "\n",
       "    .dataframe tbody tr th {\n",
       "        vertical-align: top;\n",
       "    }\n",
       "\n",
       "    .dataframe thead th {\n",
       "        text-align: right;\n",
       "    }\n",
       "</style>\n",
       "<table border=\"1\" class=\"dataframe\">\n",
       "  <thead>\n",
       "    <tr style=\"text-align: right;\">\n",
       "      <th></th>\n",
       "      <th>1</th>\n",
       "      <th>2</th>\n",
       "      <th>3</th>\n",
       "      <th>4</th>\n",
       "      <th>5</th>\n",
       "      <th>6</th>\n",
       "      <th>7</th>\n",
       "      <th>8</th>\n",
       "      <th>9</th>\n",
       "      <th>10</th>\n",
       "      <th>...</th>\n",
       "      <th>292</th>\n",
       "      <th>293</th>\n",
       "      <th>294</th>\n",
       "      <th>295</th>\n",
       "      <th>296</th>\n",
       "      <th>297</th>\n",
       "      <th>298</th>\n",
       "      <th>299</th>\n",
       "      <th>300</th>\n",
       "      <th>301</th>\n",
       "    </tr>\n",
       "  </thead>\n",
       "  <tbody>\n",
       "    <tr>\n",
       "      <th>0</th>\n",
       "      <td>0.239643</td>\n",
       "      <td>0.164720</td>\n",
       "      <td>0.137425</td>\n",
       "      <td>0.084942</td>\n",
       "      <td>0.153273</td>\n",
       "      <td>0.184037</td>\n",
       "      <td>0.238504</td>\n",
       "      <td>0.157602</td>\n",
       "      <td>0.127725</td>\n",
       "      <td>0.120196</td>\n",
       "      <td>...</td>\n",
       "      <td>0.013269</td>\n",
       "      <td>-0.090593</td>\n",
       "      <td>-0.083783</td>\n",
       "      <td>-0.010214</td>\n",
       "      <td>0.003538</td>\n",
       "      <td>-0.048281</td>\n",
       "      <td>0.013559</td>\n",
       "      <td>-0.054481</td>\n",
       "      <td>-0.037631</td>\n",
       "      <td>0.0</td>\n",
       "    </tr>\n",
       "    <tr>\n",
       "      <th>1</th>\n",
       "      <td>-0.019156</td>\n",
       "      <td>0.056494</td>\n",
       "      <td>0.085993</td>\n",
       "      <td>0.016801</td>\n",
       "      <td>-0.018386</td>\n",
       "      <td>-0.057010</td>\n",
       "      <td>-0.068422</td>\n",
       "      <td>0.026895</td>\n",
       "      <td>-0.014682</td>\n",
       "      <td>-0.062788</td>\n",
       "      <td>...</td>\n",
       "      <td>-0.001479</td>\n",
       "      <td>-0.108656</td>\n",
       "      <td>-0.058153</td>\n",
       "      <td>0.001199</td>\n",
       "      <td>-0.007415</td>\n",
       "      <td>0.059003</td>\n",
       "      <td>-0.032712</td>\n",
       "      <td>-0.101004</td>\n",
       "      <td>-0.121043</td>\n",
       "      <td>0.0</td>\n",
       "    </tr>\n",
       "    <tr>\n",
       "      <th>2</th>\n",
       "      <td>-0.070916</td>\n",
       "      <td>-0.072735</td>\n",
       "      <td>-0.068566</td>\n",
       "      <td>-0.088535</td>\n",
       "      <td>-0.195064</td>\n",
       "      <td>-0.250222</td>\n",
       "      <td>-0.174585</td>\n",
       "      <td>-0.172860</td>\n",
       "      <td>-0.113858</td>\n",
       "      <td>-0.149651</td>\n",
       "      <td>...</td>\n",
       "      <td>0.060226</td>\n",
       "      <td>0.045062</td>\n",
       "      <td>0.087087</td>\n",
       "      <td>0.094336</td>\n",
       "      <td>0.015158</td>\n",
       "      <td>0.011150</td>\n",
       "      <td>0.037077</td>\n",
       "      <td>0.060055</td>\n",
       "      <td>0.027918</td>\n",
       "      <td>0.0</td>\n",
       "    </tr>\n",
       "    <tr>\n",
       "      <th>3</th>\n",
       "      <td>-0.045036</td>\n",
       "      <td>-0.015860</td>\n",
       "      <td>-0.051289</td>\n",
       "      <td>0.046698</td>\n",
       "      <td>0.046348</td>\n",
       "      <td>-0.004921</td>\n",
       "      <td>-0.084028</td>\n",
       "      <td>-0.172101</td>\n",
       "      <td>-0.150082</td>\n",
       "      <td>-0.089753</td>\n",
       "      <td>...</td>\n",
       "      <td>0.006724</td>\n",
       "      <td>0.015977</td>\n",
       "      <td>0.054514</td>\n",
       "      <td>0.133155</td>\n",
       "      <td>0.123297</td>\n",
       "      <td>0.076452</td>\n",
       "      <td>0.054817</td>\n",
       "      <td>-0.004272</td>\n",
       "      <td>-0.099234</td>\n",
       "      <td>0.0</td>\n",
       "    </tr>\n",
       "    <tr>\n",
       "      <th>4</th>\n",
       "      <td>0.006723</td>\n",
       "      <td>0.028755</td>\n",
       "      <td>0.040530</td>\n",
       "      <td>-0.042902</td>\n",
       "      <td>-0.081792</td>\n",
       "      <td>-0.152608</td>\n",
       "      <td>-0.105317</td>\n",
       "      <td>-0.062382</td>\n",
       "      <td>-0.040877</td>\n",
       "      <td>-0.144280</td>\n",
       "      <td>...</td>\n",
       "      <td>0.135370</td>\n",
       "      <td>0.078398</td>\n",
       "      <td>0.127388</td>\n",
       "      <td>0.167807</td>\n",
       "      <td>0.151218</td>\n",
       "      <td>0.076355</td>\n",
       "      <td>0.054625</td>\n",
       "      <td>0.005897</td>\n",
       "      <td>0.060152</td>\n",
       "      <td>0.0</td>\n",
       "    </tr>\n",
       "  </tbody>\n",
       "</table>\n",
       "<p>5 rows × 301 columns</p>\n",
       "</div>"
      ],
      "text/plain": [
       "          1         2         3         4         5         6         7  \\\n",
       "0  0.239643  0.164720  0.137425  0.084942  0.153273  0.184037  0.238504   \n",
       "1 -0.019156  0.056494  0.085993  0.016801 -0.018386 -0.057010 -0.068422   \n",
       "2 -0.070916 -0.072735 -0.068566 -0.088535 -0.195064 -0.250222 -0.174585   \n",
       "3 -0.045036 -0.015860 -0.051289  0.046698  0.046348 -0.004921 -0.084028   \n",
       "4  0.006723  0.028755  0.040530 -0.042902 -0.081792 -0.152608 -0.105317   \n",
       "\n",
       "          8         9        10  ...       292       293       294       295  \\\n",
       "0  0.157602  0.127725  0.120196  ...  0.013269 -0.090593 -0.083783 -0.010214   \n",
       "1  0.026895 -0.014682 -0.062788  ... -0.001479 -0.108656 -0.058153  0.001199   \n",
       "2 -0.172860 -0.113858 -0.149651  ...  0.060226  0.045062  0.087087  0.094336   \n",
       "3 -0.172101 -0.150082 -0.089753  ...  0.006724  0.015977  0.054514  0.133155   \n",
       "4 -0.062382 -0.040877 -0.144280  ...  0.135370  0.078398  0.127388  0.167807   \n",
       "\n",
       "        296       297       298       299       300  301  \n",
       "0  0.003538 -0.048281  0.013559 -0.054481 -0.037631  0.0  \n",
       "1 -0.007415  0.059003 -0.032712 -0.101004 -0.121043  0.0  \n",
       "2  0.015158  0.011150  0.037077  0.060055  0.027918  0.0  \n",
       "3  0.123297  0.076452  0.054817 -0.004272 -0.099234  0.0  \n",
       "4  0.151218  0.076355  0.054625  0.005897  0.060152  0.0  \n",
       "\n",
       "[5 rows x 301 columns]"
      ]
     },
     "execution_count": 14,
     "metadata": {},
     "output_type": "execute_result"
    }
   ],
   "source": [
    "data.head()"
   ]
  },
  {
   "cell_type": "code",
   "execution_count": 15,
   "metadata": {
    "colab": {
     "base_uri": "https://localhost:8080/",
     "height": 253
    },
    "id": "XJ8hfdkOB7tM",
    "outputId": "4d753ef8-1327-423e-926b-edb053636859"
   },
   "outputs": [
    {
     "data": {
      "text/html": [
       "<div>\n",
       "<style scoped>\n",
       "    .dataframe tbody tr th:only-of-type {\n",
       "        vertical-align: middle;\n",
       "    }\n",
       "\n",
       "    .dataframe tbody tr th {\n",
       "        vertical-align: top;\n",
       "    }\n",
       "\n",
       "    .dataframe thead th {\n",
       "        text-align: right;\n",
       "    }\n",
       "</style>\n",
       "<table border=\"1\" class=\"dataframe\">\n",
       "  <thead>\n",
       "    <tr style=\"text-align: right;\">\n",
       "      <th></th>\n",
       "      <th>1</th>\n",
       "      <th>2</th>\n",
       "      <th>3</th>\n",
       "      <th>4</th>\n",
       "      <th>5</th>\n",
       "      <th>6</th>\n",
       "      <th>7</th>\n",
       "      <th>8</th>\n",
       "      <th>9</th>\n",
       "      <th>10</th>\n",
       "      <th>...</th>\n",
       "      <th>292</th>\n",
       "      <th>293</th>\n",
       "      <th>294</th>\n",
       "      <th>295</th>\n",
       "      <th>296</th>\n",
       "      <th>297</th>\n",
       "      <th>298</th>\n",
       "      <th>299</th>\n",
       "      <th>300</th>\n",
       "      <th>301</th>\n",
       "    </tr>\n",
       "  </thead>\n",
       "  <tbody>\n",
       "    <tr>\n",
       "      <th>0</th>\n",
       "      <td>0.239643</td>\n",
       "      <td>0.164720</td>\n",
       "      <td>0.137425</td>\n",
       "      <td>0.084942</td>\n",
       "      <td>0.153273</td>\n",
       "      <td>0.184037</td>\n",
       "      <td>0.238504</td>\n",
       "      <td>0.157602</td>\n",
       "      <td>0.127725</td>\n",
       "      <td>0.120196</td>\n",
       "      <td>...</td>\n",
       "      <td>0.013269</td>\n",
       "      <td>-0.090593</td>\n",
       "      <td>-0.083783</td>\n",
       "      <td>-0.010214</td>\n",
       "      <td>0.003538</td>\n",
       "      <td>-0.048281</td>\n",
       "      <td>0.013559</td>\n",
       "      <td>-0.054481</td>\n",
       "      <td>-0.037631</td>\n",
       "      <td>0.0</td>\n",
       "    </tr>\n",
       "    <tr>\n",
       "      <th>1</th>\n",
       "      <td>-0.019156</td>\n",
       "      <td>0.056494</td>\n",
       "      <td>0.085993</td>\n",
       "      <td>0.016801</td>\n",
       "      <td>-0.018386</td>\n",
       "      <td>-0.057010</td>\n",
       "      <td>-0.068422</td>\n",
       "      <td>0.026895</td>\n",
       "      <td>-0.014682</td>\n",
       "      <td>-0.062788</td>\n",
       "      <td>...</td>\n",
       "      <td>-0.001479</td>\n",
       "      <td>-0.108656</td>\n",
       "      <td>-0.058153</td>\n",
       "      <td>0.001199</td>\n",
       "      <td>-0.007415</td>\n",
       "      <td>0.059003</td>\n",
       "      <td>-0.032712</td>\n",
       "      <td>-0.101004</td>\n",
       "      <td>-0.121043</td>\n",
       "      <td>0.0</td>\n",
       "    </tr>\n",
       "    <tr>\n",
       "      <th>2</th>\n",
       "      <td>-0.070916</td>\n",
       "      <td>-0.072735</td>\n",
       "      <td>-0.068566</td>\n",
       "      <td>-0.088535</td>\n",
       "      <td>-0.195064</td>\n",
       "      <td>-0.250222</td>\n",
       "      <td>-0.174585</td>\n",
       "      <td>-0.172860</td>\n",
       "      <td>-0.113858</td>\n",
       "      <td>-0.149651</td>\n",
       "      <td>...</td>\n",
       "      <td>0.060226</td>\n",
       "      <td>0.045062</td>\n",
       "      <td>0.087087</td>\n",
       "      <td>0.094336</td>\n",
       "      <td>0.015158</td>\n",
       "      <td>0.011150</td>\n",
       "      <td>0.037077</td>\n",
       "      <td>0.060055</td>\n",
       "      <td>0.027918</td>\n",
       "      <td>0.0</td>\n",
       "    </tr>\n",
       "    <tr>\n",
       "      <th>3</th>\n",
       "      <td>-0.045036</td>\n",
       "      <td>-0.015860</td>\n",
       "      <td>-0.051289</td>\n",
       "      <td>0.046698</td>\n",
       "      <td>0.046348</td>\n",
       "      <td>-0.004921</td>\n",
       "      <td>-0.084028</td>\n",
       "      <td>-0.172101</td>\n",
       "      <td>-0.150082</td>\n",
       "      <td>-0.089753</td>\n",
       "      <td>...</td>\n",
       "      <td>0.006724</td>\n",
       "      <td>0.015977</td>\n",
       "      <td>0.054514</td>\n",
       "      <td>0.133155</td>\n",
       "      <td>0.123297</td>\n",
       "      <td>0.076452</td>\n",
       "      <td>0.054817</td>\n",
       "      <td>-0.004272</td>\n",
       "      <td>-0.099234</td>\n",
       "      <td>0.0</td>\n",
       "    </tr>\n",
       "    <tr>\n",
       "      <th>4</th>\n",
       "      <td>0.006723</td>\n",
       "      <td>0.028755</td>\n",
       "      <td>0.040530</td>\n",
       "      <td>-0.042902</td>\n",
       "      <td>-0.081792</td>\n",
       "      <td>-0.152608</td>\n",
       "      <td>-0.105317</td>\n",
       "      <td>-0.062382</td>\n",
       "      <td>-0.040877</td>\n",
       "      <td>-0.144280</td>\n",
       "      <td>...</td>\n",
       "      <td>0.135370</td>\n",
       "      <td>0.078398</td>\n",
       "      <td>0.127388</td>\n",
       "      <td>0.167807</td>\n",
       "      <td>0.151218</td>\n",
       "      <td>0.076355</td>\n",
       "      <td>0.054625</td>\n",
       "      <td>0.005897</td>\n",
       "      <td>0.060152</td>\n",
       "      <td>0.0</td>\n",
       "    </tr>\n",
       "  </tbody>\n",
       "</table>\n",
       "<p>5 rows × 301 columns</p>\n",
       "</div>"
      ],
      "text/plain": [
       "          1         2         3         4         5         6         7  \\\n",
       "0  0.239643  0.164720  0.137425  0.084942  0.153273  0.184037  0.238504   \n",
       "1 -0.019156  0.056494  0.085993  0.016801 -0.018386 -0.057010 -0.068422   \n",
       "2 -0.070916 -0.072735 -0.068566 -0.088535 -0.195064 -0.250222 -0.174585   \n",
       "3 -0.045036 -0.015860 -0.051289  0.046698  0.046348 -0.004921 -0.084028   \n",
       "4  0.006723  0.028755  0.040530 -0.042902 -0.081792 -0.152608 -0.105317   \n",
       "\n",
       "          8         9        10  ...       292       293       294       295  \\\n",
       "0  0.157602  0.127725  0.120196  ...  0.013269 -0.090593 -0.083783 -0.010214   \n",
       "1  0.026895 -0.014682 -0.062788  ... -0.001479 -0.108656 -0.058153  0.001199   \n",
       "2 -0.172860 -0.113858 -0.149651  ...  0.060226  0.045062  0.087087  0.094336   \n",
       "3 -0.172101 -0.150082 -0.089753  ...  0.006724  0.015977  0.054514  0.133155   \n",
       "4 -0.062382 -0.040877 -0.144280  ...  0.135370  0.078398  0.127388  0.167807   \n",
       "\n",
       "        296       297       298       299       300  301  \n",
       "0  0.003538 -0.048281  0.013559 -0.054481 -0.037631  0.0  \n",
       "1 -0.007415  0.059003 -0.032712 -0.101004 -0.121043  0.0  \n",
       "2  0.015158  0.011150  0.037077  0.060055  0.027918  0.0  \n",
       "3  0.123297  0.076452  0.054817 -0.004272 -0.099234  0.0  \n",
       "4  0.151218  0.076355  0.054625  0.005897  0.060152  0.0  \n",
       "\n",
       "[5 rows x 301 columns]"
      ]
     },
     "execution_count": 15,
     "metadata": {},
     "output_type": "execute_result"
    }
   ],
   "source": [
    "new_data.head()"
   ]
  },
  {
   "cell_type": "code",
   "execution_count": null,
   "metadata": {
    "colab": {
     "base_uri": "https://localhost:8080/"
    },
    "id": "iwM0HO43b98_",
    "outputId": "6cfa622b-cfba-4669-b009-3af5aff5bbfe"
   },
   "outputs": [
    {
     "name": "stdout",
     "output_type": "stream",
     "text": [
      "Collecting biosppy\n",
      "\u001b[?25l  Downloading https://files.pythonhosted.org/packages/c3/12/1f2f5e58e40513a4a7c71b0a5e2acc06637bd5c405e0b3be7ce5ada7729c/biosppy-0.7.0-py2.py3-none-any.whl (89kB)\n",
      "\r",
      "\u001b[K     |███▋                            | 10kB 24.1MB/s eta 0:00:01\r",
      "\u001b[K     |███████▎                        | 20kB 30.2MB/s eta 0:00:01\r",
      "\u001b[K     |███████████                     | 30kB 24.2MB/s eta 0:00:01\r",
      "\u001b[K     |██████████████▋                 | 40kB 18.0MB/s eta 0:00:01\r",
      "\u001b[K     |██████████████████▎             | 51kB 8.3MB/s eta 0:00:01\r",
      "\u001b[K     |██████████████████████          | 61kB 9.7MB/s eta 0:00:01\r",
      "\u001b[K     |█████████████████████████▋      | 71kB 9.8MB/s eta 0:00:01\r",
      "\u001b[K     |█████████████████████████████▎  | 81kB 9.8MB/s eta 0:00:01\r",
      "\u001b[K     |████████████████████████████████| 92kB 5.4MB/s \n",
      "\u001b[?25hRequirement already satisfied: scikit-learn in /usr/local/lib/python3.7/dist-packages (from biosppy) (0.22.2.post1)\n",
      "Requirement already satisfied: h5py in /usr/local/lib/python3.7/dist-packages (from biosppy) (3.1.0)\n",
      "Collecting shortuuid\n",
      "  Downloading https://files.pythonhosted.org/packages/25/a6/2ecc1daa6a304e7f1b216f0896b26156b78e7c38e1211e9b798b4716c53d/shortuuid-1.0.1-py3-none-any.whl\n",
      "Requirement already satisfied: matplotlib in /usr/local/lib/python3.7/dist-packages (from biosppy) (3.2.2)\n",
      "Requirement already satisfied: numpy in /usr/local/lib/python3.7/dist-packages (from biosppy) (1.19.5)\n",
      "Collecting bidict\n",
      "  Downloading https://files.pythonhosted.org/packages/67/d4/eaf9242722bf991e0955380dd6168020cb15a71cc0d3cc2373f4911b1f1d/bidict-0.21.2-py2.py3-none-any.whl\n",
      "Requirement already satisfied: scipy in /usr/local/lib/python3.7/dist-packages (from biosppy) (1.4.1)\n",
      "Requirement already satisfied: six in /usr/local/lib/python3.7/dist-packages (from biosppy) (1.15.0)\n",
      "Requirement already satisfied: joblib in /usr/local/lib/python3.7/dist-packages (from biosppy) (1.0.1)\n",
      "Requirement already satisfied: cached-property; python_version < \"3.8\" in /usr/local/lib/python3.7/dist-packages (from h5py->biosppy) (1.5.2)\n",
      "Requirement already satisfied: kiwisolver>=1.0.1 in /usr/local/lib/python3.7/dist-packages (from matplotlib->biosppy) (1.3.1)\n",
      "Requirement already satisfied: pyparsing!=2.0.4,!=2.1.2,!=2.1.6,>=2.0.1 in /usr/local/lib/python3.7/dist-packages (from matplotlib->biosppy) (2.4.7)\n",
      "Requirement already satisfied: python-dateutil>=2.1 in /usr/local/lib/python3.7/dist-packages (from matplotlib->biosppy) (2.8.1)\n",
      "Requirement already satisfied: cycler>=0.10 in /usr/local/lib/python3.7/dist-packages (from matplotlib->biosppy) (0.10.0)\n",
      "Installing collected packages: shortuuid, bidict, biosppy\n",
      "Successfully installed bidict-0.21.2 biosppy-0.7.0 shortuuid-1.0.1\n"
     ]
    }
   ],
   "source": [
    "!pip install biosppy\n"
   ]
  },
  {
   "cell_type": "code",
   "execution_count": 5,
   "metadata": {
    "id": "2QpxcwincDcd"
   },
   "outputs": [],
   "source": [
    "from biosppy.signals import ecg"
   ]
  },
  {
   "cell_type": "code",
   "execution_count": null,
   "metadata": {
    "id": "CjwVdRQEGS9p"
   },
   "outputs": [],
   "source": []
  },
  {
   "cell_type": "code",
   "execution_count": null,
   "metadata": {
    "id": "qnYZFjArGS6k"
   },
   "outputs": [],
   "source": []
  },
  {
   "cell_type": "code",
   "execution_count": 6,
   "metadata": {
    "id": "_ZaazdNvcGZ4"
   },
   "outputs": [],
   "source": [
    "from scipy import signal\n"
   ]
  },
  {
   "cell_type": "code",
   "execution_count": 7,
   "metadata": {
    "colab": {
     "base_uri": "https://localhost:8080/"
    },
    "id": "8okIoYUV1PtT",
    "outputId": "ab496a6f-1748-4ece-9366-baeeffb04ad4"
   },
   "outputs": [
    {
     "data": {
      "text/plain": [
       "0.0    8408\n",
       "3.0    6771\n",
       "1.0    6068\n",
       "4.0    4200\n",
       "2.0    3983\n",
       "Name: 301, dtype: int64"
      ]
     },
     "execution_count": 7,
     "metadata": {},
     "output_type": "execute_result"
    }
   ],
   "source": [
    "new_data['301'].value_counts()"
   ]
  },
  {
   "cell_type": "code",
   "execution_count": null,
   "metadata": {
    "id": "Bcc0zjkMBJ1D"
   },
   "outputs": [],
   "source": []
  },
  {
   "cell_type": "code",
   "execution_count": 8,
   "metadata": {
    "colab": {
     "base_uri": "https://localhost:8080/"
    },
    "id": "3FJkCIkweHcg",
    "outputId": "8a8dc631-a935-4d91-d1d6-de25c2d5fad5"
   },
   "outputs": [
    {
     "name": "stdout",
     "output_type": "stream",
     "text": [
      "(29430, 301)\n"
     ]
    }
   ],
   "source": [
    "data_new = new_data.to_numpy()\n",
    "print(data_new.shape)"
   ]
  },
  {
   "cell_type": "code",
   "execution_count": 9,
   "metadata": {
    "colab": {
     "base_uri": "https://localhost:8080/"
    },
    "id": "BwAI1jWmeIYr",
    "outputId": "44107528-916f-4c44-cda9-6e7f064efed4"
   },
   "outputs": [
    {
     "name": "stdout",
     "output_type": "stream",
     "text": [
      "(29430, 300) (29430,)\n"
     ]
    }
   ],
   "source": [
    "\n",
    "data, labels = data_new[:, :-1], data_new[:, -1]\n",
    "print(data.shape, labels.shape)\n",
    "\n"
   ]
  },
  {
   "cell_type": "code",
   "execution_count": 10,
   "metadata": {
    "id": "jTEjQJt7roeA"
   },
   "outputs": [],
   "source": [
    "sampling_rate = float(300)\n",
    "# filter signal\n",
    "order = int(0.3 * sampling_rate)\n",
    "filter_data = np.zeros((len(data),len(data[0])))\n",
    "for i, (xrow, yrow) in enumerate(zip(data, labels)):\n",
    "  filtered, _, _ = ecg.st.filter_signal(signal=xrow,\n",
    "                                      ftype='FIR',\n",
    "                                      band='bandpass',\n",
    "                                      order=order,\n",
    "                                      frequency=[3, 45],\n",
    "                                      sampling_rate=sampling_rate)\n",
    "  # print(filtered)\n",
    "  filter_data[i] = filtered\n"
   ]
  },
  {
   "cell_type": "code",
   "execution_count": 11,
   "metadata": {
    "colab": {
     "base_uri": "https://localhost:8080/"
    },
    "id": "9AYe6siUenWp",
    "outputId": "e0e07316-61b3-451f-cace-4757f602413e"
   },
   "outputs": [
    {
     "data": {
      "text/plain": [
       "numpy.ndarray"
      ]
     },
     "execution_count": 11,
     "metadata": {},
     "output_type": "execute_result"
    }
   ],
   "source": [
    "type(filter_data)"
   ]
  },
  {
   "cell_type": "code",
   "execution_count": 12,
   "metadata": {},
   "outputs": [
    {
     "data": {
      "text/plain": [
       "29430"
      ]
     },
     "execution_count": 12,
     "metadata": {},
     "output_type": "execute_result"
    }
   ],
   "source": [
    "len(filter_data)"
   ]
  },
  {
   "cell_type": "code",
   "execution_count": null,
   "metadata": {},
   "outputs": [],
   "source": []
  },
  {
   "cell_type": "markdown",
   "metadata": {
    "id": "D0jdX-A_el37"
   },
   "source": [
    "***adding Filters***"
   ]
  },
  {
   "cell_type": "code",
   "execution_count": 13,
   "metadata": {
    "id": "ev63O45UxEms"
   },
   "outputs": [],
   "source": [
    "from sklearn.model_selection import train_test_split\n",
    "\n",
    "X_train, X_valid, y_train, y_valid = train_test_split(filter_data, labels, test_size=0.40, random_state=42)\n",
    "X_valid, X_test, y_valid, y_test = train_test_split(X_valid, y_valid, test_size=0.50, random_state=42)"
   ]
  },
  {
   "cell_type": "code",
   "execution_count": 14,
   "metadata": {
    "colab": {
     "base_uri": "https://localhost:8080/"
    },
    "id": "VqBdRkIflx2l",
    "outputId": "5730d87d-ee7d-4a66-f643-b7a75b05f5bb"
   },
   "outputs": [
    {
     "data": {
      "text/plain": [
       "(array([0., 1., 2., 3., 4.]), array([1705, 1222,  776, 1361,  822]))"
      ]
     },
     "execution_count": 14,
     "metadata": {},
     "output_type": "execute_result"
    }
   ],
   "source": [
    "np.unique(y_valid, return_counts=True\n",
    "          )"
   ]
  },
  {
   "cell_type": "code",
   "execution_count": 15,
   "metadata": {
    "colab": {
     "base_uri": "https://localhost:8080/"
    },
    "id": "C5ikI61KlFSh",
    "outputId": "9b368099-176d-4a4f-d9d2-e350f4614c22"
   },
   "outputs": [
    {
     "data": {
      "text/plain": [
       "(array([0., 1., 2., 3., 4.]), array([5055, 3619, 2389, 4066, 2529]))"
      ]
     },
     "execution_count": 15,
     "metadata": {},
     "output_type": "execute_result"
    }
   ],
   "source": [
    "np.unique(y_train, return_counts=True\n",
    "          )"
   ]
  },
  {
   "cell_type": "code",
   "execution_count": 16,
   "metadata": {},
   "outputs": [
    {
     "data": {
      "text/plain": [
       "(array([0., 1., 2., 3., 4.]), array([1648, 1227,  818, 1344,  849]))"
      ]
     },
     "execution_count": 16,
     "metadata": {},
     "output_type": "execute_result"
    }
   ],
   "source": [
    "np.unique(y_test, return_counts=True)\n"
   ]
  },
  {
   "cell_type": "code",
   "execution_count": 17,
   "metadata": {
    "colab": {
     "base_uri": "https://localhost:8080/"
    },
    "id": "tDAYHeIp458r",
    "outputId": "daabc35a-b8b9-45c5-ac6a-cb0f5191d88b"
   },
   "outputs": [
    {
     "data": {
      "text/plain": [
       "(17658, 300)"
      ]
     },
     "execution_count": 17,
     "metadata": {},
     "output_type": "execute_result"
    }
   ],
   "source": [
    "X_train.shape"
   ]
  },
  {
   "cell_type": "code",
   "execution_count": 18,
   "metadata": {
    "colab": {
     "base_uri": "https://localhost:8080/"
    },
    "id": "U--do23ixEUE",
    "outputId": "0f22ebb1-40f0-4e31-a005-0478f296f987"
   },
   "outputs": [
    {
     "data": {
      "text/plain": [
       "(5886,)"
      ]
     },
     "execution_count": 18,
     "metadata": {},
     "output_type": "execute_result"
    }
   ],
   "source": [
    "y_valid.shape"
   ]
  },
  {
   "cell_type": "code",
   "execution_count": 19,
   "metadata": {
    "id": "nUcv1BqN4-RM"
   },
   "outputs": [
    {
     "data": {
      "text/plain": [
       "(5886,)"
      ]
     },
     "execution_count": 19,
     "metadata": {},
     "output_type": "execute_result"
    }
   ],
   "source": [
    "y_test.shape"
   ]
  },
  {
   "cell_type": "code",
   "execution_count": 20,
   "metadata": {
    "id": "u-sQoc-51e0L"
   },
   "outputs": [],
   "source": [
    "\n",
    "import keras\n",
    "import pandas as pd\n",
    "from keras.layers import Dense, Dropout, LSTM\n",
    "from keras.models import Sequential\n",
    "from keras import regularizers"
   ]
  },
  {
   "cell_type": "code",
   "execution_count": 23,
   "metadata": {
    "id": "JzYSSIKvAVD0"
   },
   "outputs": [],
   "source": [
    "model = None"
   ]
  },
  {
   "cell_type": "code",
   "execution_count": 24,
   "metadata": {
    "colab": {
     "base_uri": "https://localhost:8080/"
    },
    "id": "FEPcBsok1mq5",
    "outputId": "828f3a79-3cd8-41f0-f0f6-fb55d8512536"
   },
   "outputs": [
    {
     "name": "stdout",
     "output_type": "stream",
     "text": [
      "_________________________________________________________________\n",
      "Layer (type)                 Output Shape              Param #   \n",
      "=================================================================\n",
      "lstm_4 (LSTM)                (None, 1, 300)            721200    \n",
      "_________________________________________________________________\n",
      "dropout_5 (Dropout)          (None, 1, 300)            0         \n",
      "_________________________________________________________________\n",
      "lstm_5 (LSTM)                (None, 1, 100)            160400    \n",
      "_________________________________________________________________\n",
      "dropout_6 (Dropout)          (None, 1, 100)            0         \n",
      "_________________________________________________________________\n",
      "lstm_6 (LSTM)                (None, 1, 100)            80400     \n",
      "_________________________________________________________________\n",
      "dropout_7 (Dropout)          (None, 1, 100)            0         \n",
      "_________________________________________________________________\n",
      "dense_3 (Dense)              (None, 1, 64)             6464      \n",
      "_________________________________________________________________\n",
      "dropout_8 (Dropout)          (None, 1, 64)             0         \n",
      "_________________________________________________________________\n",
      "dense_4 (Dense)              (None, 1, 5)              325       \n",
      "=================================================================\n",
      "Total params: 968,789\n",
      "Trainable params: 968,789\n",
      "Non-trainable params: 0\n",
      "_________________________________________________________________\n",
      "None\n"
     ]
    }
   ],
   "source": [
    "dropout_perc = 0.2\n",
    "l2_reg = 0.01\n",
    "model = Sequential()\n",
    "model.add(LSTM(300, return_sequences=True,input_shape=(1,300)))\n",
    "model.add(Dropout(dropout_perc))\n",
    "model.add(LSTM(100, return_sequences=True))\n",
    "model.add(Dropout(dropout_perc))\n",
    "model.add(LSTM(100,return_sequences=True))\n",
    "model.add(Dropout(dropout_perc))\n",
    "model.add(Dense(64, activation='sigmoid'))\n",
    "model.add(Dropout(dropout_perc))\n",
    "model.add(Dense(5, activation='sigmoid', kernel_regularizer=regularizers.l2(l2_reg)))\n",
    "print(model.summary())"
   ]
  },
  {
   "cell_type": "code",
   "execution_count": null,
   "metadata": {
    "colab": {
     "base_uri": "https://localhost:8080/"
    },
    "id": "Kvg6I-RO11cR",
    "outputId": "5751dd20-e866-46b2-f7f1-bafd16518071"
   },
   "outputs": [
    {
     "name": "stdout",
     "output_type": "stream",
     "text": [
      "Collecting livelossplot\n",
      "  Downloading https://files.pythonhosted.org/packages/57/26/840be243088ce142d61c60273408ec09fa1de4534056a56d6e91b73f0cae/livelossplot-0.5.4-py3-none-any.whl\n",
      "Requirement already satisfied: matplotlib in /usr/local/lib/python3.7/dist-packages (from livelossplot) (3.2.2)\n",
      "Requirement already satisfied: ipython in /usr/local/lib/python3.7/dist-packages (from livelossplot) (5.5.0)\n",
      "Requirement already satisfied: bokeh in /usr/local/lib/python3.7/dist-packages (from livelossplot) (2.3.2)\n",
      "Requirement already satisfied: python-dateutil>=2.1 in /usr/local/lib/python3.7/dist-packages (from matplotlib->livelossplot) (2.8.1)\n",
      "Requirement already satisfied: numpy>=1.11 in /usr/local/lib/python3.7/dist-packages (from matplotlib->livelossplot) (1.19.5)\n",
      "Requirement already satisfied: kiwisolver>=1.0.1 in /usr/local/lib/python3.7/dist-packages (from matplotlib->livelossplot) (1.3.1)\n",
      "Requirement already satisfied: cycler>=0.10 in /usr/local/lib/python3.7/dist-packages (from matplotlib->livelossplot) (0.10.0)\n",
      "Requirement already satisfied: pyparsing!=2.0.4,!=2.1.2,!=2.1.6,>=2.0.1 in /usr/local/lib/python3.7/dist-packages (from matplotlib->livelossplot) (2.4.7)\n",
      "Requirement already satisfied: prompt-toolkit<2.0.0,>=1.0.4 in /usr/local/lib/python3.7/dist-packages (from ipython->livelossplot) (1.0.18)\n",
      "Requirement already satisfied: pexpect; sys_platform != \"win32\" in /usr/local/lib/python3.7/dist-packages (from ipython->livelossplot) (4.8.0)\n",
      "Requirement already satisfied: setuptools>=18.5 in /usr/local/lib/python3.7/dist-packages (from ipython->livelossplot) (56.1.0)\n",
      "Requirement already satisfied: decorator in /usr/local/lib/python3.7/dist-packages (from ipython->livelossplot) (4.4.2)\n",
      "Requirement already satisfied: simplegeneric>0.8 in /usr/local/lib/python3.7/dist-packages (from ipython->livelossplot) (0.8.1)\n",
      "Requirement already satisfied: pickleshare in /usr/local/lib/python3.7/dist-packages (from ipython->livelossplot) (0.7.5)\n",
      "Requirement already satisfied: traitlets>=4.2 in /usr/local/lib/python3.7/dist-packages (from ipython->livelossplot) (5.0.5)\n",
      "Requirement already satisfied: pygments in /usr/local/lib/python3.7/dist-packages (from ipython->livelossplot) (2.6.1)\n",
      "Requirement already satisfied: Jinja2>=2.9 in /usr/local/lib/python3.7/dist-packages (from bokeh->livelossplot) (2.11.3)\n",
      "Requirement already satisfied: packaging>=16.8 in /usr/local/lib/python3.7/dist-packages (from bokeh->livelossplot) (20.9)\n",
      "Requirement already satisfied: typing-extensions>=3.7.4 in /usr/local/lib/python3.7/dist-packages (from bokeh->livelossplot) (3.7.4.3)\n",
      "Requirement already satisfied: pillow>=7.1.0 in /usr/local/lib/python3.7/dist-packages (from bokeh->livelossplot) (7.1.2)\n",
      "Requirement already satisfied: PyYAML>=3.10 in /usr/local/lib/python3.7/dist-packages (from bokeh->livelossplot) (3.13)\n",
      "Requirement already satisfied: tornado>=5.1 in /usr/local/lib/python3.7/dist-packages (from bokeh->livelossplot) (5.1.1)\n",
      "Requirement already satisfied: six>=1.5 in /usr/local/lib/python3.7/dist-packages (from python-dateutil>=2.1->matplotlib->livelossplot) (1.15.0)\n",
      "Requirement already satisfied: wcwidth in /usr/local/lib/python3.7/dist-packages (from prompt-toolkit<2.0.0,>=1.0.4->ipython->livelossplot) (0.2.5)\n",
      "Requirement already satisfied: ptyprocess>=0.5 in /usr/local/lib/python3.7/dist-packages (from pexpect; sys_platform != \"win32\"->ipython->livelossplot) (0.7.0)\n",
      "Requirement already satisfied: ipython-genutils in /usr/local/lib/python3.7/dist-packages (from traitlets>=4.2->ipython->livelossplot) (0.2.0)\n",
      "Requirement already satisfied: MarkupSafe>=0.23 in /usr/local/lib/python3.7/dist-packages (from Jinja2>=2.9->bokeh->livelossplot) (2.0.1)\n",
      "Installing collected packages: livelossplot\n",
      "Successfully installed livelossplot-0.5.4\n"
     ]
    }
   ],
   "source": [
    "!pip install livelossplot"
   ]
  },
  {
   "cell_type": "markdown",
   "metadata": {
    "id": "Fcz9Ktg65ZjK"
   },
   "source": []
  },
  {
   "cell_type": "code",
   "execution_count": 25,
   "metadata": {
    "id": "hVMXjfFc150W"
   },
   "outputs": [],
   "source": [
    "model.compile(\n",
    "    optimizer='adam',\n",
    "    loss='categorical_crossentropy',\n",
    "    metrics=['accuracy']\n",
    ")"
   ]
  },
  {
   "cell_type": "code",
   "execution_count": 26,
   "metadata": {
    "colab": {
     "base_uri": "https://localhost:8080/"
    },
    "id": "qL1_j_8y2NdM",
    "outputId": "831a1257-b096-46d9-d129-83764bcd0ae3"
   },
   "outputs": [
    {
     "data": {
      "text/plain": [
       "(17658,)"
      ]
     },
     "execution_count": 26,
     "metadata": {},
     "output_type": "execute_result"
    }
   ],
   "source": [
    "y_train.shape"
   ]
  },
  {
   "cell_type": "code",
   "execution_count": 27,
   "metadata": {
    "colab": {
     "base_uri": "https://localhost:8080/"
    },
    "id": "x6MLitD_20TP",
    "outputId": "c8fe9735-a571-46f7-c5b5-f507f164f874"
   },
   "outputs": [
    {
     "data": {
      "text/plain": [
       "(5886,)"
      ]
     },
     "execution_count": 27,
     "metadata": {},
     "output_type": "execute_result"
    }
   ],
   "source": [
    "y_valid.shape"
   ]
  },
  {
   "cell_type": "code",
   "execution_count": 28,
   "metadata": {
    "id": "ZP8C6SgL3rtX"
   },
   "outputs": [],
   "source": [
    "X_train = np.expand_dims(X_train, axis=1)\n",
    "X_valid = np.expand_dims(X_valid, axis=1)"
   ]
  },
  {
   "cell_type": "markdown",
   "metadata": {
    "id": "UULLVAhc7I9L"
   },
   "source": []
  },
  {
   "cell_type": "code",
   "execution_count": null,
   "metadata": {
    "id": "Us4Wvaz-9D6_"
   },
   "outputs": [],
   "source": []
  },
  {
   "cell_type": "code",
   "execution_count": 29,
   "metadata": {
    "id": "r81IRPFY7DTg"
   },
   "outputs": [],
   "source": [
    "y_train = to_categorical(y_train)\n",
    "y_valid = to_categorical(y_valid)"
   ]
  },
  {
   "cell_type": "code",
   "execution_count": 30,
   "metadata": {
    "id": "lxgG8AC49ia9"
   },
   "outputs": [],
   "source": [
    "y_train = np.expand_dims(y_train, axis=1)\n",
    "y_valid = np.expand_dims(y_valid, axis=1)"
   ]
  },
  {
   "cell_type": "code",
   "execution_count": 31,
   "metadata": {
    "id": "45NvIQi5Xh4Q"
   },
   "outputs": [],
   "source": [
    "from livelossplot import PlotLossesKeras\n",
    "import tensorflow as tf"
   ]
  },
  {
   "cell_type": "code",
   "execution_count": 32,
   "metadata": {
    "colab": {
     "base_uri": "https://localhost:8080/",
     "height": 687
    },
    "id": "moQxqAD618Pn",
    "outputId": "76eef893-c48e-4165-ad5d-e388f3db9bd2"
   },
   "outputs": [
    {
     "name": "stdout",
     "output_type": "stream",
     "text": [
      "Train on 17658 samples, validate on 5886 samples\n",
      "Epoch 1/50\n",
      "17658/17658 [==============================] - 27s 2ms/step - loss: 0.5625 - acc: 0.8554 - val_loss: 0.2913 - val_acc: 0.9606\n",
      "Epoch 2/50\n",
      "17658/17658 [==============================] - 16s 934us/step - loss: 0.2598 - acc: 0.9699 - val_loss: 0.2325 - val_acc: 0.9732\n",
      "Epoch 3/50\n",
      "17658/17658 [==============================] - 17s 962us/step - loss: 0.2222 - acc: 0.9775 - val_loss: 0.2116 - val_acc: 0.9769\n",
      "Epoch 4/50\n",
      "17658/17658 [==============================] - 18s 1ms/step - loss: 0.1961 - acc: 0.9840 - val_loss: 0.1982 - val_acc: 0.9803\n",
      "Epoch 5/50\n",
      "17658/17658 [==============================] - 17s 981us/step - loss: 0.1843 - acc: 0.9858 - val_loss: 0.1989 - val_acc: 0.9791\n",
      "Epoch 6/50\n",
      "17658/17658 [==============================] - 17s 962us/step - loss: 0.1748 - acc: 0.9869 - val_loss: 0.1819 - val_acc: 0.9834\n",
      "Epoch 7/50\n",
      "17658/17658 [==============================] - 17s 989us/step - loss: 0.1609 - acc: 0.9909 - val_loss: 0.1802 - val_acc: 0.9825\n",
      "Epoch 8/50\n",
      "17658/17658 [==============================] - 20s 1ms/step - loss: 0.1553 - acc: 0.9912 - val_loss: 0.1774 - val_acc: 0.9839\n",
      "Epoch 9/50\n",
      "17658/17658 [==============================] - 18s 1ms/step - loss: 0.1491 - acc: 0.9922 - val_loss: 0.1667 - val_acc: 0.9859\n",
      "Epoch 10/50\n",
      "17658/17658 [==============================] - 17s 939us/step - loss: 0.1430 - acc: 0.9931 - val_loss: 0.1690 - val_acc: 0.9844\n",
      "Epoch 11/50\n",
      "17658/17658 [==============================] - 17s 956us/step - loss: 0.1404 - acc: 0.9931 - val_loss: 0.1686 - val_acc: 0.9845\n",
      "Epoch 12/50\n",
      "17658/17658 [==============================] - 18s 1ms/step - loss: 0.1332 - acc: 0.9945 - val_loss: 0.1606 - val_acc: 0.9852\n",
      "Epoch 13/50\n",
      "17658/17658 [==============================] - 17s 987us/step - loss: 0.1339 - acc: 0.9930 - val_loss: 0.1647 - val_acc: 0.9837\n",
      "Epoch 14/50\n",
      "17658/17658 [==============================] - 17s 979us/step - loss: 0.1282 - acc: 0.9947 - val_loss: 0.1579 - val_acc: 0.9854\n",
      "Epoch 15/50\n",
      "17658/17658 [==============================] - 16s 928us/step - loss: 0.1222 - acc: 0.9956 - val_loss: 0.1551 - val_acc: 0.9856\n",
      "Epoch 16/50\n",
      "17658/17658 [==============================] - 16s 896us/step - loss: 0.1190 - acc: 0.9958 - val_loss: 0.1594 - val_acc: 0.9850\n",
      "Epoch 17/50\n",
      "17658/17658 [==============================] - 16s 888us/step - loss: 0.1195 - acc: 0.9955 - val_loss: 0.1538 - val_acc: 0.9850\n",
      "Epoch 18/50\n",
      "17658/17658 [==============================] - 15s 857us/step - loss: 0.1155 - acc: 0.9961 - val_loss: 0.1512 - val_acc: 0.9862\n",
      "Epoch 19/50\n",
      "17658/17658 [==============================] - 15s 859us/step - loss: 0.1115 - acc: 0.9969 - val_loss: 0.1519 - val_acc: 0.9852\n",
      "Epoch 20/50\n",
      "17658/17658 [==============================] - 15s 862us/step - loss: 0.1112 - acc: 0.9969 - val_loss: 0.1482 - val_acc: 0.9859\n",
      "Epoch 21/50\n",
      "17658/17658 [==============================] - 16s 885us/step - loss: 0.1069 - acc: 0.9981 - val_loss: 0.1471 - val_acc: 0.9869\n",
      "Epoch 22/50\n",
      "17658/17658 [==============================] - 16s 911us/step - loss: 0.1058 - acc: 0.9981 - val_loss: 0.1484 - val_acc: 0.9856\n",
      "Epoch 23/50\n",
      "17658/17658 [==============================] - 15s 860us/step - loss: 0.1076 - acc: 0.9968 - val_loss: 0.1540 - val_acc: 0.9847\n",
      "Epoch 24/50\n",
      "17658/17658 [==============================] - 15s 855us/step - loss: 0.1050 - acc: 0.9975 - val_loss: 0.1518 - val_acc: 0.9844\n",
      "Epoch 25/50\n",
      "17658/17658 [==============================] - 15s 859us/step - loss: 0.1054 - acc: 0.9973 - val_loss: 0.1512 - val_acc: 0.9862\n",
      "Epoch 26/50\n",
      "17658/17658 [==============================] - 15s 833us/step - loss: 0.1056 - acc: 0.9971 - val_loss: 0.1537 - val_acc: 0.9854\n",
      "Epoch 27/50\n",
      "17658/17658 [==============================] - 15s 854us/step - loss: 0.1049 - acc: 0.9971 - val_loss: 0.1500 - val_acc: 0.9859\n",
      "Epoch 28/50\n",
      "17658/17658 [==============================] - 15s 864us/step - loss: 0.1040 - acc: 0.9973 - val_loss: 0.1524 - val_acc: 0.9852\n",
      "Epoch 29/50\n",
      "17658/17658 [==============================] - 15s 863us/step - loss: 0.1020 - acc: 0.9975 - val_loss: 0.1543 - val_acc: 0.9844\n"
     ]
    }
   ],
   "source": [
    "history = model.fit(\n",
    "    X_train,\n",
    "    y_train,\n",
    "    validation_data=(X_valid, y_valid),\n",
    "    batch_size=16,\n",
    "    callbacks=[tf.keras.callbacks.EarlyStopping(patience=8)],\n",
    "    epochs=50)"
   ]
  },
  {
   "cell_type": "code",
   "execution_count": null,
   "metadata": {},
   "outputs": [],
   "source": []
  },
  {
   "cell_type": "code",
   "execution_count": 33,
   "metadata": {
    "id": "p-68Rp-N0wvH"
   },
   "outputs": [],
   "source": [
    "test_data = np.expand_dims(X_test, axis=1)\n"
   ]
  },
  {
   "cell_type": "code",
   "execution_count": 34,
   "metadata": {
    "id": "uYnIDglp03PH"
   },
   "outputs": [],
   "source": [
    "test_lables = to_categorical(y_test)\n",
    "test_lables_dims = np.expand_dims(test_lables, axis=1)\n"
   ]
  },
  {
   "cell_type": "code",
   "execution_count": 35,
   "metadata": {},
   "outputs": [
    {
     "data": {
      "text/plain": [
       "5886"
      ]
     },
     "execution_count": 35,
     "metadata": {},
     "output_type": "execute_result"
    }
   ],
   "source": [
    "len(test_data)"
   ]
  },
  {
   "cell_type": "code",
   "execution_count": 69,
   "metadata": {
    "colab": {
     "base_uri": "https://localhost:8080/"
    },
    "id": "A14YSSSe0YC_",
    "outputId": "8d68f57c-37aa-4da4-875b-eccca8cd1a8e"
   },
   "outputs": [
    {
     "name": "stdout",
     "output_type": "stream",
     "text": [
      "Evaluate on test data\n",
      "5886/5886 [==============================] - 1s 154us/step\n",
      "test loss, test acc: [0.15083968198364217, 0.9841997961264016]\n"
     ]
    }
   ],
   "source": [
    "# Evaluate the model on the test data using `evaluate`\n",
    "print(\"Evaluate on test data\")\n",
    "results = model.evaluate(test_data, test_lables_dims)\n",
    "print(\"test loss, test acc:\", results)"
   ]
  },
  {
   "cell_type": "code",
   "execution_count": 63,
   "metadata": {},
   "outputs": [],
   "source": [
    "from sklearn.metrics import accuracy_score\n"
   ]
  },
  {
   "cell_type": "code",
   "execution_count": 80,
   "metadata": {},
   "outputs": [],
   "source": [
    "\n",
    "results = model.predict_classes(test_data)"
   ]
  },
  {
   "cell_type": "code",
   "execution_count": 85,
   "metadata": {},
   "outputs": [
    {
     "data": {
      "text/plain": [
       "array([4., 0., 2., ..., 4., 3., 0.])"
      ]
     },
     "execution_count": 85,
     "metadata": {},
     "output_type": "execute_result"
    }
   ],
   "source": [
    "y_test"
   ]
  },
  {
   "cell_type": "code",
   "execution_count": 87,
   "metadata": {},
   "outputs": [
    {
     "data": {
      "text/plain": [
       "0.9841997961264016"
      ]
     },
     "execution_count": 87,
     "metadata": {},
     "output_type": "execute_result"
    }
   ],
   "source": [
    "accuracy_score(y_test,results) "
   ]
  },
  {
   "cell_type": "code",
   "execution_count": 79,
   "metadata": {},
   "outputs": [
    {
     "data": {
      "text/plain": [
       "5886"
      ]
     },
     "execution_count": 79,
     "metadata": {},
     "output_type": "execute_result"
    }
   ],
   "source": [
    "len(results)"
   ]
  },
  {
   "cell_type": "code",
   "execution_count": 68,
   "metadata": {},
   "outputs": [
    {
     "data": {
      "text/plain": [
       "numpy.ndarray"
      ]
     },
     "execution_count": 68,
     "metadata": {},
     "output_type": "execute_result"
    }
   ],
   "source": [
    "type(test_lables_dims)"
   ]
  },
  {
   "cell_type": "code",
   "execution_count": 43,
   "metadata": {
    "id": "C4je0MFj6-ZX"
   },
   "outputs": [],
   "source": [
    "valloss = min(history.history['val_loss'])"
   ]
  },
  {
   "cell_type": "code",
   "execution_count": 44,
   "metadata": {},
   "outputs": [
    {
     "data": {
      "text/plain": [
       "0.14706905578578608"
      ]
     },
     "execution_count": 44,
     "metadata": {},
     "output_type": "execute_result"
    }
   ],
   "source": [
    "valloss"
   ]
  },
  {
   "cell_type": "code",
   "execution_count": 45,
   "metadata": {
    "colab": {
     "base_uri": "https://localhost:8080/",
     "height": 232
    },
    "id": "VT2Wh3Qs5mY-",
    "outputId": "c6f02c6e-af5b-4f37-897f-c84fdf62e4a2"
   },
   "outputs": [],
   "source": [
    "minval = (history.history['val_loss']).index(valloss)"
   ]
  },
  {
   "cell_type": "code",
   "execution_count": 48,
   "metadata": {
    "colab": {
     "base_uri": "https://localhost:8080/",
     "height": 991
    },
    "id": "IIiOHeLR4b2d",
    "outputId": "87b85476-9b4c-42b2-b1a5-333e668d35c9"
   },
   "outputs": [
    {
     "data": {
      "text/plain": [
       "Text(0, 0.5, 'loss')"
      ]
     },
     "execution_count": 48,
     "metadata": {},
     "output_type": "execute_result"
    },
    {
     "data": {
      "image/png": "[encoded data removed]",
      "text/plain": [
       "<Figure size 432x288 with 1 Axes>"
      ]
     },
     "metadata": {
      "needs_background": "light"
     },
     "output_type": "display_data"
    }
   ],
   "source": [
    "plt.plot(history.history['val_loss'],markevery=[minval],marker='o', color='r')\n",
    "plt.xlabel(\"epocs\")\n",
    "plt.ylabel(\"loss\")"
   ]
  },
  {
   "cell_type": "code",
   "execution_count": 51,
   "metadata": {},
   "outputs": [
    {
     "data": {
      "text/plain": [
       "[0.9605844376486579,\n",
       " 0.9731566428814136,\n",
       " 0.9768943255181787,\n",
       " 0.9802922188243289,\n",
       " 0.9791029561671764,\n",
       " 0.9833503227998641,\n",
       " 0.9825008494733265,\n",
       " 0.9838600067957866,\n",
       " 0.9858987427794768,\n",
       " 0.9843696907917091,\n",
       " 0.9845395854570167,\n",
       " 0.9852191641182467,\n",
       " 0.9836901121304791,\n",
       " 0.9853890587835542,\n",
       " 0.9855589534488617,\n",
       " 0.9850492694529391,\n",
       " 0.9850492694529391,\n",
       " 0.9862385321100917,\n",
       " 0.9852191641182467,\n",
       " 0.9858987427794768,\n",
       " 0.9869181107713217,\n",
       " 0.9855589534488617,\n",
       " 0.9847094801223242,\n",
       " 0.9843696907917091,\n",
       " 0.9862385321100917,\n",
       " 0.9853890587835542,\n",
       " 0.9858987427794768,\n",
       " 0.9852191641182467,\n",
       " 0.9843696907917091]"
      ]
     },
     "execution_count": 51,
     "metadata": {},
     "output_type": "execute_result"
    }
   ],
   "source": [
    "history.history['val_acc']"
   ]
  },
  {
   "cell_type": "code",
   "execution_count": null,
   "metadata": {},
   "outputs": [],
   "source": []
  },
  {
   "cell_type": "code",
   "execution_count": 53,
   "metadata": {
    "colab": {
     "base_uri": "https://localhost:8080/",
     "height": 296
    },
    "id": "fEy1hm120X_Z",
    "outputId": "4747e3a3-8ee6-4c36-c799-b58c8449641a"
   },
   "outputs": [
    {
     "data": {
      "text/plain": [
       "Text(0, 0.5, 'accuracy')"
      ]
     },
     "execution_count": 53,
     "metadata": {},
     "output_type": "execute_result"
    },
    {
     "data": {
      "image/png": "[encoded data removed]",
      "text/plain": [
       "<Figure size 432x288 with 1 Axes>"
      ]
     },
     "metadata": {
      "needs_background": "light"
     },
     "output_type": "display_data"
    }
   ],
   "source": [
    "plt.plot(history.history['val_acc'],marker='o', color='b')\n",
    "plt.xlabel(\"epocs\")\n",
    "plt.ylabel(\"accuracy\")"
   ]
  },
  {
   "cell_type": "code",
   "execution_count": null,
   "metadata": {
    "id": "YdRbOo_30X1-"
   },
   "outputs": [],
   "source": []
  },
  {
   "cell_type": "code",
   "execution_count": null,
   "metadata": {
    "id": "yXy4mqQh2Jkf"
   },
   "outputs": [],
   "source": [
    "model.save('LSTM_50_E_balanceddata_FILTER.h5')"
   ]
  },
  {
   "cell_type": "code",
   "execution_count": null,
   "metadata": {
    "colab": {
     "base_uri": "https://localhost:8080/",
     "height": 1000
    },
    "id": "OYzuCtcQCiiE",
    "outputId": "c18e0ec9-e9e1-4281-e2e6-6d0933ade092"
   },
   "outputs": [
    {
     "data": {
      "image/png": "[encoded data removed]",
      "text/plain": [
       "<IPython.core.display.Image object>"
      ]
     },
     "execution_count": 55,
     "metadata": {
      "tags": []
     },
     "output_type": "execute_result"
    }
   ],
   "source": [
    "plot_model(model, to_file='model_plot.png', rankdir='TB',show_dtype=True,show_shapes=True, show_layer_names=True)"
   ]
  },
  {
   "cell_type": "code",
   "execution_count": null,
   "metadata": {},
   "outputs": [],
   "source": []
  }
 ],
 "metadata": {
  "accelerator": "GPU",
  "colab": {
   "collapsed_sections": [],
   "name": "LSTM.ipynb",
   "provenance": []
  },
  "kernelspec": {
   "display_name": "Python 3",
   "name": "python3"
  },
  "language_info": {
   "codemirror_mode": {
    "name": "ipython",
    "version": 3
   },
   "file_extension": ".py",
   "mimetype": "text/x-python",
   "name": "python",
   "nbconvert_exporter": "python",
   "pygments_lexer": "ipython3",
   "version": "3.7.9"
  }
 },
 "nbformat": 4,
 "nbformat_minor": 1
}
