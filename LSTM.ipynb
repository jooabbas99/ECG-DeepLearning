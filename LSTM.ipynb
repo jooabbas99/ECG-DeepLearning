{
 "cells": [
  {
   "cell_type": "code",
   "execution_count": 1,
   "metadata": {
    "id": "PuLC3KMg-bNb"
   },
   "outputs": [],
   "source": [
    "# only for macbook with AMD GPU\n",
    "import os\n",
    "import plaidml.keras\n",
    "plaidml.keras.install_backend()\n",
    "os.environ[\"KERAS_BACKEND\"] = \"plaidml.keras.backend\"\n"
   ]
  },
  {
   "cell_type": "code",
   "execution_count": 2,
   "metadata": {
    "id": "LBmnQGcjZ2T-"
   },
   "outputs": [],
   "source": [
    "from __future__ import print_function\n",
    "import warnings\n",
    "warnings.filterwarnings('ignore')\n",
    "import numpy as np\n",
    "import pandas as pd\n",
    "import matplotlib.pyplot as plt\n",
    "from keras.utils.np_utils import to_categorical\n",
    "import cv2\n",
    "import os\n",
    "from tqdm.notebook import tqdm\n",
    "from tensorflow.keras.models import Sequential, Model\n",
    "from tensorflow.keras.layers import Dense, Dropout, Activation, Flatten\n",
    "from tensorflow.keras.layers import Conv2D, MaxPooling2D, ZeroPadding2D\n",
    "from tensorflow.keras.layers import BatchNormalization\n",
    "from keras.regularizers import l2\n",
    "from tensorflow.keras.preprocessing.image import ImageDataGenerator\n",
    "from tensorflow.keras import optimizers\n",
    "import tensorflow.keras as keras\n",
    "import tensorflow.keras.backend as K\n",
    "from tensorflow.keras.models import load_model"
   ]
  },
  {
   "cell_type": "code",
   "execution_count": 4,
   "metadata": {
    "colab": {
     "base_uri": "https://localhost:8080/"
    },
    "id": "ewg3TZwIbx0s",
    "outputId": "d0c03124-58bf-494c-9a52-9173d0b8f507"
   },
   "outputs": [
    {
     "name": "stdout",
     "output_type": "stream",
     "text": [
      "zsh:pwd:1: too many arguments\r\n"
     ]
    }
   ],
   "source": [
    "!pwd all_in_one_MIT_BIH_DATASET_32_5_2021.csv"
   ]
  },
  {
   "cell_type": "code",
   "execution_count": 3,
   "metadata": {
    "id": "_A7XkZC_bn8p"
   },
   "outputs": [],
   "source": [
    "data = pd.read_csv('./../New Folder With Items/MIT_BIH_DATASET_Resampled_Filltered_6_2021.csv')"
   ]
  },
  {
   "cell_type": "markdown",
   "metadata": {
    "id": "wGk973dpKxkV"
   },
   "source": []
  },
  {
   "cell_type": "code",
   "execution_count": 4,
   "metadata": {
    "colab": {
     "base_uri": "https://localhost:8080/",
     "height": 253
    },
    "id": "IxpT5k-vb6Vu",
    "outputId": "0f863acf-b122-498f-f525-2c6707518f2b"
   },
   "outputs": [
    {
     "data": {
      "text/html": [
       "<div>\n",
       "<style scoped>\n",
       "    .dataframe tbody tr th:only-of-type {\n",
       "        vertical-align: middle;\n",
       "    }\n",
       "\n",
       "    .dataframe tbody tr th {\n",
       "        vertical-align: top;\n",
       "    }\n",
       "\n",
       "    .dataframe thead th {\n",
       "        text-align: right;\n",
       "    }\n",
       "</style>\n",
       "<table border=\"1\" class=\"dataframe\">\n",
       "  <thead>\n",
       "    <tr style=\"text-align: right;\">\n",
       "      <th></th>\n",
       "      <th>1</th>\n",
       "      <th>2</th>\n",
       "      <th>3</th>\n",
       "      <th>4</th>\n",
       "      <th>5</th>\n",
       "      <th>6</th>\n",
       "      <th>7</th>\n",
       "      <th>8</th>\n",
       "      <th>9</th>\n",
       "      <th>10</th>\n",
       "      <th>...</th>\n",
       "      <th>292</th>\n",
       "      <th>293</th>\n",
       "      <th>294</th>\n",
       "      <th>295</th>\n",
       "      <th>296</th>\n",
       "      <th>297</th>\n",
       "      <th>298</th>\n",
       "      <th>299</th>\n",
       "      <th>300</th>\n",
       "      <th>301</th>\n",
       "    </tr>\n",
       "  </thead>\n",
       "  <tbody>\n",
       "    <tr>\n",
       "      <th>0</th>\n",
       "      <td>0.239643</td>\n",
       "      <td>0.164720</td>\n",
       "      <td>0.137425</td>\n",
       "      <td>0.084942</td>\n",
       "      <td>0.153273</td>\n",
       "      <td>0.184037</td>\n",
       "      <td>0.238504</td>\n",
       "      <td>0.157602</td>\n",
       "      <td>0.127725</td>\n",
       "      <td>0.120196</td>\n",
       "      <td>...</td>\n",
       "      <td>0.013269</td>\n",
       "      <td>-0.090593</td>\n",
       "      <td>-0.083783</td>\n",
       "      <td>-0.010214</td>\n",
       "      <td>0.003538</td>\n",
       "      <td>-0.048281</td>\n",
       "      <td>0.013559</td>\n",
       "      <td>-0.054481</td>\n",
       "      <td>-0.037631</td>\n",
       "      <td>0.0</td>\n",
       "    </tr>\n",
       "    <tr>\n",
       "      <th>1</th>\n",
       "      <td>-0.019156</td>\n",
       "      <td>0.056494</td>\n",
       "      <td>0.085993</td>\n",
       "      <td>0.016801</td>\n",
       "      <td>-0.018386</td>\n",
       "      <td>-0.057010</td>\n",
       "      <td>-0.068422</td>\n",
       "      <td>0.026895</td>\n",
       "      <td>-0.014682</td>\n",
       "      <td>-0.062788</td>\n",
       "      <td>...</td>\n",
       "      <td>-0.001479</td>\n",
       "      <td>-0.108656</td>\n",
       "      <td>-0.058153</td>\n",
       "      <td>0.001199</td>\n",
       "      <td>-0.007415</td>\n",
       "      <td>0.059003</td>\n",
       "      <td>-0.032712</td>\n",
       "      <td>-0.101004</td>\n",
       "      <td>-0.121043</td>\n",
       "      <td>0.0</td>\n",
       "    </tr>\n",
       "    <tr>\n",
       "      <th>2</th>\n",
       "      <td>-0.070916</td>\n",
       "      <td>-0.072735</td>\n",
       "      <td>-0.068566</td>\n",
       "      <td>-0.088535</td>\n",
       "      <td>-0.195064</td>\n",
       "      <td>-0.250222</td>\n",
       "      <td>-0.174585</td>\n",
       "      <td>-0.172860</td>\n",
       "      <td>-0.113858</td>\n",
       "      <td>-0.149651</td>\n",
       "      <td>...</td>\n",
       "      <td>0.060226</td>\n",
       "      <td>0.045062</td>\n",
       "      <td>0.087087</td>\n",
       "      <td>0.094336</td>\n",
       "      <td>0.015158</td>\n",
       "      <td>0.011150</td>\n",
       "      <td>0.037077</td>\n",
       "      <td>0.060055</td>\n",
       "      <td>0.027918</td>\n",
       "      <td>0.0</td>\n",
       "    </tr>\n",
       "    <tr>\n",
       "      <th>3</th>\n",
       "      <td>-0.045036</td>\n",
       "      <td>-0.015860</td>\n",
       "      <td>-0.051289</td>\n",
       "      <td>0.046698</td>\n",
       "      <td>0.046348</td>\n",
       "      <td>-0.004921</td>\n",
       "      <td>-0.084028</td>\n",
       "      <td>-0.172101</td>\n",
       "      <td>-0.150082</td>\n",
       "      <td>-0.089753</td>\n",
       "      <td>...</td>\n",
       "      <td>0.006724</td>\n",
       "      <td>0.015977</td>\n",
       "      <td>0.054514</td>\n",
       "      <td>0.133155</td>\n",
       "      <td>0.123297</td>\n",
       "      <td>0.076452</td>\n",
       "      <td>0.054817</td>\n",
       "      <td>-0.004272</td>\n",
       "      <td>-0.099234</td>\n",
       "      <td>0.0</td>\n",
       "    </tr>\n",
       "    <tr>\n",
       "      <th>4</th>\n",
       "      <td>0.006723</td>\n",
       "      <td>0.028755</td>\n",
       "      <td>0.040530</td>\n",
       "      <td>-0.042902</td>\n",
       "      <td>-0.081792</td>\n",
       "      <td>-0.152608</td>\n",
       "      <td>-0.105317</td>\n",
       "      <td>-0.062382</td>\n",
       "      <td>-0.040877</td>\n",
       "      <td>-0.144280</td>\n",
       "      <td>...</td>\n",
       "      <td>0.135370</td>\n",
       "      <td>0.078398</td>\n",
       "      <td>0.127388</td>\n",
       "      <td>0.167807</td>\n",
       "      <td>0.151218</td>\n",
       "      <td>0.076355</td>\n",
       "      <td>0.054625</td>\n",
       "      <td>0.005897</td>\n",
       "      <td>0.060152</td>\n",
       "      <td>0.0</td>\n",
       "    </tr>\n",
       "  </tbody>\n",
       "</table>\n",
       "<p>5 rows × 301 columns</p>\n",
       "</div>"
      ],
      "text/plain": [
       "          1         2         3         4         5         6         7  \\\n",
       "0  0.239643  0.164720  0.137425  0.084942  0.153273  0.184037  0.238504   \n",
       "1 -0.019156  0.056494  0.085993  0.016801 -0.018386 -0.057010 -0.068422   \n",
       "2 -0.070916 -0.072735 -0.068566 -0.088535 -0.195064 -0.250222 -0.174585   \n",
       "3 -0.045036 -0.015860 -0.051289  0.046698  0.046348 -0.004921 -0.084028   \n",
       "4  0.006723  0.028755  0.040530 -0.042902 -0.081792 -0.152608 -0.105317   \n",
       "\n",
       "          8         9        10  ...       292       293       294       295  \\\n",
       "0  0.157602  0.127725  0.120196  ...  0.013269 -0.090593 -0.083783 -0.010214   \n",
       "1  0.026895 -0.014682 -0.062788  ... -0.001479 -0.108656 -0.058153  0.001199   \n",
       "2 -0.172860 -0.113858 -0.149651  ...  0.060226  0.045062  0.087087  0.094336   \n",
       "3 -0.172101 -0.150082 -0.089753  ...  0.006724  0.015977  0.054514  0.133155   \n",
       "4 -0.062382 -0.040877 -0.144280  ...  0.135370  0.078398  0.127388  0.167807   \n",
       "\n",
       "        296       297       298       299       300  301  \n",
       "0  0.003538 -0.048281  0.013559 -0.054481 -0.037631  0.0  \n",
       "1 -0.007415  0.059003 -0.032712 -0.101004 -0.121043  0.0  \n",
       "2  0.015158  0.011150  0.037077  0.060055  0.027918  0.0  \n",
       "3  0.123297  0.076452  0.054817 -0.004272 -0.099234  0.0  \n",
       "4  0.151218  0.076355  0.054625  0.005897  0.060152  0.0  \n",
       "\n",
       "[5 rows x 301 columns]"
      ]
     },
     "execution_count": 4,
     "metadata": {},
     "output_type": "execute_result"
    }
   ],
   "source": [
    "data.head()"
   ]
  },
  {
   "cell_type": "code",
   "execution_count": null,
   "metadata": {
    "colab": {
     "base_uri": "https://localhost:8080/"
    },
    "id": "iwM0HO43b98_",
    "outputId": "6cfa622b-cfba-4669-b009-3af5aff5bbfe"
   },
   "outputs": [
    {
     "name": "stdout",
     "output_type": "stream",
     "text": [
      "Collecting biosppy\n",
      "\u001b[?25l  Downloading https://files.pythonhosted.org/packages/c3/12/1f2f5e58e40513a4a7c71b0a5e2acc06637bd5c405e0b3be7ce5ada7729c/biosppy-0.7.0-py2.py3-none-any.whl (89kB)\n",
      "\r",
      "\u001b[K     |███▋                            | 10kB 24.1MB/s eta 0:00:01\r",
      "\u001b[K     |███████▎                        | 20kB 30.2MB/s eta 0:00:01\r",
      "\u001b[K     |███████████                     | 30kB 24.2MB/s eta 0:00:01\r",
      "\u001b[K     |██████████████▋                 | 40kB 18.0MB/s eta 0:00:01\r",
      "\u001b[K     |██████████████████▎             | 51kB 8.3MB/s eta 0:00:01\r",
      "\u001b[K     |██████████████████████          | 61kB 9.7MB/s eta 0:00:01\r",
      "\u001b[K     |█████████████████████████▋      | 71kB 9.8MB/s eta 0:00:01\r",
      "\u001b[K     |█████████████████████████████▎  | 81kB 9.8MB/s eta 0:00:01\r",
      "\u001b[K     |████████████████████████████████| 92kB 5.4MB/s \n",
      "\u001b[?25hRequirement already satisfied: scikit-learn in /usr/local/lib/python3.7/dist-packages (from biosppy) (0.22.2.post1)\n",
      "Requirement already satisfied: h5py in /usr/local/lib/python3.7/dist-packages (from biosppy) (3.1.0)\n",
      "Collecting shortuuid\n",
      "  Downloading https://files.pythonhosted.org/packages/25/a6/2ecc1daa6a304e7f1b216f0896b26156b78e7c38e1211e9b798b4716c53d/shortuuid-1.0.1-py3-none-any.whl\n",
      "Requirement already satisfied: matplotlib in /usr/local/lib/python3.7/dist-packages (from biosppy) (3.2.2)\n",
      "Requirement already satisfied: numpy in /usr/local/lib/python3.7/dist-packages (from biosppy) (1.19.5)\n",
      "Collecting bidict\n",
      "  Downloading https://files.pythonhosted.org/packages/67/d4/eaf9242722bf991e0955380dd6168020cb15a71cc0d3cc2373f4911b1f1d/bidict-0.21.2-py2.py3-none-any.whl\n",
      "Requirement already satisfied: scipy in /usr/local/lib/python3.7/dist-packages (from biosppy) (1.4.1)\n",
      "Requirement already satisfied: six in /usr/local/lib/python3.7/dist-packages (from biosppy) (1.15.0)\n",
      "Requirement already satisfied: joblib in /usr/local/lib/python3.7/dist-packages (from biosppy) (1.0.1)\n",
      "Requirement already satisfied: cached-property; python_version < \"3.8\" in /usr/local/lib/python3.7/dist-packages (from h5py->biosppy) (1.5.2)\n",
      "Requirement already satisfied: kiwisolver>=1.0.1 in /usr/local/lib/python3.7/dist-packages (from matplotlib->biosppy) (1.3.1)\n",
      "Requirement already satisfied: pyparsing!=2.0.4,!=2.1.2,!=2.1.6,>=2.0.1 in /usr/local/lib/python3.7/dist-packages (from matplotlib->biosppy) (2.4.7)\n",
      "Requirement already satisfied: python-dateutil>=2.1 in /usr/local/lib/python3.7/dist-packages (from matplotlib->biosppy) (2.8.1)\n",
      "Requirement already satisfied: cycler>=0.10 in /usr/local/lib/python3.7/dist-packages (from matplotlib->biosppy) (0.10.0)\n",
      "Installing collected packages: shortuuid, bidict, biosppy\n",
      "Successfully installed bidict-0.21.2 biosppy-0.7.0 shortuuid-1.0.1\n"
     ]
    }
   ],
   "source": [
    "!pip install biosppy\n"
   ]
  },
  {
   "cell_type": "code",
   "execution_count": 5,
   "metadata": {
    "id": "2QpxcwincDcd"
   },
   "outputs": [],
   "source": [
    "from biosppy.signals import ecg"
   ]
  },
  {
   "cell_type": "code",
   "execution_count": null,
   "metadata": {
    "id": "CjwVdRQEGS9p"
   },
   "outputs": [],
   "source": []
  },
  {
   "cell_type": "code",
   "execution_count": null,
   "metadata": {
    "id": "qnYZFjArGS6k"
   },
   "outputs": [],
   "source": []
  },
  {
   "cell_type": "code",
   "execution_count": 6,
   "metadata": {
    "id": "_ZaazdNvcGZ4"
   },
   "outputs": [],
   "source": [
    "from scipy import signal\n"
   ]
  },
  {
   "cell_type": "code",
   "execution_count": 7,
   "metadata": {
    "colab": {
     "base_uri": "https://localhost:8080/"
    },
    "id": "8okIoYUV1PtT",
    "outputId": "ab496a6f-1748-4ece-9366-baeeffb04ad4"
   },
   "outputs": [
    {
     "data": {
      "text/plain": [
       "0.0    8408\n",
       "3.0    6771\n",
       "1.0    6068\n",
       "2.0    3983\n",
       "4.0    1970\n",
       "Name: 301, dtype: int64"
      ]
     },
     "execution_count": 7,
     "metadata": {},
     "output_type": "execute_result"
    }
   ],
   "source": [
    "data['301'].value_counts()"
   ]
  },
  {
   "cell_type": "code",
   "execution_count": 8,
   "metadata": {
    "id": "Bcc0zjkMBJ1D"
   },
   "outputs": [
    {
     "name": "stdout",
     "output_type": "stream",
     "text": [
      "2.2.4-tf\n"
     ]
    }
   ],
   "source": [
    "print(keras.__version__)"
   ]
  },
  {
   "cell_type": "code",
   "execution_count": 9,
   "metadata": {
    "colab": {
     "base_uri": "https://localhost:8080/"
    },
    "id": "3FJkCIkweHcg",
    "outputId": "8a8dc631-a935-4d91-d1d6-de25c2d5fad5"
   },
   "outputs": [
    {
     "name": "stdout",
     "output_type": "stream",
     "text": [
      "(27200, 301)\n"
     ]
    }
   ],
   "source": [
    "data_new = data.to_numpy()\n",
    "print(data_new.shape)"
   ]
  },
  {
   "cell_type": "code",
   "execution_count": 10,
   "metadata": {
    "colab": {
     "base_uri": "https://localhost:8080/"
    },
    "id": "BwAI1jWmeIYr",
    "outputId": "44107528-916f-4c44-cda9-6e7f064efed4"
   },
   "outputs": [
    {
     "name": "stdout",
     "output_type": "stream",
     "text": [
      "(27200, 300) (27200,)\n"
     ]
    }
   ],
   "source": [
    "\n",
    "data, labels = data_new[:, :-1], data_new[:, -1]\n",
    "print(data.shape, labels.shape)\n",
    "\n"
   ]
  },
  {
   "cell_type": "code",
   "execution_count": 11,
   "metadata": {},
   "outputs": [],
   "source": [
    "from sklearn.utils import class_weight\n"
   ]
  },
  {
   "cell_type": "code",
   "execution_count": 12,
   "metadata": {},
   "outputs": [],
   "source": [
    "class_weights = class_weight.compute_class_weight('balanced',\n",
    "                                                 np.unique(labels),\n",
    "                                                 labels)"
   ]
  },
  {
   "cell_type": "code",
   "execution_count": 13,
   "metadata": {},
   "outputs": [
    {
     "data": {
      "text/plain": [
       "array([0.64700285, 0.89650626, 1.36580467, 0.80342638, 2.76142132])"
      ]
     },
     "execution_count": 13,
     "metadata": {},
     "output_type": "execute_result"
    }
   ],
   "source": [
    "class_weights"
   ]
  },
  {
   "cell_type": "code",
   "execution_count": 14,
   "metadata": {},
   "outputs": [],
   "source": [
    "def scale_data(data, lower=0, upper=1024):\n",
    "    '''scales passed sequence between thresholds\n",
    "\n",
    "    Function that scales passed data so that it has specified lower \n",
    "    and upper bounds.\n",
    "    \n",
    "    Parameters\n",
    "    ----------\n",
    "    data : 1-d array or list\n",
    "        Sequence to be scaled\n",
    "\n",
    "    lower : int or float\n",
    "        lower threshold for scaling\n",
    "        default : 0\n",
    "\n",
    "    upper : int or float\n",
    "        upper threshold for scaling\n",
    "        default : 1024\n",
    "\n",
    "    Returns\n",
    "    -------\n",
    "    out : 1-d array\n",
    "        contains scaled data\n",
    "\n",
    "    Examples\n",
    "    --------\n",
    "    When passing data without further arguments to the function means it scales 0-1024\n",
    "    \n",
    "    >>> x = [2, 3, 4, 5]\n",
    "    >>> scale_data(x)\n",
    "    array([   0.        ,  341.33333333,  682.66666667, 1024.        ])\n",
    "\n",
    "    Or you can specify a range:\n",
    "\n",
    "    >>> scale_data(x, lower = 50, upper = 124)\n",
    "    array([ 50.        ,  74.66666667,  99.33333333, 124.        ])\n",
    "    '''\n",
    "\n",
    "    rng = np.max(data) - np.min(data)\n",
    "    minimum = np.min(data)\n",
    "    data = (upper - lower) * ((data - minimum) / rng) + lower\n",
    "    return data"
   ]
  },
  {
   "cell_type": "code",
   "execution_count": null,
   "metadata": {},
   "outputs": [],
   "source": []
  },
  {
   "cell_type": "code",
   "execution_count": 15,
   "metadata": {
    "id": "jTEjQJt7roeA"
   },
   "outputs": [],
   "source": [
    "sampling_rate = float(300)\n",
    "# filter signal\n",
    "order = int(0.3 * sampling_rate)\n",
    "filter_data = np.zeros((len(data),len(data[0])))\n",
    "for i, (xrow, yrow) in enumerate(zip(data, labels)):\n",
    "  filtered, _, _ = ecg.st.filter_signal(signal=xrow,\n",
    "                                      ftype='FIR',\n",
    "                                      band='bandpass',\n",
    "                                      order=order,\n",
    "                                      frequency=[3, 45],\n",
    "                                      sampling_rate=sampling_rate)\n",
    "    \n",
    "  # print(filtered)\n",
    "  scaled = scale_data(filtered,lower=0, upper=1)\n",
    "  filter_data[i] = scaled"
   ]
  },
  {
   "cell_type": "markdown",
   "metadata": {
    "id": "D0jdX-A_el37"
   },
   "source": [
    "***adding Filters***"
   ]
  },
  {
   "cell_type": "code",
   "execution_count": 17,
   "metadata": {
    "id": "ev63O45UxEms"
   },
   "outputs": [],
   "source": [
    "from sklearn.model_selection import train_test_split\n",
    "\n",
    "X_train, X_valid, y_train, y_valid = train_test_split(filter_data, labels, test_size=0.40, random_state=42)\n",
    "X_valid, X_test, y_valid, y_test = train_test_split(X_valid, y_valid, test_size=0.50, random_state=42)"
   ]
  },
  {
   "cell_type": "code",
   "execution_count": 18,
   "metadata": {
    "colab": {
     "base_uri": "https://localhost:8080/"
    },
    "id": "VqBdRkIflx2l",
    "outputId": "5730d87d-ee7d-4a66-f643-b7a75b05f5bb"
   },
   "outputs": [
    {
     "data": {
      "text/plain": [
       "(array([0., 1., 2., 3., 4.]), array([1673, 1206,  813, 1371,  377]))"
      ]
     },
     "execution_count": 18,
     "metadata": {},
     "output_type": "execute_result"
    }
   ],
   "source": [
    "np.unique(y_valid, return_counts=True\n",
    "          )"
   ]
  },
  {
   "cell_type": "code",
   "execution_count": 19,
   "metadata": {
    "colab": {
     "base_uri": "https://localhost:8080/"
    },
    "id": "C5ikI61KlFSh",
    "outputId": "9b368099-176d-4a4f-d9d2-e350f4614c22"
   },
   "outputs": [
    {
     "data": {
      "text/plain": [
       "(array([0., 1., 2., 3., 4.]), array([5048, 3650, 2375, 4058, 1189]))"
      ]
     },
     "execution_count": 19,
     "metadata": {},
     "output_type": "execute_result"
    }
   ],
   "source": [
    "np.unique(y_train, return_counts=True\n",
    "          )"
   ]
  },
  {
   "cell_type": "code",
   "execution_count": 20,
   "metadata": {},
   "outputs": [
    {
     "data": {
      "text/plain": [
       "(array([0., 1., 2., 3., 4.]), array([1687, 1212,  795, 1342,  404]))"
      ]
     },
     "execution_count": 20,
     "metadata": {},
     "output_type": "execute_result"
    }
   ],
   "source": [
    "np.unique(y_test, return_counts=True)\n"
   ]
  },
  {
   "cell_type": "code",
   "execution_count": 21,
   "metadata": {
    "colab": {
     "base_uri": "https://localhost:8080/"
    },
    "id": "tDAYHeIp458r",
    "outputId": "daabc35a-b8b9-45c5-ac6a-cb0f5191d88b"
   },
   "outputs": [
    {
     "data": {
      "text/plain": [
       "(16320, 300)"
      ]
     },
     "execution_count": 21,
     "metadata": {},
     "output_type": "execute_result"
    }
   ],
   "source": [
    "X_train.shape"
   ]
  },
  {
   "cell_type": "code",
   "execution_count": 22,
   "metadata": {
    "colab": {
     "base_uri": "https://localhost:8080/"
    },
    "id": "U--do23ixEUE",
    "outputId": "0f22ebb1-40f0-4e31-a005-0478f296f987"
   },
   "outputs": [
    {
     "data": {
      "text/plain": [
       "(5440,)"
      ]
     },
     "execution_count": 22,
     "metadata": {},
     "output_type": "execute_result"
    }
   ],
   "source": [
    "y_valid.shape"
   ]
  },
  {
   "cell_type": "code",
   "execution_count": 23,
   "metadata": {
    "id": "nUcv1BqN4-RM"
   },
   "outputs": [
    {
     "data": {
      "text/plain": [
       "(5440,)"
      ]
     },
     "execution_count": 23,
     "metadata": {},
     "output_type": "execute_result"
    }
   ],
   "source": [
    "y_test.shape"
   ]
  },
  {
   "cell_type": "code",
   "execution_count": 24,
   "metadata": {
    "id": "u-sQoc-51e0L"
   },
   "outputs": [],
   "source": [
    "\n",
    "import keras\n",
    "import pandas as pd\n",
    "from keras.layers import Dense, Dropout, LSTM\n",
    "from keras.models import Sequential\n",
    "from keras import regularizers"
   ]
  },
  {
   "cell_type": "code",
   "execution_count": 25,
   "metadata": {
    "id": "JzYSSIKvAVD0"
   },
   "outputs": [],
   "source": [
    "model = None"
   ]
  },
  {
   "cell_type": "code",
   "execution_count": 26,
   "metadata": {
    "colab": {
     "base_uri": "https://localhost:8080/"
    },
    "id": "FEPcBsok1mq5",
    "outputId": "828f3a79-3cd8-41f0-f0f6-fb55d8512536"
   },
   "outputs": [
    {
     "name": "stderr",
     "output_type": "stream",
     "text": [
      "INFO:plaidml:Opening device \"metal_amd_radeon_pro_5300m.0\"\n"
     ]
    },
    {
     "name": "stdout",
     "output_type": "stream",
     "text": [
      "_________________________________________________________________\n",
      "Layer (type)                 Output Shape              Param #   \n",
      "=================================================================\n",
      "lstm_1 (LSTM)                (None, 1, 300)            721200    \n",
      "_________________________________________________________________\n",
      "dropout_1 (Dropout)          (None, 1, 300)            0         \n",
      "_________________________________________________________________\n",
      "lstm_2 (LSTM)                (None, 1, 100)            160400    \n",
      "_________________________________________________________________\n",
      "dropout_2 (Dropout)          (None, 1, 100)            0         \n",
      "_________________________________________________________________\n",
      "lstm_3 (LSTM)                (None, 1, 100)            80400     \n",
      "_________________________________________________________________\n",
      "dropout_3 (Dropout)          (None, 1, 100)            0         \n",
      "_________________________________________________________________\n",
      "dense_1 (Dense)              (None, 1, 64)             6464      \n",
      "_________________________________________________________________\n",
      "dropout_4 (Dropout)          (None, 1, 64)             0         \n",
      "_________________________________________________________________\n",
      "dense_2 (Dense)              (None, 1, 5)              325       \n",
      "=================================================================\n",
      "Total params: 968,789\n",
      "Trainable params: 968,789\n",
      "Non-trainable params: 0\n",
      "_________________________________________________________________\n",
      "None\n"
     ]
    }
   ],
   "source": [
    "dropout_perc = 0.2\n",
    "l2_reg = 0.01\n",
    "model = Sequential()\n",
    "model.add(LSTM(300, return_sequences=True,input_shape=(1,300)))\n",
    "model.add(Dropout(dropout_perc))\n",
    "model.add(LSTM(100, return_sequences=True))\n",
    "model.add(Dropout(dropout_perc))\n",
    "model.add(LSTM(100,return_sequences=True))\n",
    "model.add(Dropout(dropout_perc))\n",
    "model.add(Dense(64, activation='relu'))\n",
    "model.add(Dropout(dropout_perc))\n",
    "model.add(Dense(5, activation='softmax', kernel_regularizer=regularizers.l2(l2_reg)))\n",
    "print(model.summary())"
   ]
  },
  {
   "cell_type": "code",
   "execution_count": null,
   "metadata": {
    "colab": {
     "base_uri": "https://localhost:8080/"
    },
    "id": "Kvg6I-RO11cR",
    "outputId": "5751dd20-e866-46b2-f7f1-bafd16518071"
   },
   "outputs": [
    {
     "name": "stdout",
     "output_type": "stream",
     "text": [
      "Collecting livelossplot\n",
      "  Downloading https://files.pythonhosted.org/packages/57/26/840be243088ce142d61c60273408ec09fa1de4534056a56d6e91b73f0cae/livelossplot-0.5.4-py3-none-any.whl\n",
      "Requirement already satisfied: matplotlib in /usr/local/lib/python3.7/dist-packages (from livelossplot) (3.2.2)\n",
      "Requirement already satisfied: ipython in /usr/local/lib/python3.7/dist-packages (from livelossplot) (5.5.0)\n",
      "Requirement already satisfied: bokeh in /usr/local/lib/python3.7/dist-packages (from livelossplot) (2.3.2)\n",
      "Requirement already satisfied: python-dateutil>=2.1 in /usr/local/lib/python3.7/dist-packages (from matplotlib->livelossplot) (2.8.1)\n",
      "Requirement already satisfied: numpy>=1.11 in /usr/local/lib/python3.7/dist-packages (from matplotlib->livelossplot) (1.19.5)\n",
      "Requirement already satisfied: kiwisolver>=1.0.1 in /usr/local/lib/python3.7/dist-packages (from matplotlib->livelossplot) (1.3.1)\n",
      "Requirement already satisfied: cycler>=0.10 in /usr/local/lib/python3.7/dist-packages (from matplotlib->livelossplot) (0.10.0)\n",
      "Requirement already satisfied: pyparsing!=2.0.4,!=2.1.2,!=2.1.6,>=2.0.1 in /usr/local/lib/python3.7/dist-packages (from matplotlib->livelossplot) (2.4.7)\n",
      "Requirement already satisfied: prompt-toolkit<2.0.0,>=1.0.4 in /usr/local/lib/python3.7/dist-packages (from ipython->livelossplot) (1.0.18)\n",
      "Requirement already satisfied: pexpect; sys_platform != \"win32\" in /usr/local/lib/python3.7/dist-packages (from ipython->livelossplot) (4.8.0)\n",
      "Requirement already satisfied: setuptools>=18.5 in /usr/local/lib/python3.7/dist-packages (from ipython->livelossplot) (56.1.0)\n",
      "Requirement already satisfied: decorator in /usr/local/lib/python3.7/dist-packages (from ipython->livelossplot) (4.4.2)\n",
      "Requirement already satisfied: simplegeneric>0.8 in /usr/local/lib/python3.7/dist-packages (from ipython->livelossplot) (0.8.1)\n",
      "Requirement already satisfied: pickleshare in /usr/local/lib/python3.7/dist-packages (from ipython->livelossplot) (0.7.5)\n",
      "Requirement already satisfied: traitlets>=4.2 in /usr/local/lib/python3.7/dist-packages (from ipython->livelossplot) (5.0.5)\n",
      "Requirement already satisfied: pygments in /usr/local/lib/python3.7/dist-packages (from ipython->livelossplot) (2.6.1)\n",
      "Requirement already satisfied: Jinja2>=2.9 in /usr/local/lib/python3.7/dist-packages (from bokeh->livelossplot) (2.11.3)\n",
      "Requirement already satisfied: packaging>=16.8 in /usr/local/lib/python3.7/dist-packages (from bokeh->livelossplot) (20.9)\n",
      "Requirement already satisfied: typing-extensions>=3.7.4 in /usr/local/lib/python3.7/dist-packages (from bokeh->livelossplot) (3.7.4.3)\n",
      "Requirement already satisfied: pillow>=7.1.0 in /usr/local/lib/python3.7/dist-packages (from bokeh->livelossplot) (7.1.2)\n",
      "Requirement already satisfied: PyYAML>=3.10 in /usr/local/lib/python3.7/dist-packages (from bokeh->livelossplot) (3.13)\n",
      "Requirement already satisfied: tornado>=5.1 in /usr/local/lib/python3.7/dist-packages (from bokeh->livelossplot) (5.1.1)\n",
      "Requirement already satisfied: six>=1.5 in /usr/local/lib/python3.7/dist-packages (from python-dateutil>=2.1->matplotlib->livelossplot) (1.15.0)\n",
      "Requirement already satisfied: wcwidth in /usr/local/lib/python3.7/dist-packages (from prompt-toolkit<2.0.0,>=1.0.4->ipython->livelossplot) (0.2.5)\n",
      "Requirement already satisfied: ptyprocess>=0.5 in /usr/local/lib/python3.7/dist-packages (from pexpect; sys_platform != \"win32\"->ipython->livelossplot) (0.7.0)\n",
      "Requirement already satisfied: ipython-genutils in /usr/local/lib/python3.7/dist-packages (from traitlets>=4.2->ipython->livelossplot) (0.2.0)\n",
      "Requirement already satisfied: MarkupSafe>=0.23 in /usr/local/lib/python3.7/dist-packages (from Jinja2>=2.9->bokeh->livelossplot) (2.0.1)\n",
      "Installing collected packages: livelossplot\n",
      "Successfully installed livelossplot-0.5.4\n"
     ]
    }
   ],
   "source": [
    "!pip install livelossplot"
   ]
  },
  {
   "cell_type": "markdown",
   "metadata": {
    "id": "Fcz9Ktg65ZjK"
   },
   "source": []
  },
  {
   "cell_type": "code",
   "execution_count": 27,
   "metadata": {
    "id": "hVMXjfFc150W"
   },
   "outputs": [],
   "source": [
    "model.compile(\n",
    "    optimizer='adam',\n",
    "    loss='categorical_crossentropy',\n",
    "    metrics=['accuracy']\n",
    ")"
   ]
  },
  {
   "cell_type": "code",
   "execution_count": 28,
   "metadata": {
    "colab": {
     "base_uri": "https://localhost:8080/"
    },
    "id": "qL1_j_8y2NdM",
    "outputId": "831a1257-b096-46d9-d129-83764bcd0ae3"
   },
   "outputs": [
    {
     "data": {
      "text/plain": [
       "(16320,)"
      ]
     },
     "execution_count": 28,
     "metadata": {},
     "output_type": "execute_result"
    }
   ],
   "source": [
    "y_train.shape"
   ]
  },
  {
   "cell_type": "code",
   "execution_count": 29,
   "metadata": {
    "colab": {
     "base_uri": "https://localhost:8080/"
    },
    "id": "x6MLitD_20TP",
    "outputId": "c8fe9735-a571-46f7-c5b5-f507f164f874"
   },
   "outputs": [
    {
     "data": {
      "text/plain": [
       "(5440,)"
      ]
     },
     "execution_count": 29,
     "metadata": {},
     "output_type": "execute_result"
    }
   ],
   "source": [
    "y_valid.shape"
   ]
  },
  {
   "cell_type": "code",
   "execution_count": 30,
   "metadata": {
    "id": "ZP8C6SgL3rtX"
   },
   "outputs": [],
   "source": [
    "X_train = np.expand_dims(X_train, axis=1)\n",
    "X_valid = np.expand_dims(X_valid, axis=1)"
   ]
  },
  {
   "cell_type": "markdown",
   "metadata": {
    "id": "UULLVAhc7I9L"
   },
   "source": []
  },
  {
   "cell_type": "code",
   "execution_count": null,
   "metadata": {
    "id": "Us4Wvaz-9D6_"
   },
   "outputs": [],
   "source": []
  },
  {
   "cell_type": "code",
   "execution_count": 31,
   "metadata": {
    "id": "r81IRPFY7DTg"
   },
   "outputs": [],
   "source": [
    "y_train = to_categorical(y_train)\n",
    "y_valid = to_categorical(y_valid)"
   ]
  },
  {
   "cell_type": "code",
   "execution_count": 32,
   "metadata": {
    "id": "lxgG8AC49ia9"
   },
   "outputs": [],
   "source": [
    "y_train = np.expand_dims(y_train, axis=1)\n",
    "y_valid = np.expand_dims(y_valid, axis=1)"
   ]
  },
  {
   "cell_type": "code",
   "execution_count": 33,
   "metadata": {
    "id": "45NvIQi5Xh4Q"
   },
   "outputs": [],
   "source": [
    "from livelossplot import PlotLossesKeras\n",
    "import tensorflow as tf"
   ]
  },
  {
   "cell_type": "code",
   "execution_count": 85,
   "metadata": {},
   "outputs": [],
   "source": [
    "mincp_save =keras.callbacks.ModelCheckpoint('./LSTMbestEpochMin.hdf5', save_best_only=True, monitor='val_loss', mode='min')\n",
    "maxcp_save =keras.callbacks.ModelCheckpoint('./LSTMbestEpochMax.hdf5', save_best_only=True, monitor='val_acc', mode='max')\n",
    "callbacks = [mincp_save,maxcp_save,tf.keras.callbacks.TensorBoard(log_dir='./logs'),tf.keras.callbacks.EarlyStopping(patience=10)]"
   ]
  },
  {
   "cell_type": "code",
   "execution_count": 40,
   "metadata": {
    "colab": {
     "base_uri": "https://localhost:8080/",
     "height": 687
    },
    "id": "moQxqAD618Pn",
    "outputId": "76eef893-c48e-4165-ad5d-e388f3db9bd2",
    "scrolled": false
   },
   "outputs": [
    {
     "name": "stdout",
     "output_type": "stream",
     "text": [
      "Train on 16320 samples, validate on 5440 samples\n",
      "Epoch 1/50\n",
      "16320/16320 [==============================] - 11s 662us/step - loss: 0.8348 - acc: 0.6885 - val_loss: 0.4389 - val_acc: 0.8697\n",
      "Epoch 2/50\n",
      "16320/16320 [==============================] - 9s 581us/step - loss: 0.4357 - acc: 0.8673 - val_loss: 0.2975 - val_acc: 0.9090\n",
      "Epoch 3/50\n",
      "16320/16320 [==============================] - 10s 585us/step - loss: 0.3301 - acc: 0.9034 - val_loss: 0.2477 - val_acc: 0.9285\n",
      "Epoch 4/50\n",
      "16320/16320 [==============================] - 10s 592us/step - loss: 0.2642 - acc: 0.9232 - val_loss: 0.1848 - val_acc: 0.9496\n",
      "Epoch 5/50\n",
      "16320/16320 [==============================] - 10s 584us/step - loss: 0.2288 - acc: 0.9330 - val_loss: 0.1555 - val_acc: 0.9592\n",
      "Epoch 6/50\n",
      "16320/16320 [==============================] - 10s 587us/step - loss: 0.1985 - acc: 0.9450 - val_loss: 0.1845 - val_acc: 0.9489\n",
      "Epoch 7/50\n",
      "16320/16320 [==============================] - 10s 591us/step - loss: 0.1845 - acc: 0.9495 - val_loss: 0.1654 - val_acc: 0.9535\n",
      "Epoch 8/50\n",
      "16320/16320 [==============================] - 10s 588us/step - loss: 0.1723 - acc: 0.9521 - val_loss: 0.1303 - val_acc: 0.9676\n",
      "Epoch 9/50\n",
      "16320/16320 [==============================] - 10s 606us/step - loss: 0.1497 - acc: 0.9585 - val_loss: 0.1203 - val_acc: 0.9664\n",
      "Epoch 10/50\n",
      "16320/16320 [==============================] - 10s 625us/step - loss: 0.1546 - acc: 0.9575 - val_loss: 0.1252 - val_acc: 0.9671\n",
      "Epoch 11/50\n",
      "16320/16320 [==============================] - 10s 638us/step - loss: 0.1496 - acc: 0.9585 - val_loss: 0.1038 - val_acc: 0.9717\n",
      "Epoch 12/50\n",
      "16320/16320 [==============================] - 10s 640us/step - loss: 0.1337 - acc: 0.9644 - val_loss: 0.1149 - val_acc: 0.9682\n",
      "Epoch 13/50\n",
      "16320/16320 [==============================] - 10s 636us/step - loss: 0.1333 - acc: 0.9644 - val_loss: 0.1156 - val_acc: 0.9686\n",
      "Epoch 14/50\n",
      "16320/16320 [==============================] - 10s 638us/step - loss: 0.1218 - acc: 0.9663 - val_loss: 0.0879 - val_acc: 0.9770\n",
      "Epoch 15/50\n",
      "16320/16320 [==============================] - 10s 642us/step - loss: 0.1155 - acc: 0.9688 - val_loss: 0.1172 - val_acc: 0.9689\n",
      "Epoch 16/50\n",
      "16320/16320 [==============================] - 10s 632us/step - loss: 0.1193 - acc: 0.9689 - val_loss: 0.0838 - val_acc: 0.9770\n",
      "Epoch 17/50\n",
      "16320/16320 [==============================] - 10s 621us/step - loss: 0.1180 - acc: 0.9659 - val_loss: 0.0904 - val_acc: 0.9754\n",
      "Epoch 18/50\n",
      "16320/16320 [==============================] - 10s 633us/step - loss: 0.1153 - acc: 0.9676 - val_loss: 0.0859 - val_acc: 0.9765\n",
      "Epoch 19/50\n",
      "16320/16320 [==============================] - 10s 638us/step - loss: 0.1011 - acc: 0.9737 - val_loss: 0.0828 - val_acc: 0.9767\n",
      "Epoch 20/50\n",
      "16320/16320 [==============================] - 10s 642us/step - loss: 0.1032 - acc: 0.9711 - val_loss: 0.0891 - val_acc: 0.9737\n",
      "Epoch 21/50\n",
      "16320/16320 [==============================] - 10s 627us/step - loss: 0.0956 - acc: 0.9732 - val_loss: 0.0970 - val_acc: 0.9733\n",
      "Epoch 22/50\n",
      "16320/16320 [==============================] - 10s 632us/step - loss: 0.0972 - acc: 0.9737 - val_loss: 0.0791 - val_acc: 0.9779\n",
      "Epoch 23/50\n",
      "16320/16320 [==============================] - 10s 637us/step - loss: 0.0939 - acc: 0.9751 - val_loss: 0.1011 - val_acc: 0.9726\n",
      "Epoch 24/50\n",
      "16320/16320 [==============================] - 11s 649us/step - loss: 0.0922 - acc: 0.9749 - val_loss: 0.0969 - val_acc: 0.9721\n",
      "Epoch 25/50\n",
      "16320/16320 [==============================] - 11s 644us/step - loss: 0.0937 - acc: 0.9742 - val_loss: 0.0880 - val_acc: 0.9763\n",
      "Epoch 26/50\n",
      "16320/16320 [==============================] - 10s 632us/step - loss: 0.0898 - acc: 0.9757 - val_loss: 0.0978 - val_acc: 0.9763\n",
      "Epoch 27/50\n",
      "16320/16320 [==============================] - 10s 629us/step - loss: 0.0886 - acc: 0.9757 - val_loss: 0.0716 - val_acc: 0.9811\n",
      "Epoch 28/50\n",
      "16320/16320 [==============================] - 10s 626us/step - loss: 0.0858 - acc: 0.9776 - val_loss: 0.0840 - val_acc: 0.9787\n",
      "Epoch 29/50\n",
      "16320/16320 [==============================] - 11s 646us/step - loss: 0.0834 - acc: 0.9776 - val_loss: 0.0778 - val_acc: 0.9790\n",
      "Epoch 30/50\n",
      "16320/16320 [==============================] - 11s 654us/step - loss: 0.0762 - acc: 0.9804 - val_loss: 0.0854 - val_acc: 0.9748\n",
      "Epoch 31/50\n",
      "16320/16320 [==============================] - 11s 648us/step - loss: 0.0795 - acc: 0.9782 - val_loss: 0.1053 - val_acc: 0.9728\n",
      "Epoch 32/50\n",
      "16320/16320 [==============================] - 11s 649us/step - loss: 0.0776 - acc: 0.9784 - val_loss: 0.0741 - val_acc: 0.9805\n",
      "Epoch 33/50\n",
      "16320/16320 [==============================] - 11s 645us/step - loss: 0.0766 - acc: 0.9792 - val_loss: 0.0770 - val_acc: 0.9781\n",
      "Epoch 34/50\n",
      "16320/16320 [==============================] - 11s 647us/step - loss: 0.0801 - acc: 0.9777 - val_loss: 0.0792 - val_acc: 0.9789\n",
      "Epoch 35/50\n",
      "16320/16320 [==============================] - 11s 650us/step - loss: 0.0712 - acc: 0.9796 - val_loss: 0.0741 - val_acc: 0.9809\n",
      "Epoch 36/50\n",
      "16320/16320 [==============================] - 11s 660us/step - loss: 0.0668 - acc: 0.9818 - val_loss: 0.0679 - val_acc: 0.9818\n",
      "Epoch 37/50\n",
      "16320/16320 [==============================] - 11s 644us/step - loss: 0.0679 - acc: 0.9822 - val_loss: 0.0651 - val_acc: 0.9838\n",
      "Epoch 38/50\n",
      "16320/16320 [==============================] - 11s 655us/step - loss: 0.0688 - acc: 0.9813 - val_loss: 0.0716 - val_acc: 0.9825\n",
      "Epoch 39/50\n",
      "16320/16320 [==============================] - 11s 679us/step - loss: 0.0664 - acc: 0.9823 - val_loss: 0.0715 - val_acc: 0.9803\n",
      "Epoch 40/50\n",
      "16320/16320 [==============================] - 11s 656us/step - loss: 0.0702 - acc: 0.9811 - val_loss: 0.0627 - val_acc: 0.9822\n",
      "Epoch 41/50\n",
      "16320/16320 [==============================] - 11s 652us/step - loss: 0.0670 - acc: 0.9817 - val_loss: 0.0686 - val_acc: 0.9805\n",
      "Epoch 42/50\n",
      "16320/16320 [==============================] - 11s 652us/step - loss: 0.0639 - acc: 0.9825 - val_loss: 0.0655 - val_acc: 0.9847\n",
      "Epoch 43/50\n",
      "16320/16320 [==============================] - 11s 663us/step - loss: 0.0631 - acc: 0.9828 - val_loss: 0.0782 - val_acc: 0.9792\n",
      "Epoch 44/50\n",
      "16320/16320 [==============================] - 11s 670us/step - loss: 0.0588 - acc: 0.9836 - val_loss: 0.0703 - val_acc: 0.9829\n",
      "Epoch 45/50\n",
      "16320/16320 [==============================] - 11s 676us/step - loss: 0.0609 - acc: 0.9836 - val_loss: 0.0730 - val_acc: 0.9827\n",
      "Epoch 46/50\n",
      "16320/16320 [==============================] - 11s 667us/step - loss: 0.0628 - acc: 0.9822 - val_loss: 0.0630 - val_acc: 0.9838\n",
      "Epoch 47/50\n",
      "16320/16320 [==============================] - 11s 674us/step - loss: 0.0566 - acc: 0.9850 - val_loss: 0.0679 - val_acc: 0.9820\n",
      "Epoch 48/50\n",
      "16320/16320 [==============================] - 11s 666us/step - loss: 0.0567 - acc: 0.9847 - val_loss: 0.0704 - val_acc: 0.9825\n",
      "Epoch 49/50\n",
      "16320/16320 [==============================] - 11s 670us/step - loss: 0.0569 - acc: 0.9843 - val_loss: 0.0729 - val_acc: 0.9809\n",
      "Epoch 50/50\n",
      "16320/16320 [==============================] - 11s 697us/step - loss: 0.0598 - acc: 0.9833 - val_loss: 0.0599 - val_acc: 0.9840\n"
     ]
    }
   ],
   "source": [
    "history = model.fit(\n",
    "    X_train,\n",
    "    y_train,\n",
    "    validation_data=(X_valid, y_valid),\n",
    "    batch_size=32,\n",
    "    class_weight=class_weights,\n",
    "    callbacks=callbacks,\n",
    "    epochs=50)"
   ]
  },
  {
   "cell_type": "code",
   "execution_count": 86,
   "metadata": {},
   "outputs": [
    {
     "data": {
      "image/png": "[encoded data removed]",
      "text/plain": [
       "<Figure size 432x288 with 1 Axes>"
      ]
     },
     "metadata": {
      "needs_background": "light"
     },
     "output_type": "display_data"
    }
   ],
   "source": [
    "loss_train = history.history['loss']\n",
    "loss_val = history.history['val_loss']\n",
    "epochs = range(1,51)\n",
    "plt.plot(epochs, loss_train, 'g', label='Training loss')\n",
    "plt.plot(epochs, loss_val, 'b', label='validation loss')\n",
    "plt.title('Training and Validation loss')\n",
    "plt.xlabel('Epochs')\n",
    "plt.ylabel('Loss')\n",
    "plt.legend()\n",
    "plt.show()"
   ]
  },
  {
   "cell_type": "code",
   "execution_count": 88,
   "metadata": {},
   "outputs": [
    {
     "data": {
      "image/png": "[encoded data removed]",
      "text/plain": [
       "<Figure size 432x288 with 1 Axes>"
      ]
     },
     "metadata": {
      "needs_background": "light"
     },
     "output_type": "display_data"
    }
   ],
   "source": [
    "loss_train = history.history['acc']\n",
    "loss_val = history.history['val_acc']\n",
    "epochs = range(1,51)\n",
    "plt.plot(epochs, loss_train, 'g', label='Training loss')\n",
    "plt.plot(epochs, loss_val, 'b', label='validation loss')\n",
    "plt.title('Training and Validation accuracy')\n",
    "plt.xlabel('Epochs')\n",
    "plt.ylabel('Loss')\n",
    "plt.legend()\n",
    "plt.show()"
   ]
  },
  {
   "cell_type": "code",
   "execution_count": 94,
   "metadata": {},
   "outputs": [
    {
     "data": {
      "text/plain": [
       "0.05990186599357163"
      ]
     },
     "execution_count": 94,
     "metadata": {},
     "output_type": "execute_result"
    }
   ],
   "source": [
    "min(history.history['val_loss'])"
   ]
  },
  {
   "cell_type": "code",
   "execution_count": null,
   "metadata": {},
   "outputs": [],
   "source": []
  },
  {
   "cell_type": "code",
   "execution_count": 41,
   "metadata": {},
   "outputs": [],
   "source": [
    "model.load_weights('./LSTMbestEpochMin.hdf5')"
   ]
  },
  {
   "cell_type": "code",
   "execution_count": 42,
   "metadata": {
    "id": "p-68Rp-N0wvH"
   },
   "outputs": [],
   "source": [
    "test_data = np.expand_dims(X_test, axis=1)\n"
   ]
  },
  {
   "cell_type": "code",
   "execution_count": 43,
   "metadata": {
    "id": "uYnIDglp03PH"
   },
   "outputs": [],
   "source": [
    "test_lables = to_categorical(y_test)\n",
    "test_lables_dims = np.expand_dims(test_lables, axis=1)\n"
   ]
  },
  {
   "cell_type": "code",
   "execution_count": 44,
   "metadata": {},
   "outputs": [
    {
     "data": {
      "text/plain": [
       "5440"
      ]
     },
     "execution_count": 44,
     "metadata": {},
     "output_type": "execute_result"
    }
   ],
   "source": [
    "len(test_data)"
   ]
  },
  {
   "cell_type": "code",
   "execution_count": 57,
   "metadata": {},
   "outputs": [
    {
     "data": {
      "text/plain": [
       "[<matplotlib.lines.Line2D at 0x7f9610f79050>]"
      ]
     },
     "execution_count": 57,
     "metadata": {},
     "output_type": "execute_result"
    },
    {
     "data": {
      "image/png": "[encoded data removed]",
      "text/plain": [
       "<Figure size 432x288 with 1 Axes>"
      ]
     },
     "metadata": {
      "needs_background": "light"
     },
     "output_type": "display_data"
    }
   ],
   "source": [
    "plt.plot(X_test[0])"
   ]
  },
  {
   "cell_type": "code",
   "execution_count": 59,
   "metadata": {},
   "outputs": [],
   "source": [
    "import ecg_plot"
   ]
  },
  {
   "cell_type": "code",
   "execution_count": 84,
   "metadata": {},
   "outputs": [
    {
     "data": {
      "image/png": "[encoded data removed]",
      "text/plain": [
       "<Figure size 720x720 with 1 Axes>"
      ]
     },
     "metadata": {
      "needs_background": "light"
     },
     "output_type": "display_data"
    }
   ],
   "source": [
    "ecg_plot.plot_1(X_test[0],fig_height=10,fig_width = 10,line_w=1,ecg_amp=1.3,timetick = 0.1, title = 'Normal Rhythmia')\n",
    "ecg_plot.show()"
   ]
  },
  {
   "cell_type": "code",
   "execution_count": 45,
   "metadata": {
    "colab": {
     "base_uri": "https://localhost:8080/"
    },
    "id": "A14YSSSe0YC_",
    "outputId": "8d68f57c-37aa-4da4-875b-eccca8cd1a8e"
   },
   "outputs": [
    {
     "name": "stdout",
     "output_type": "stream",
     "text": [
      "Evaluate on test data\n",
      "5440/5440 [==============================] - 1s 228us/step\n",
      "test loss, test acc: [0.08124959180131555, 0.9799632352941177]\n"
     ]
    }
   ],
   "source": [
    "# Evaluate the model on the test data using `evaluate`\n",
    "print(\"Evaluate on test data\")\n",
    "results = model.evaluate(test_data, test_lables_dims)\n",
    "print(\"test loss, test acc:\", results)"
   ]
  },
  {
   "cell_type": "code",
   "execution_count": 46,
   "metadata": {},
   "outputs": [],
   "source": [
    "from sklearn.metrics import accuracy_score\n"
   ]
  },
  {
   "cell_type": "code",
   "execution_count": 47,
   "metadata": {},
   "outputs": [],
   "source": [
    "\n",
    "results = model.predict_classes(test_data)"
   ]
  },
  {
   "cell_type": "code",
   "execution_count": 48,
   "metadata": {},
   "outputs": [
    {
     "data": {
      "text/plain": [
       "array([0., 2., 1., ..., 0., 3., 3.])"
      ]
     },
     "execution_count": 48,
     "metadata": {},
     "output_type": "execute_result"
    }
   ],
   "source": [
    "y_test"
   ]
  },
  {
   "cell_type": "code",
   "execution_count": 49,
   "metadata": {},
   "outputs": [
    {
     "data": {
      "text/plain": [
       "0.9799632352941177"
      ]
     },
     "execution_count": 49,
     "metadata": {},
     "output_type": "execute_result"
    }
   ],
   "source": [
    "accuracy_score(y_test,results) "
   ]
  },
  {
   "cell_type": "code",
   "execution_count": 56,
   "metadata": {},
   "outputs": [
    {
     "data": {
      "text/plain": [
       "5440"
      ]
     },
     "execution_count": 56,
     "metadata": {},
     "output_type": "execute_result"
    }
   ],
   "source": [
    "len(results)"
   ]
  },
  {
   "cell_type": "code",
   "execution_count": 57,
   "metadata": {},
   "outputs": [
    {
     "data": {
      "text/plain": [
       "numpy.ndarray"
      ]
     },
     "execution_count": 57,
     "metadata": {},
     "output_type": "execute_result"
    }
   ],
   "source": [
    "type(test_lables_dims)"
   ]
  },
  {
   "cell_type": "code",
   "execution_count": 50,
   "metadata": {
    "id": "C4je0MFj6-ZX"
   },
   "outputs": [],
   "source": [
    "valloss = min(history.history['val_loss'])"
   ]
  },
  {
   "cell_type": "code",
   "execution_count": 51,
   "metadata": {},
   "outputs": [
    {
     "data": {
      "text/plain": [
       "0.05990186599357163"
      ]
     },
     "execution_count": 51,
     "metadata": {},
     "output_type": "execute_result"
    }
   ],
   "source": [
    "valloss"
   ]
  },
  {
   "cell_type": "code",
   "execution_count": 52,
   "metadata": {
    "colab": {
     "base_uri": "https://localhost:8080/",
     "height": 232
    },
    "id": "VT2Wh3Qs5mY-",
    "outputId": "c6f02c6e-af5b-4f37-897f-c84fdf62e4a2"
   },
   "outputs": [],
   "source": [
    "minval = (history.history['val_loss']).index(valloss)"
   ]
  },
  {
   "cell_type": "code",
   "execution_count": 53,
   "metadata": {
    "colab": {
     "base_uri": "https://localhost:8080/",
     "height": 991
    },
    "id": "IIiOHeLR4b2d",
    "outputId": "87b85476-9b4c-42b2-b1a5-333e668d35c9"
   },
   "outputs": [
    {
     "data": {
      "text/plain": [
       "Text(0, 0.5, 'loss')"
      ]
     },
     "execution_count": 53,
     "metadata": {},
     "output_type": "execute_result"
    },
    {
     "data": {
      "image/png": "[encoded data removed]",
      "text/plain": [
       "<Figure size 432x288 with 1 Axes>"
      ]
     },
     "metadata": {
      "needs_background": "light"
     },
     "output_type": "display_data"
    }
   ],
   "source": [
    "plt.plot(history.history['val_loss'],markevery=[minval],marker='o', color='r')\n",
    "plt.xlabel(\"epocs\")\n",
    "plt.ylabel(\"loss\")"
   ]
  },
  {
   "cell_type": "code",
   "execution_count": 62,
   "metadata": {},
   "outputs": [
    {
     "data": {
      "text/plain": [
       "[0.9590073529411764,\n",
       " 0.9735294117647059,\n",
       " 0.9764705882352941,\n",
       " 0.9795955882352941,\n",
       " 0.9806985294117647,\n",
       " 0.9794117647058823,\n",
       " 0.9803308823529412,\n",
       " 0.9814338235294118,\n",
       " 0.9761029411764706,\n",
       " 0.9818014705882353]"
      ]
     },
     "execution_count": 62,
     "metadata": {},
     "output_type": "execute_result"
    }
   ],
   "source": [
    "history.history['val_acc']"
   ]
  },
  {
   "cell_type": "code",
   "execution_count": null,
   "metadata": {},
   "outputs": [],
   "source": []
  },
  {
   "cell_type": "code",
   "execution_count": 54,
   "metadata": {
    "colab": {
     "base_uri": "https://localhost:8080/",
     "height": 296
    },
    "id": "fEy1hm120X_Z",
    "outputId": "4747e3a3-8ee6-4c36-c799-b58c8449641a"
   },
   "outputs": [
    {
     "data": {
      "text/plain": [
       "Text(0, 0.5, 'accuracy')"
      ]
     },
     "execution_count": 54,
     "metadata": {},
     "output_type": "execute_result"
    },
    {
     "data": {
      "image/png": "[encoded data removed]",
      "text/plain": [
       "<Figure size 432x288 with 1 Axes>"
      ]
     },
     "metadata": {
      "needs_background": "light"
     },
     "output_type": "display_data"
    }
   ],
   "source": [
    "plt.plot(history.history['val_acc'],marker='o', color='b')\n",
    "plt.xlabel(\"epocs\")\n",
    "plt.ylabel(\"accuracy\")"
   ]
  },
  {
   "cell_type": "code",
   "execution_count": null,
   "metadata": {
    "id": "YdRbOo_30X1-"
   },
   "outputs": [],
   "source": []
  },
  {
   "cell_type": "code",
   "execution_count": 55,
   "metadata": {
    "id": "yXy4mqQh2Jkf"
   },
   "outputs": [],
   "source": [
    "model.save('LSTM_50_E_21_jun_Final.h5')"
   ]
  },
  {
   "cell_type": "code",
   "execution_count": null,
   "metadata": {
    "colab": {
     "base_uri": "https://localhost:8080/",
     "height": 1000
    },
    "id": "OYzuCtcQCiiE",
    "outputId": "c18e0ec9-e9e1-4281-e2e6-6d0933ade092"
   },
   "outputs": [
    {
     "data": {
      "image/png": "[encoded data removed]",
      "text/plain": [
       "<IPython.core.display.Image object>"
      ]
     },
     "execution_count": 55,
     "metadata": {
      "tags": []
     },
     "output_type": "execute_result"
    }
   ],
   "source": [
    "plot_model(model, to_file='model_plot.png', rankdir='TB',show_dtype=True,show_shapes=True, show_layer_names=True)"
   ]
  },
  {
   "cell_type": "code",
   "execution_count": null,
   "metadata": {},
   "outputs": [],
   "source": []
  }
 ],
 "metadata": {
  "accelerator": "GPU",
  "colab": {
   "collapsed_sections": [],
   "name": "LSTM.ipynb",
   "provenance": []
  },
  "kernelspec": {
   "display_name": "Python 3",
   "language": "python",
   "name": "python3"
  },
  "language_info": {
   "codemirror_mode": {
    "name": "ipython",
    "version": 3
   },
   "file_extension": ".py",
   "mimetype": "text/x-python",
   "name": "python",
   "nbconvert_exporter": "python",
   "pygments_lexer": "ipython3",
   "version": "3.7.9"
  }
 },
 "nbformat": 4,
 "nbformat_minor": 1
}
