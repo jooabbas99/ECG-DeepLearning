{
 "cells": [
  {
   "cell_type": "code",
   "execution_count": 38,
   "metadata": {
    "id": "1Iuk3LNKSQva"
   },
   "outputs": [],
   "source": [
    "import pandas as pd, matplotlib.pyplot as plt\n",
    "import os\n",
    "from sklearn.model_selection import train_test_split\n",
    "import cv2\n",
    "from tqdm import tqdm_notebook as tqdm"
   ]
  },
  {
   "cell_type": "code",
   "execution_count": 2,
   "metadata": {},
   "outputs": [
    {
     "name": "stdout",
     "output_type": "stream",
     "text": [
      "Requirement already satisfied: gdown in /Library/Frameworks/Python.framework/Versions/3.7/lib/python3.7/site-packages (3.13.0)\n",
      "Requirement already satisfied: filelock in /Library/Frameworks/Python.framework/Versions/3.7/lib/python3.7/site-packages (from gdown) (3.0.12)\n",
      "Requirement already satisfied: tqdm in /Library/Frameworks/Python.framework/Versions/3.7/lib/python3.7/site-packages (from gdown) (4.60.0)\n",
      "Requirement already satisfied: requests[socks]>=2.12.0 in /Library/Frameworks/Python.framework/Versions/3.7/lib/python3.7/site-packages (from gdown) (2.24.0)\n",
      "Requirement already satisfied: six in /Library/Frameworks/Python.framework/Versions/3.7/lib/python3.7/site-packages (from gdown) (1.15.0)\n",
      "Requirement already satisfied: idna<3,>=2.5 in /Library/Frameworks/Python.framework/Versions/3.7/lib/python3.7/site-packages (from requests[socks]>=2.12.0->gdown) (2.10)\n",
      "Requirement already satisfied: certifi>=2017.4.17 in /Library/Frameworks/Python.framework/Versions/3.7/lib/python3.7/site-packages (from requests[socks]>=2.12.0->gdown) (2020.6.20)\n",
      "Requirement already satisfied: chardet<4,>=3.0.2 in /Library/Frameworks/Python.framework/Versions/3.7/lib/python3.7/site-packages (from requests[socks]>=2.12.0->gdown) (3.0.4)\n",
      "Requirement already satisfied: urllib3!=1.25.0,!=1.25.1,<1.26,>=1.21.1 in /Library/Frameworks/Python.framework/Versions/3.7/lib/python3.7/site-packages (from requests[socks]>=2.12.0->gdown) (1.25.9)\n",
      "Requirement already satisfied: PySocks!=1.5.7,>=1.5.6 in /Library/Frameworks/Python.framework/Versions/3.7/lib/python3.7/site-packages (from requests[socks]>=2.12.0->gdown) (1.7.1)\n",
      "\u001b[33mWARNING: You are using pip version 21.1.1; however, version 21.1.2 is available.\n",
      "You should consider upgrading via the '/Library/Frameworks/Python.framework/Versions/3.7/bin/python3 -m pip install --upgrade pip' command.\u001b[0m\n"
     ]
    }
   ],
   "source": [
    "!pip install gdown"
   ]
  },
  {
   "cell_type": "code",
   "execution_count": 5,
   "metadata": {
    "colab": {
     "base_uri": "https://localhost:8080/"
    },
    "id": "hHpuMzpeYES-",
    "outputId": "0405fb64-ca50-468b-fc9a-0f46ba7c6fe9"
   },
   "outputs": [
    {
     "name": "stdout",
     "output_type": "stream",
     "text": [
      "Downloading...\n",
      "From: https://drive.google.com/uc?id=11zufpuePYayZys7vK-uFyTOG9_g8o7zv\n",
      "To: /Users/youssefabbas/Desktop/Graduation Project/Untitled Folder/all_in_one_MIT_BIH_DATASET_32_5_2021.csv\n",
      "241MB [04:56, 813kB/s]  \n"
     ]
    }
   ],
   "source": [
    "!gdown --id 11zufpuePYayZys7vK-uFyTOG9_g8o7zv"
   ]
  },
  {
   "cell_type": "code",
   "execution_count": 39,
   "metadata": {
    "id": "-xnsrFjyOXJT"
   },
   "outputs": [],
   "source": [
    "data = pd.read_csv('./MIT_BIH_DATASET_Resampled_Filltered_6_2021.csv')"
   ]
  },
  {
   "cell_type": "code",
   "execution_count": 40,
   "metadata": {},
   "outputs": [],
   "source": [
    "from sklearn.utils import resample\n",
    "df_1=data[data['301']==1]\n",
    "df_2=data[data['301']==2]\n",
    "df_3=data[data['301']==3]\n",
    "df_4=data[data['301']==4]\n",
    "df_0=(data[data['301']==0])\n",
    "\n",
    "df_4_upsample=resample(df_4,replace=True,n_samples=4200,random_state=42)\n",
    "\n",
    "new_data=pd.concat([df_0,df_1,df_2,df_3,df_4_upsample])"
   ]
  },
  {
   "cell_type": "code",
   "execution_count": 41,
   "metadata": {},
   "outputs": [
    {
     "data": {
      "text/html": [
       "<div>\n",
       "<style scoped>\n",
       "    .dataframe tbody tr th:only-of-type {\n",
       "        vertical-align: middle;\n",
       "    }\n",
       "\n",
       "    .dataframe tbody tr th {\n",
       "        vertical-align: top;\n",
       "    }\n",
       "\n",
       "    .dataframe thead th {\n",
       "        text-align: right;\n",
       "    }\n",
       "</style>\n",
       "<table border=\"1\" class=\"dataframe\">\n",
       "  <thead>\n",
       "    <tr style=\"text-align: right;\">\n",
       "      <th></th>\n",
       "      <th>1</th>\n",
       "      <th>2</th>\n",
       "      <th>3</th>\n",
       "      <th>4</th>\n",
       "      <th>5</th>\n",
       "      <th>6</th>\n",
       "      <th>7</th>\n",
       "      <th>8</th>\n",
       "      <th>9</th>\n",
       "      <th>10</th>\n",
       "      <th>...</th>\n",
       "      <th>292</th>\n",
       "      <th>293</th>\n",
       "      <th>294</th>\n",
       "      <th>295</th>\n",
       "      <th>296</th>\n",
       "      <th>297</th>\n",
       "      <th>298</th>\n",
       "      <th>299</th>\n",
       "      <th>300</th>\n",
       "      <th>301</th>\n",
       "    </tr>\n",
       "  </thead>\n",
       "  <tbody>\n",
       "    <tr>\n",
       "      <th>0</th>\n",
       "      <td>0.239643</td>\n",
       "      <td>0.164720</td>\n",
       "      <td>0.137425</td>\n",
       "      <td>0.084942</td>\n",
       "      <td>0.153273</td>\n",
       "      <td>0.184037</td>\n",
       "      <td>0.238504</td>\n",
       "      <td>0.157602</td>\n",
       "      <td>0.127725</td>\n",
       "      <td>0.120196</td>\n",
       "      <td>...</td>\n",
       "      <td>0.013269</td>\n",
       "      <td>-0.090593</td>\n",
       "      <td>-0.083783</td>\n",
       "      <td>-0.010214</td>\n",
       "      <td>0.003538</td>\n",
       "      <td>-0.048281</td>\n",
       "      <td>0.013559</td>\n",
       "      <td>-0.054481</td>\n",
       "      <td>-0.037631</td>\n",
       "      <td>0.0</td>\n",
       "    </tr>\n",
       "    <tr>\n",
       "      <th>1</th>\n",
       "      <td>-0.019156</td>\n",
       "      <td>0.056494</td>\n",
       "      <td>0.085993</td>\n",
       "      <td>0.016801</td>\n",
       "      <td>-0.018386</td>\n",
       "      <td>-0.057010</td>\n",
       "      <td>-0.068422</td>\n",
       "      <td>0.026895</td>\n",
       "      <td>-0.014682</td>\n",
       "      <td>-0.062788</td>\n",
       "      <td>...</td>\n",
       "      <td>-0.001479</td>\n",
       "      <td>-0.108656</td>\n",
       "      <td>-0.058153</td>\n",
       "      <td>0.001199</td>\n",
       "      <td>-0.007415</td>\n",
       "      <td>0.059003</td>\n",
       "      <td>-0.032712</td>\n",
       "      <td>-0.101004</td>\n",
       "      <td>-0.121043</td>\n",
       "      <td>0.0</td>\n",
       "    </tr>\n",
       "    <tr>\n",
       "      <th>2</th>\n",
       "      <td>-0.070916</td>\n",
       "      <td>-0.072735</td>\n",
       "      <td>-0.068566</td>\n",
       "      <td>-0.088535</td>\n",
       "      <td>-0.195064</td>\n",
       "      <td>-0.250222</td>\n",
       "      <td>-0.174585</td>\n",
       "      <td>-0.172860</td>\n",
       "      <td>-0.113858</td>\n",
       "      <td>-0.149651</td>\n",
       "      <td>...</td>\n",
       "      <td>0.060226</td>\n",
       "      <td>0.045062</td>\n",
       "      <td>0.087087</td>\n",
       "      <td>0.094336</td>\n",
       "      <td>0.015158</td>\n",
       "      <td>0.011150</td>\n",
       "      <td>0.037077</td>\n",
       "      <td>0.060055</td>\n",
       "      <td>0.027918</td>\n",
       "      <td>0.0</td>\n",
       "    </tr>\n",
       "    <tr>\n",
       "      <th>3</th>\n",
       "      <td>-0.045036</td>\n",
       "      <td>-0.015860</td>\n",
       "      <td>-0.051289</td>\n",
       "      <td>0.046698</td>\n",
       "      <td>0.046348</td>\n",
       "      <td>-0.004921</td>\n",
       "      <td>-0.084028</td>\n",
       "      <td>-0.172101</td>\n",
       "      <td>-0.150082</td>\n",
       "      <td>-0.089753</td>\n",
       "      <td>...</td>\n",
       "      <td>0.006724</td>\n",
       "      <td>0.015977</td>\n",
       "      <td>0.054514</td>\n",
       "      <td>0.133155</td>\n",
       "      <td>0.123297</td>\n",
       "      <td>0.076452</td>\n",
       "      <td>0.054817</td>\n",
       "      <td>-0.004272</td>\n",
       "      <td>-0.099234</td>\n",
       "      <td>0.0</td>\n",
       "    </tr>\n",
       "    <tr>\n",
       "      <th>4</th>\n",
       "      <td>0.006723</td>\n",
       "      <td>0.028755</td>\n",
       "      <td>0.040530</td>\n",
       "      <td>-0.042902</td>\n",
       "      <td>-0.081792</td>\n",
       "      <td>-0.152608</td>\n",
       "      <td>-0.105317</td>\n",
       "      <td>-0.062382</td>\n",
       "      <td>-0.040877</td>\n",
       "      <td>-0.144280</td>\n",
       "      <td>...</td>\n",
       "      <td>0.135370</td>\n",
       "      <td>0.078398</td>\n",
       "      <td>0.127388</td>\n",
       "      <td>0.167807</td>\n",
       "      <td>0.151218</td>\n",
       "      <td>0.076355</td>\n",
       "      <td>0.054625</td>\n",
       "      <td>0.005897</td>\n",
       "      <td>0.060152</td>\n",
       "      <td>0.0</td>\n",
       "    </tr>\n",
       "  </tbody>\n",
       "</table>\n",
       "<p>5 rows × 301 columns</p>\n",
       "</div>"
      ],
      "text/plain": [
       "          1         2         3         4         5         6         7  \\\n",
       "0  0.239643  0.164720  0.137425  0.084942  0.153273  0.184037  0.238504   \n",
       "1 -0.019156  0.056494  0.085993  0.016801 -0.018386 -0.057010 -0.068422   \n",
       "2 -0.070916 -0.072735 -0.068566 -0.088535 -0.195064 -0.250222 -0.174585   \n",
       "3 -0.045036 -0.015860 -0.051289  0.046698  0.046348 -0.004921 -0.084028   \n",
       "4  0.006723  0.028755  0.040530 -0.042902 -0.081792 -0.152608 -0.105317   \n",
       "\n",
       "          8         9        10  ...       292       293       294       295  \\\n",
       "0  0.157602  0.127725  0.120196  ...  0.013269 -0.090593 -0.083783 -0.010214   \n",
       "1  0.026895 -0.014682 -0.062788  ... -0.001479 -0.108656 -0.058153  0.001199   \n",
       "2 -0.172860 -0.113858 -0.149651  ...  0.060226  0.045062  0.087087  0.094336   \n",
       "3 -0.172101 -0.150082 -0.089753  ...  0.006724  0.015977  0.054514  0.133155   \n",
       "4 -0.062382 -0.040877 -0.144280  ...  0.135370  0.078398  0.127388  0.167807   \n",
       "\n",
       "        296       297       298       299       300  301  \n",
       "0  0.003538 -0.048281  0.013559 -0.054481 -0.037631  0.0  \n",
       "1 -0.007415  0.059003 -0.032712 -0.101004 -0.121043  0.0  \n",
       "2  0.015158  0.011150  0.037077  0.060055  0.027918  0.0  \n",
       "3  0.123297  0.076452  0.054817 -0.004272 -0.099234  0.0  \n",
       "4  0.151218  0.076355  0.054625  0.005897  0.060152  0.0  \n",
       "\n",
       "[5 rows x 301 columns]"
      ]
     },
     "execution_count": 41,
     "metadata": {},
     "output_type": "execute_result"
    }
   ],
   "source": [
    "data.head()"
   ]
  },
  {
   "cell_type": "code",
   "execution_count": 42,
   "metadata": {
    "colab": {
     "base_uri": "https://localhost:8080/"
    },
    "id": "LlmhG-PTSqOj",
    "outputId": "b1337ec6-7281-4a32-bc46-f92ef438a21c"
   },
   "outputs": [
    {
     "name": "stdout",
     "output_type": "stream",
     "text": [
      "(29430, 301)\n"
     ]
    }
   ],
   "source": [
    "data_new = new_data.to_numpy()\n",
    "print(data_new.shape)"
   ]
  },
  {
   "cell_type": "code",
   "execution_count": 43,
   "metadata": {
    "colab": {
     "base_uri": "https://localhost:8080/"
    },
    "id": "hkuVs01aTFZK",
    "outputId": "8faad73b-76a6-4721-9498-5714ff020e50"
   },
   "outputs": [
    {
     "name": "stdout",
     "output_type": "stream",
     "text": [
      "(29430, 300) (29430,)\n"
     ]
    }
   ],
   "source": [
    "data, labels = data_new[:, :-1], data_new[:, -1]\n",
    "print(data.shape, labels.shape)"
   ]
  },
  {
   "cell_type": "code",
   "execution_count": 10,
   "metadata": {
    "colab": {
     "base_uri": "https://localhost:8080/"
    },
    "collapsed": true,
    "id": "5iQTgzfxYo5A",
    "outputId": "daba4d9f-65cb-4385-d972-67149c93dbfa"
   },
   "outputs": [
    {
     "name": "stdout",
     "output_type": "stream",
     "text": [
      "Collecting biosppy\n",
      "  Downloading biosppy-0.7.0-py2.py3-none-any.whl (89 kB)\n",
      "\u001b[K     |████████████████████████████████| 89 kB 175 kB/s eta 0:00:01\n",
      "\u001b[?25hRequirement already satisfied: scipy in /Library/Frameworks/Python.framework/Versions/3.7/lib/python3.7/site-packages (from biosppy) (1.6.2)\n",
      "Collecting bidict\n",
      "  Downloading bidict-0.21.2-py2.py3-none-any.whl (37 kB)\n",
      "Requirement already satisfied: matplotlib in /Library/Frameworks/Python.framework/Versions/3.7/lib/python3.7/site-packages (from biosppy) (3.4.1)\n",
      "Requirement already satisfied: numpy in /Library/Frameworks/Python.framework/Versions/3.7/lib/python3.7/site-packages (from biosppy) (1.20.2)\n",
      "Collecting joblib\n",
      "  Downloading joblib-1.0.1-py3-none-any.whl (303 kB)\n",
      "\u001b[K     |████████████████████████████████| 303 kB 63 kB/s eta 0:00:01\n",
      "\u001b[?25hRequirement already satisfied: six in /Library/Frameworks/Python.framework/Versions/3.7/lib/python3.7/site-packages (from biosppy) (1.15.0)\n",
      "Requirement already satisfied: h5py in /Library/Frameworks/Python.framework/Versions/3.7/lib/python3.7/site-packages (from biosppy) (3.2.1)\n",
      "Collecting scikit-learn\n",
      "  Downloading scikit_learn-0.24.2-cp37-cp37m-macosx_10_13_x86_64.whl (7.2 MB)\n",
      "\u001b[K     |████████████████████████████████| 7.2 MB 141 kB/s eta 0:00:01\n",
      "\u001b[?25hCollecting shortuuid\n",
      "  Downloading shortuuid-1.0.1-py3-none-any.whl (7.5 kB)\n",
      "Requirement already satisfied: cached-property in /Library/Frameworks/Python.framework/Versions/3.7/lib/python3.7/site-packages (from h5py->biosppy) (1.5.2)\n",
      "Requirement already satisfied: cycler>=0.10 in /Library/Frameworks/Python.framework/Versions/3.7/lib/python3.7/site-packages (from matplotlib->biosppy) (0.10.0)\n",
      "Requirement already satisfied: kiwisolver>=1.0.1 in /Library/Frameworks/Python.framework/Versions/3.7/lib/python3.7/site-packages (from matplotlib->biosppy) (1.3.1)\n",
      "Requirement already satisfied: python-dateutil>=2.7 in /Library/Frameworks/Python.framework/Versions/3.7/lib/python3.7/site-packages (from matplotlib->biosppy) (2.8.1)\n",
      "Requirement already satisfied: pyparsing>=2.2.1 in /Library/Frameworks/Python.framework/Versions/3.7/lib/python3.7/site-packages (from matplotlib->biosppy) (2.4.7)\n",
      "Requirement already satisfied: pillow>=6.2.0 in /Library/Frameworks/Python.framework/Versions/3.7/lib/python3.7/site-packages (from matplotlib->biosppy) (7.1.2)\n",
      "Collecting threadpoolctl>=2.0.0\n",
      "  Downloading threadpoolctl-2.1.0-py3-none-any.whl (12 kB)\n",
      "Installing collected packages: threadpoolctl, joblib, shortuuid, scikit-learn, bidict, biosppy\n",
      "Successfully installed bidict-0.21.2 biosppy-0.7.0 joblib-1.0.1 scikit-learn-0.24.2 shortuuid-1.0.1 threadpoolctl-2.1.0\n",
      "\u001b[33mWARNING: You are using pip version 21.1.1; however, version 21.1.2 is available.\n",
      "You should consider upgrading via the '/Library/Frameworks/Python.framework/Versions/3.7/bin/python3 -m pip install --upgrade pip' command.\u001b[0m\n"
     ]
    }
   ],
   "source": [
    "!pip install biosppy\n"
   ]
  },
  {
   "cell_type": "code",
   "execution_count": 25,
   "metadata": {
    "id": "JwVUH3JiYo2c"
   },
   "outputs": [],
   "source": [
    "from biosppy.signals import ecg\n",
    "from scipy import signal\n",
    "import numpy as np"
   ]
  },
  {
   "cell_type": "code",
   "execution_count": 44,
   "metadata": {
    "id": "4Sdp6tPLYoh6"
   },
   "outputs": [],
   "source": [
    "sampling_rate = 300"
   ]
  },
  {
   "cell_type": "code",
   "execution_count": 45,
   "metadata": {
    "id": "7wYAERrGYofv",
    "scrolled": true
   },
   "outputs": [],
   "source": [
    "sampling_rate = float(sampling_rate)\n",
    "# filter signal\n",
    "order = int(0.3 * sampling_rate)\n",
    "filter_data = np.zeros((len(data),len(data[0])))\n",
    "for i, (xrow, yrow) in enumerate(zip(data, labels)):\n",
    "  filtered, _, _ = ecg.st.filter_signal(signal=xrow,\n",
    "                                      ftype='FIR',\n",
    "                                      band='bandpass',\n",
    "                                      order=order,\n",
    "                                      frequency=[3, 45],\n",
    "                                      sampling_rate=sampling_rate)\n",
    "  # print(filtered)\n",
    "  filter_data[i] = filtered\n"
   ]
  },
  {
   "cell_type": "code",
   "execution_count": null,
   "metadata": {
    "id": "aArUxEtkYodY"
   },
   "outputs": [],
   "source": []
  },
  {
   "cell_type": "code",
   "execution_count": null,
   "metadata": {
    "id": "PdNCRDJiYoa1"
   },
   "outputs": [],
   "source": []
  },
  {
   "cell_type": "code",
   "execution_count": 46,
   "metadata": {
    "id": "MbQd99_SW2-U"
   },
   "outputs": [],
   "source": [
    "from sklearn.model_selection import train_test_split\n",
    "\n",
    "X_train, X_valid, y_train, y_valid = train_test_split(filter_data, labels, test_size=0.40, random_state=42)"
   ]
  },
  {
   "cell_type": "code",
   "execution_count": 47,
   "metadata": {},
   "outputs": [],
   "source": [
    "X_valid, X_test, y_valid, y_test = train_test_split(X_valid, y_valid, test_size=0.50, random_state=42)"
   ]
  },
  {
   "cell_type": "code",
   "execution_count": 48,
   "metadata": {
    "id": "_eO14sumcuhK"
   },
   "outputs": [],
   "source": [
    "train_dir = './filter/train_imgs_256'\n",
    "valid_dir = './filter/valid_imgs_256'\n",
    "test_dir = './filter/test_imgs_256'"
   ]
  },
  {
   "cell_type": "code",
   "execution_count": null,
   "metadata": {
    "id": "LGBCgTpFcfBR"
   },
   "outputs": [],
   "source": [
    "!sudo rm -rf './train_dir/*'"
   ]
  },
  {
   "cell_type": "code",
   "execution_count": 50,
   "metadata": {
    "id": "X3nGmoVPXLia"
   },
   "outputs": [],
   "source": [
    "\n",
    "\n",
    "os.mkdir(train_dir)\n",
    "os.mkdir(test_dir)"
   ]
  },
  {
   "cell_type": "code",
   "execution_count": 51,
   "metadata": {},
   "outputs": [],
   "source": [
    "os.mkdir(valid_dir)"
   ]
  },
  {
   "cell_type": "code",
   "execution_count": 52,
   "metadata": {
    "id": "DhQ_5JxzYM_i"
   },
   "outputs": [],
   "source": [
    "os.mkdir(train_dir+'/0')\n",
    "os.mkdir(train_dir+'/1')\n",
    "os.mkdir(train_dir+'/2')\n",
    "os.mkdir(train_dir+'/3')\n",
    "os.mkdir(train_dir+'/4')\n",
    "\n",
    "os.mkdir(test_dir+'/0')\n",
    "os.mkdir(test_dir+'/1')\n",
    "os.mkdir(test_dir+'/2')\n",
    "os.mkdir(test_dir+'/3')\n",
    "os.mkdir(test_dir+'/4')"
   ]
  },
  {
   "cell_type": "code",
   "execution_count": 53,
   "metadata": {},
   "outputs": [],
   "source": [
    "\n",
    "os.mkdir(valid_dir+'/0')\n",
    "os.mkdir(valid_dir+'/1')\n",
    "os.mkdir(valid_dir+'/2')\n",
    "os.mkdir(valid_dir+'/3')\n",
    "os.mkdir(valid_dir+'/4')"
   ]
  },
  {
   "cell_type": "code",
   "execution_count": null,
   "metadata": {
    "colab": {
     "base_uri": "https://localhost:8080/",
     "height": 1000
    },
    "id": "ObodoszJTl-R",
    "outputId": "0d2892c8-b42b-4179-e4d9-7c60459c740a",
    "scrolled": false
   },
   "outputs": [],
   "source": [
    "for i, (xrow, yrow) in enumerate(zip(X_train, y_train)):\n",
    "\n",
    "  fig = plt.figure(frameon=False)\n",
    "  plt.plot(xrow) \n",
    "  plt.xticks([]), plt.yticks([])\n",
    "  for spine in plt.gca().spines.values():\n",
    "     spine.set_visible(False)\n",
    "    \n",
    "  # plt.show()\n",
    "  # print(yrow)\n",
    "\n",
    "  filename = train_dir + '/' + str(int(yrow))+'/'+str(i)+'.png'\n",
    "  fig.savefig(filename)\n",
    "  im_gray = cv2.imread(filename, cv2.IMREAD_GRAYSCALE)\n",
    "  im_gray = cv2.resize(im_gray, (256, 256), interpolation = cv2.INTER_LANCZOS4)\n",
    "  cv2.imwrite(filename, im_gray)\n",
    "\n"
   ]
  },
  {
   "cell_type": "code",
   "execution_count": null,
   "metadata": {
    "colab": {
     "base_uri": "https://localhost:8080/"
    },
    "id": "_3F7G-D5URW0",
    "outputId": "39643069-7cae-4b1b-c5f9-aced466dccc4"
   },
   "outputs": [],
   "source": [
    "for i, (xrow, yrow) in enumerate(zip(X_valid, y_valid)):\n",
    "\n",
    "  fig = plt.figure(frameon=False)\n",
    "  plt.plot(xrow) \n",
    "  plt.xticks([]), plt.yticks([])\n",
    "  for spine in plt.gca().spines.values():\n",
    "     spine.set_visible(False)\n",
    "    \n",
    "  # plt.show()\n",
    "  # print(yrow)\n",
    "  # # break\n",
    "\n",
    "  filename = valid_dir + '/' + str(int(yrow))+'/'+str(i)+'.png'\n",
    "  fig.savefig(filename)\n",
    "  im_gray = cv2.imread(filename, cv2.IMREAD_GRAYSCALE)\n",
    "  im_gray = cv2.resize(im_gray, (256, 256), interpolation = cv2.INTER_LANCZOS4)\n",
    "  cv2.imwrite(filename, im_gray)"
   ]
  },
  {
   "cell_type": "code",
   "execution_count": null,
   "metadata": {
    "id": "FeYSMdKzY4nj"
   },
   "outputs": [],
   "source": [
    "for i, (xrow, yrow) in enumerate(zip(X_test, y_test)):\n",
    "\n",
    "  fig = plt.figure(frameon=False)\n",
    "  plt.plot(xrow) \n",
    "  plt.xticks([]), plt.yticks([])\n",
    "  for spine in plt.gca().spines.values():\n",
    "     spine.set_visible(False)\n",
    "    \n",
    "  # plt.show()\n",
    "  # print(yrow)\n",
    "  # # break\n",
    "\n",
    "  filename = test_dir + '/' + str(int(yrow))+'/'+str(i)+'.png'\n",
    "  fig.savefig(filename)\n",
    "  im_gray = cv2.imread(filename, cv2.IMREAD_GRAYSCALE)\n",
    "  im_gray = cv2.resize(im_gray, (256, 256), interpolation = cv2.INTER_LANCZOS4)\n",
    "  cv2.imwrite(filename, im_gray)"
   ]
  },
  {
   "cell_type": "code",
   "execution_count": null,
   "metadata": {},
   "outputs": [],
   "source": []
  }
 ],
 "metadata": {
  "colab": {
   "collapsed_sections": [],
   "name": "CNN_Image.ipynb",
   "provenance": []
  },
  "kernelspec": {
   "display_name": "Python 3",
   "language": "python",
   "name": "python3"
  },
  "language_info": {
   "codemirror_mode": {
    "name": "ipython",
    "version": 3
   },
   "file_extension": ".py",
   "mimetype": "text/x-python",
   "name": "python",
   "nbconvert_exporter": "python",
   "pygments_lexer": "ipython3",
   "version": "3.7.9"
  }
 },
 "nbformat": 4,
 "nbformat_minor": 1
}
