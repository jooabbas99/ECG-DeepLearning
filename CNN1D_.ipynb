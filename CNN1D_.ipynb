{
 "cells": [
  {
   "cell_type": "markdown",
   "metadata": {
    "id": "hrXt1dCNEbOI"
   },
   "source": [
    "# Load Data"
   ]
  },
  {
   "cell_type": "code",
   "execution_count": 1,
   "metadata": {
    "id": "d6CZc9XYEbOM"
   },
   "outputs": [],
   "source": [
    "# only for macbook with AMD GPU\n",
    "import os\n",
    "import plaidml.keras\n",
    "plaidml.keras.install_backend()\n",
    "os.environ[\"KERAS_BACKEND\"] = \"plaidml.keras.backend\"\n"
   ]
  },
  {
   "cell_type": "code",
   "execution_count": 2,
   "metadata": {
    "id": "g4S2i7YIEbON"
   },
   "outputs": [],
   "source": [
    "import numpy as np\n",
    "import pandas as pd\n",
    "import seaborn as sns\n",
    "import matplotlib.pyplot as plt\n",
    "from sklearn.metrics import classification_report\n",
    "from sklearn.model_selection import train_test_split\n",
    "from sklearn.metrics import f1_score\n",
    "from sklearn.metrics import confusion_matrix\n",
    "from keras.utils.np_utils import to_categorical\n",
    "from sklearn.utils import class_weight\n",
    "import warnings\n",
    "warnings.filterwarnings('ignore')\n"
   ]
  },
  {
   "cell_type": "code",
   "execution_count": 3,
   "metadata": {
    "colab": {
     "base_uri": "https://localhost:8080/"
    },
    "id": "Pc6vn8l5Ejes",
    "outputId": "aeb56af4-f2e3-44fd-de70-72a54f3e8923"
   },
   "outputs": [
    {
     "name": "stdout",
     "output_type": "stream",
     "text": [
      "Downloading...\n",
      "From: https://drive.google.com/uc?id=11zufpuePYayZys7vK-uFyTOG9_g8o7zv\n",
      "To: /Users/youssefabbas/Desktop/Graduation Project/untitled folder 2/all_in_one_MIT_BIH_DATASET_32_5_2021.csv\n",
      "241MB [01:12, 3.33MB/s] \n"
     ]
    }
   ],
   "source": [
    "! gdown --id 11zufpuePYayZys7vK-uFyTOG9_g8o7zv"
   ]
  },
  {
   "cell_type": "code",
   "execution_count": 3,
   "metadata": {
    "id": "eeaiORqoEbOP"
   },
   "outputs": [],
   "source": [
    "data = pd.read_csv('./MIT_BIH_DATASET_Resampled_Filltered_6_2021.csv')"
   ]
  },
  {
   "cell_type": "code",
   "execution_count": 4,
   "metadata": {
    "colab": {
     "base_uri": "https://localhost:8080/"
    },
    "id": "Rl6vHWCaFd9Y",
    "outputId": "e61a0968-1803-45c7-8a03-b81a1f762d6c",
    "scrolled": true
   },
   "outputs": [
    {
     "name": "stdout",
     "output_type": "stream",
     "text": [
      "(27200, 301)\n"
     ]
    }
   ],
   "source": [
    "data_new = data.to_numpy()\n",
    "print(data_new.shape)"
   ]
  },
  {
   "cell_type": "code",
   "execution_count": 5,
   "metadata": {
    "colab": {
     "base_uri": "https://localhost:8080/"
    },
    "id": "FphIpuocFd7M",
    "outputId": "11f904c8-f1ef-4f99-d156-855ff38b16c3"
   },
   "outputs": [
    {
     "name": "stdout",
     "output_type": "stream",
     "text": [
      "(27200, 300) (27200,)\n"
     ]
    }
   ],
   "source": [
    "data, labels = data_new[:, :-1], data_new[:, -1]\n",
    "print(data.shape, labels.shape)\n"
   ]
  },
  {
   "cell_type": "code",
   "execution_count": 8,
   "metadata": {
    "colab": {
     "base_uri": "https://localhost:8080/"
    },
    "id": "AzhGsVfXGSFh",
    "outputId": "961bfc9d-510a-488f-a084-b5d4e438d267"
   },
   "outputs": [
    {
     "name": "stdout",
     "output_type": "stream",
     "text": [
      "Requirement already satisfied: biosppy in /Library/Frameworks/Python.framework/Versions/3.7/lib/python3.7/site-packages (0.7.0)\n",
      "Requirement already satisfied: six in /Library/Frameworks/Python.framework/Versions/3.7/lib/python3.7/site-packages (from biosppy) (1.15.0)\n",
      "Requirement already satisfied: joblib in /Library/Frameworks/Python.framework/Versions/3.7/lib/python3.7/site-packages (from biosppy) (1.0.1)\n",
      "Requirement already satisfied: bidict in /Library/Frameworks/Python.framework/Versions/3.7/lib/python3.7/site-packages (from biosppy) (0.21.2)\n",
      "Requirement already satisfied: scikit-learn in /Library/Frameworks/Python.framework/Versions/3.7/lib/python3.7/site-packages (from biosppy) (0.24.2)\n",
      "Requirement already satisfied: numpy in /Library/Frameworks/Python.framework/Versions/3.7/lib/python3.7/site-packages (from biosppy) (1.20.2)\n",
      "Requirement already satisfied: scipy in /Library/Frameworks/Python.framework/Versions/3.7/lib/python3.7/site-packages (from biosppy) (1.6.2)\n",
      "Requirement already satisfied: matplotlib in /Library/Frameworks/Python.framework/Versions/3.7/lib/python3.7/site-packages (from biosppy) (3.4.1)\n",
      "Requirement already satisfied: h5py in /Library/Frameworks/Python.framework/Versions/3.7/lib/python3.7/site-packages (from biosppy) (3.2.1)\n",
      "Requirement already satisfied: shortuuid in /Library/Frameworks/Python.framework/Versions/3.7/lib/python3.7/site-packages (from biosppy) (1.0.1)\n",
      "Requirement already satisfied: cached-property in /Library/Frameworks/Python.framework/Versions/3.7/lib/python3.7/site-packages (from h5py->biosppy) (1.5.2)\n",
      "Requirement already satisfied: cycler>=0.10 in /Library/Frameworks/Python.framework/Versions/3.7/lib/python3.7/site-packages (from matplotlib->biosppy) (0.10.0)\n",
      "Requirement already satisfied: pillow>=6.2.0 in /Library/Frameworks/Python.framework/Versions/3.7/lib/python3.7/site-packages (from matplotlib->biosppy) (7.1.2)\n",
      "Requirement already satisfied: pyparsing>=2.2.1 in /Library/Frameworks/Python.framework/Versions/3.7/lib/python3.7/site-packages (from matplotlib->biosppy) (2.4.7)\n",
      "Requirement already satisfied: python-dateutil>=2.7 in /Library/Frameworks/Python.framework/Versions/3.7/lib/python3.7/site-packages (from matplotlib->biosppy) (2.8.1)\n",
      "Requirement already satisfied: kiwisolver>=1.0.1 in /Library/Frameworks/Python.framework/Versions/3.7/lib/python3.7/site-packages (from matplotlib->biosppy) (1.3.1)\n",
      "Requirement already satisfied: threadpoolctl>=2.0.0 in /Library/Frameworks/Python.framework/Versions/3.7/lib/python3.7/site-packages (from scikit-learn->biosppy) (2.1.0)\n",
      "\u001b[33mWARNING: You are using pip version 21.1.1; however, version 21.1.2 is available.\n",
      "You should consider upgrading via the '/Library/Frameworks/Python.framework/Versions/3.7/bin/python3 -m pip install --upgrade pip' command.\u001b[0m\n"
     ]
    }
   ],
   "source": [
    "!pip install biosppy\n"
   ]
  },
  {
   "cell_type": "code",
   "execution_count": 6,
   "metadata": {
    "id": "0G4brBhIGSDP"
   },
   "outputs": [],
   "source": [
    "from biosppy.signals import ecg\n",
    "from scipy import signal\n"
   ]
  },
  {
   "cell_type": "code",
   "execution_count": 7,
   "metadata": {
    "id": "gYjgPZBxGSAT"
   },
   "outputs": [],
   "source": [
    "from sklearn.utils import class_weight\n"
   ]
  },
  {
   "cell_type": "code",
   "execution_count": 8,
   "metadata": {},
   "outputs": [],
   "source": [
    "class_weights = class_weight.compute_class_weight('balanced',\n",
    "                                                 np.unique(labels),\n",
    "                                                 labels)"
   ]
  },
  {
   "cell_type": "code",
   "execution_count": 45,
   "metadata": {},
   "outputs": [
    {
     "data": {
      "text/plain": [
       "array([0.64700285, 0.89650626, 1.36580467, 0.80342638, 2.76142132])"
      ]
     },
     "execution_count": 45,
     "metadata": {},
     "output_type": "execute_result"
    }
   ],
   "source": [
    "class_weights"
   ]
  },
  {
   "cell_type": "code",
   "execution_count": 9,
   "metadata": {
    "id": "ZDdwF3GVGNaF"
   },
   "outputs": [],
   "source": [
    "sampling_rate = float(300)\n",
    "# filter signal\n",
    "order = int(0.3 * sampling_rate)\n",
    "filter_data = np.zeros((len(data),len(data[0])))\n",
    "for i, (xrow, yrow) in enumerate(zip(data, labels)):\n",
    "  filtered, _, _ = ecg.st.filter_signal(signal=xrow,\n",
    "                                      ftype='FIR',\n",
    "                                      band='bandpass',\n",
    "                                      order=order,\n",
    "                                      frequency=[3, 45],\n",
    "                                      sampling_rate=sampling_rate)\n",
    "  # print(filtered)\n",
    "  filter_data[i] = filtered\n"
   ]
  },
  {
   "cell_type": "code",
   "execution_count": 25,
   "metadata": {
    "id": "JlfpEVmIEbOS"
   },
   "outputs": [],
   "source": [
    "from sklearn.model_selection import train_test_split\n",
    "\n",
    "X_train, X_valid, y_train, y_valid = train_test_split(filter_data, labels, test_size=0.40, random_state=42)\n",
    "X_valid, X_test, y_valid, y_test = train_test_split(X_valid, y_valid, test_size=0.50, random_state=42)"
   ]
  },
  {
   "cell_type": "code",
   "execution_count": 26,
   "metadata": {
    "id": "MmZn88GtEbOT"
   },
   "outputs": [],
   "source": [
    "X_train = X_train.reshape(len(X_train), X_train.shape[1],1)\n",
    "X_valid = X_valid.reshape(len(X_valid), X_valid.shape[1],1)\n",
    "X_test = X_test.reshape(len(X_test), X_test.shape[1],1)"
   ]
  },
  {
   "cell_type": "code",
   "execution_count": 27,
   "metadata": {
    "colab": {
     "base_uri": "https://localhost:8080/"
    },
    "id": "gAM3YMZwEbOT",
    "outputId": "4594c7ff-54c5-4bcb-c5ef-8572e0190c25"
   },
   "outputs": [
    {
     "data": {
      "text/plain": [
       "(16320, 300, 1)"
      ]
     },
     "execution_count": 27,
     "metadata": {},
     "output_type": "execute_result"
    }
   ],
   "source": [
    "X_train.shape"
   ]
  },
  {
   "cell_type": "code",
   "execution_count": 28,
   "metadata": {
    "colab": {
     "base_uri": "https://localhost:8080/"
    },
    "id": "P1PnZnIUEbOT",
    "outputId": "c644e429-605e-424d-804b-23940ee362da"
   },
   "outputs": [
    {
     "data": {
      "text/plain": [
       "(5440, 300, 1)"
      ]
     },
     "execution_count": 28,
     "metadata": {},
     "output_type": "execute_result"
    }
   ],
   "source": [
    "X_valid.shape"
   ]
  },
  {
   "cell_type": "code",
   "execution_count": 29,
   "metadata": {},
   "outputs": [
    {
     "data": {
      "text/plain": [
       "(5440, 300, 1)"
      ]
     },
     "execution_count": 29,
     "metadata": {},
     "output_type": "execute_result"
    }
   ],
   "source": [
    "X_test.shape"
   ]
  },
  {
   "cell_type": "code",
   "execution_count": null,
   "metadata": {},
   "outputs": [],
   "source": []
  },
  {
   "cell_type": "code",
   "execution_count": 30,
   "metadata": {
    "colab": {
     "base_uri": "https://localhost:8080/",
     "height": 282
    },
    "id": "fWkuNCTIEbOU",
    "outputId": "98e5a0a2-1ccf-4f1b-b46c-b085dc1f3e0b"
   },
   "outputs": [
    {
     "data": {
      "text/plain": [
       "[<matplotlib.lines.Line2D at 0x7f83cbc527d0>]"
      ]
     },
     "execution_count": 30,
     "metadata": {},
     "output_type": "execute_result"
    },
    {
     "data": {
      "image/png": "[encoded data removed]",
      "text/plain": [
       "<Figure size 432x288 with 1 Axes>"
      ]
     },
     "metadata": {
      "needs_background": "light"
     },
     "output_type": "display_data"
    }
   ],
   "source": [
    "plt.plot(X_train[100])"
   ]
  },
  {
   "cell_type": "code",
   "execution_count": 31,
   "metadata": {
    "colab": {
     "base_uri": "https://localhost:8080/"
    },
    "id": "K7ZUnH5wEbOU",
    "outputId": "4a0a7561-5a6f-4be2-b521-7f383913baba"
   },
   "outputs": [
    {
     "data": {
      "text/plain": [
       "300"
      ]
     },
     "execution_count": 31,
     "metadata": {},
     "output_type": "execute_result"
    }
   ],
   "source": [
    "X_train.shape[1]"
   ]
  },
  {
   "cell_type": "code",
   "execution_count": 32,
   "metadata": {
    "id": "440P7ENFEbOV"
   },
   "outputs": [],
   "source": [
    "def network(X_train,y_train,X_test,y_test):\n",
    "    im_shape=(X_train.shape[1],1)\n",
    "    inputs_cnn=Input(shape=(im_shape), name='inputs_cnn')\n",
    "    conv1_1=Convolution1D(64, (6), activation='relu', input_shape=im_shape)(inputs_cnn)\n",
    "    conv1_1=BatchNormalization()(conv1_1)\n",
    "    pool1=MaxPool1D(pool_size=(3), strides=(2), padding=\"same\")(conv1_1)\n",
    "    conv2_1=Convolution1D(64, (3), activation='relu', input_shape=im_shape)(pool1)\n",
    "    conv2_1=BatchNormalization()(conv2_1)\n",
    "    pool2=MaxPool1D(pool_size=(2), strides=(2), padding=\"same\")(conv2_1)\n",
    "    conv3_1=Convolution1D(64, (3), activation='relu', input_shape=im_shape)(pool2)\n",
    "    conv3_1=BatchNormalization()(conv3_1)\n",
    "    pool3=MaxPool1D(pool_size=(2), strides=(2), padding=\"same\")(conv3_1)\n",
    "    flatten=Flatten()(pool3)\n",
    "    dense_end1 = Dense(64, activation='relu')(flatten)\n",
    "    dense_end2 = Dense(32, activation='relu')(dense_end1)\n",
    "    main_output = Dense(5, activation='softmax', name='main_output')(dense_end2)\n",
    "    model = Model(inputs= inputs_cnn, outputs=main_output)\n",
    "    model.compile(optimizer='adam', loss='categorical_crossentropy',metrics = ['accuracy'])\n",
    "    callbacks = [EarlyStopping(monitor='val_loss', patience=5),]\n",
    "    model.summary()\n",
    "    import tensorflow as tf\n",
    "\n",
    "    tf.keras.utils.plot_model(\n",
    "        model\n",
    "    )\n",
    "    history=model.fit(X_train, y_train,epochs=30,callbacks=callbacks,class_weight=class_weights, batch_size=32,validation_data=(X_test,y_test))\n",
    "    return(model,history)"
   ]
  },
  {
   "cell_type": "code",
   "execution_count": 33,
   "metadata": {
    "id": "Co7ubsPgEbOW"
   },
   "outputs": [],
   "source": [
    "X_train_ = np.expand_dims(X_train, axis=1)\n",
    "X_valid_ = np.expand_dims(X_valid, axis=1)\n",
    "    "
   ]
  },
  {
   "cell_type": "code",
   "execution_count": 34,
   "metadata": {
    "id": "aN-ydNyMIxyN"
   },
   "outputs": [],
   "source": [
    "y_train_ = to_categorical(y_train)\n",
    "y_valid_ = to_categorical(y_valid)"
   ]
  },
  {
   "cell_type": "code",
   "execution_count": 35,
   "metadata": {
    "colab": {
     "base_uri": "https://localhost:8080/"
    },
    "id": "tAYasVq5EbOW",
    "outputId": "7751d913-fb8a-46e6-945f-25d47ef71e6c"
   },
   "outputs": [
    {
     "name": "stdout",
     "output_type": "stream",
     "text": [
      "_________________________________________________________________\n",
      "Layer (type)                 Output Shape              Param #   \n",
      "=================================================================\n",
      "inputs_cnn (InputLayer)      (None, 300, 1)            0         \n",
      "_________________________________________________________________\n",
      "conv1d_4 (Conv1D)            (None, 295, 64)           448       \n",
      "_________________________________________________________________\n",
      "batch_normalization_4 (Batch (None, 295, 64)           256       \n",
      "_________________________________________________________________\n",
      "max_pooling1d_4 (MaxPooling1 (None, 148, 64)           0         \n",
      "_________________________________________________________________\n",
      "conv1d_5 (Conv1D)            (None, 146, 64)           12352     \n",
      "_________________________________________________________________\n",
      "batch_normalization_5 (Batch (None, 146, 64)           256       \n",
      "_________________________________________________________________\n",
      "max_pooling1d_5 (MaxPooling1 (None, 73, 64)            0         \n",
      "_________________________________________________________________\n",
      "conv1d_6 (Conv1D)            (None, 71, 64)            12352     \n",
      "_________________________________________________________________\n",
      "batch_normalization_6 (Batch (None, 71, 64)            256       \n",
      "_________________________________________________________________\n",
      "max_pooling1d_6 (MaxPooling1 (None, 36, 64)            0         \n",
      "_________________________________________________________________\n",
      "flatten_2 (Flatten)          (None, 2304)              0         \n",
      "_________________________________________________________________\n",
      "dense_3 (Dense)              (None, 64)                147520    \n",
      "_________________________________________________________________\n",
      "dense_4 (Dense)              (None, 32)                2080      \n",
      "_________________________________________________________________\n",
      "main_output (Dense)          (None, 5)                 165       \n",
      "=================================================================\n",
      "Total params: 175,685\n",
      "Trainable params: 175,301\n",
      "Non-trainable params: 384\n",
      "_________________________________________________________________\n",
      "Train on 16320 samples, validate on 5440 samples\n",
      "Epoch 1/30\n",
      "16320/16320 [==============================] - 14s 864us/step - loss: 0.1306 - acc: 0.9594 - val_loss: 0.0889 - val_acc: 0.9752\n",
      "Epoch 2/30\n",
      "16320/16320 [==============================] - 10s 641us/step - loss: 0.0412 - acc: 0.9868 - val_loss: 0.0513 - val_acc: 0.9855\n",
      "Epoch 3/30\n",
      "16320/16320 [==============================] - 10s 642us/step - loss: 0.0235 - acc: 0.9926 - val_loss: 0.0721 - val_acc: 0.9835\n",
      "Epoch 4/30\n",
      "16320/16320 [==============================] - 11s 647us/step - loss: 0.0202 - acc: 0.9933 - val_loss: 0.0794 - val_acc: 0.9820\n",
      "Epoch 5/30\n",
      "16320/16320 [==============================] - 10s 642us/step - loss: 0.0099 - acc: 0.9968 - val_loss: 0.0574 - val_acc: 0.9860\n",
      "Epoch 6/30\n",
      "16320/16320 [==============================] - 10s 641us/step - loss: 0.0091 - acc: 0.9972 - val_loss: 0.0739 - val_acc: 0.9829\n",
      "Epoch 7/30\n",
      "16320/16320 [==============================] - 10s 642us/step - loss: 0.0124 - acc: 0.9964 - val_loss: 0.0651 - val_acc: 0.9871\n"
     ]
    }
   ],
   "source": [
    "from keras.layers import Dense, Convolution1D, MaxPool1D, Flatten, Dropout\n",
    "from keras.layers import Input\n",
    "from keras.models import Model\n",
    "from keras.layers.normalization import BatchNormalization\n",
    "import keras\n",
    "from keras.callbacks import EarlyStopping, ModelCheckpoint\n",
    "model,history=network(X_train,y_train_,X_valid,y_valid_)\n"
   ]
  },
  {
   "cell_type": "code",
   "execution_count": 36,
   "metadata": {},
   "outputs": [
    {
     "data": {
      "text/plain": [
       "0.009078816675087985"
      ]
     },
     "execution_count": 36,
     "metadata": {},
     "output_type": "execute_result"
    }
   ],
   "source": [
    "min(history.history['loss'])"
   ]
  },
  {
   "cell_type": "code",
   "execution_count": 37,
   "metadata": {},
   "outputs": [],
   "source": [
    "X_test_ = np.expand_dims(X_test, axis=1)"
   ]
  },
  {
   "cell_type": "code",
   "execution_count": null,
   "metadata": {},
   "outputs": [],
   "source": [
    "cl"
   ]
  },
  {
   "cell_type": "code",
   "execution_count": 38,
   "metadata": {},
   "outputs": [
    {
     "data": {
      "text/plain": [
       "(5440, 300, 1)"
      ]
     },
     "execution_count": 38,
     "metadata": {},
     "output_type": "execute_result"
    }
   ],
   "source": [
    "X_test.shape"
   ]
  },
  {
   "cell_type": "code",
   "execution_count": 39,
   "metadata": {},
   "outputs": [],
   "source": [
    "y_valid_ = to_categorical(y_test)"
   ]
  },
  {
   "cell_type": "code",
   "execution_count": 40,
   "metadata": {},
   "outputs": [
    {
     "data": {
      "text/plain": [
       "array([0., 2., 1., ..., 0., 3., 3.])"
      ]
     },
     "execution_count": 40,
     "metadata": {},
     "output_type": "execute_result"
    }
   ],
   "source": [
    "y_test"
   ]
  },
  {
   "cell_type": "code",
   "execution_count": 41,
   "metadata": {},
   "outputs": [
    {
     "name": "stdout",
     "output_type": "stream",
     "text": [
      "Evaluate on test data\n",
      "5440/5440 [==============================] - 1s 92us/step\n",
      "test loss, test acc: [0.07396243793122909, 0.9865808823529412]\n"
     ]
    }
   ],
   "source": [
    "# Evaluate the model on the test data using `evaluate`\n",
    "print(\"Evaluate on test data\")\n",
    "results = model.evaluate(X_test, y_valid_)\n",
    "print(\"test loss, test acc:\", results)"
   ]
  },
  {
   "cell_type": "code",
   "execution_count": 42,
   "metadata": {},
   "outputs": [],
   "source": [
    "model.save('CNN_1D.h5')"
   ]
  },
  {
   "cell_type": "code",
   "execution_count": null,
   "metadata": {},
   "outputs": [],
   "source": []
  }
 ],
 "metadata": {
  "colab": {
   "name": "CNN1D .ipynb",
   "provenance": []
  },
  "kernelspec": {
   "display_name": "Python 3",
   "language": "python",
   "name": "python3"
  },
  "language_info": {
   "codemirror_mode": {
    "name": "ipython",
    "version": 3
   },
   "file_extension": ".py",
   "mimetype": "text/x-python",
   "name": "python",
   "nbconvert_exporter": "python",
   "pygments_lexer": "ipython3",
   "version": "3.7.9"
  }
 },
 "nbformat": 4,
 "nbformat_minor": 1
}
