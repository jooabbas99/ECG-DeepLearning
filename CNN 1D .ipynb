{
 "cells": [
  {
   "cell_type": "code",
   "execution_count": null,
   "metadata": {},
   "outputs": [],
   "source": []
  },
  {
   "cell_type": "code",
   "execution_count": 1,
   "metadata": {},
   "outputs": [],
   "source": [
    "# only for macbook with AMD GPU\n",
    "import os\n",
    "import plaidml.keras\n",
    "plaidml.keras.install_backend()\n",
    "os.environ[\"KERAS_BACKEND\"] = \"plaidml.keras.backend\"\n"
   ]
  },
  {
   "cell_type": "code",
   "execution_count": 2,
   "metadata": {},
   "outputs": [],
   "source": [
    "import numpy as np\n",
    "import pandas as pd\n",
    "import seaborn as sns\n",
    "import matplotlib.pyplot as plt\n",
    "from sklearn.metrics import classification_report\n",
    "from sklearn.model_selection import train_test_split\n",
    "from sklearn.metrics import f1_score\n",
    "from sklearn.metrics import confusion_matrix\n",
    "from keras.utils.np_utils import to_categorical\n",
    "from sklearn.utils import class_weight\n",
    "import warnings\n",
    "warnings.filterwarnings('ignore')\n"
   ]
  },
  {
   "cell_type": "code",
   "execution_count": 3,
   "metadata": {},
   "outputs": [],
   "source": [
    "data = pd.read_csv('./../New Folder With Items/MIT_BIH_DATASET_Resampled_Filltered_6_2021.csv')"
   ]
  },
  {
   "cell_type": "code",
   "execution_count": 4,
   "metadata": {},
   "outputs": [
    {
     "name": "stdout",
     "output_type": "stream",
     "text": [
      "(27200, 301)\n"
     ]
    }
   ],
   "source": [
    "data_new = data.to_numpy()\n",
    "print(data_new.shape)"
   ]
  },
  {
   "cell_type": "code",
   "execution_count": 5,
   "metadata": {},
   "outputs": [
    {
     "name": "stdout",
     "output_type": "stream",
     "text": [
      "(27200, 300) (27200,)\n"
     ]
    }
   ],
   "source": [
    "data, labels = data_new[:, :-1], data_new[:, -1]\n",
    "print(data.shape, labels.shape)"
   ]
  },
  {
   "cell_type": "code",
   "execution_count": 6,
   "metadata": {},
   "outputs": [],
   "source": [
    "from biosppy.signals import ecg\n",
    "from scipy import signal\n"
   ]
  },
  {
   "cell_type": "code",
   "execution_count": 7,
   "metadata": {},
   "outputs": [],
   "source": [
    "from sklearn.utils import class_weight\n"
   ]
  },
  {
   "cell_type": "code",
   "execution_count": 8,
   "metadata": {},
   "outputs": [],
   "source": [
    "class_weights = class_weight.compute_class_weight('balanced',\n",
    "                                                 np.unique(labels),\n",
    "                                                 labels)"
   ]
  },
  {
   "cell_type": "code",
   "execution_count": 9,
   "metadata": {},
   "outputs": [],
   "source": [
    "def scale_data(data, lower=0, upper=1024):\n",
    "    '''scales passed sequence between thresholds\n",
    "\n",
    "    Function that scales passed data so that it has specified lower \n",
    "    and upper bounds.\n",
    "    \n",
    "    Parameters\n",
    "    ----------\n",
    "    data : 1-d array or list\n",
    "        Sequence to be scaled\n",
    "\n",
    "    lower : int or float\n",
    "        lower threshold for scaling\n",
    "        default : 0\n",
    "\n",
    "    upper : int or float\n",
    "        upper threshold for scaling\n",
    "        default : 1024\n",
    "\n",
    "    Returns\n",
    "    -------\n",
    "    out : 1-d array\n",
    "        contains scaled data\n",
    "\n",
    "    Examples\n",
    "    --------\n",
    "    When passing data without further arguments to the function means it scales 0-1024\n",
    "    \n",
    "    >>> x = [2, 3, 4, 5]\n",
    "    >>> scale_data(x)\n",
    "    array([   0.        ,  341.33333333,  682.66666667, 1024.        ])\n",
    "\n",
    "    Or you can specify a range:\n",
    "\n",
    "    >>> scale_data(x, lower = 50, upper = 124)\n",
    "    array([ 50.        ,  74.66666667,  99.33333333, 124.        ])\n",
    "    '''\n",
    "\n",
    "    rng = np.max(data) - np.min(data)\n",
    "    minimum = np.min(data)\n",
    "    data = (upper - lower) * ((data - minimum) / rng) + lower\n",
    "    return data"
   ]
  },
  {
   "cell_type": "code",
   "execution_count": 10,
   "metadata": {},
   "outputs": [],
   "source": [
    "sampling_rate = float(300)\n",
    "# filter signal\n",
    "order = int(0.3 * sampling_rate)\n",
    "filter_data = np.zeros((len(data),len(data[0])))\n",
    "for i, (xrow, yrow) in enumerate(zip(data, labels)):\n",
    "  filtered, _, _ = ecg.st.filter_signal(signal=xrow,\n",
    "                                      ftype='FIR',\n",
    "                                      band='bandpass',\n",
    "                                      order=order,\n",
    "                                      frequency=[3, 45],\n",
    "                                      sampling_rate=sampling_rate)\n",
    "    \n",
    "  # print(filtered)\n",
    "  scaled = scale_data(filtered,lower=0, upper=1)\n",
    "  filter_data[i] = scaled"
   ]
  },
  {
   "cell_type": "code",
   "execution_count": 45,
   "metadata": {},
   "outputs": [],
   "source": [
    "from sklearn.model_selection import train_test_split\n",
    "\n",
    "X_train, X_valid, y_train, y_valid = train_test_split(filter_data, labels, test_size=0.40, random_state=42)\n",
    "X_valid, X_test, y_valid, y_test = train_test_split(X_valid, y_valid, test_size=0.50, random_state=42)"
   ]
  },
  {
   "cell_type": "code",
   "execution_count": 46,
   "metadata": {},
   "outputs": [],
   "source": [
    "X_train = X_train.reshape(len(X_train), X_train.shape[1],1)\n",
    "X_valid = X_valid.reshape(len(X_valid), X_valid.shape[1],1)\n",
    "X_test = X_test.reshape(len(X_test), X_test.shape[1],1)"
   ]
  },
  {
   "cell_type": "code",
   "execution_count": null,
   "metadata": {},
   "outputs": [],
   "source": []
  },
  {
   "cell_type": "code",
   "execution_count": 47,
   "metadata": {
    "scrolled": true
   },
   "outputs": [],
   "source": [
    "del model"
   ]
  },
  {
   "cell_type": "code",
   "execution_count": 48,
   "metadata": {},
   "outputs": [],
   "source": [
    "def network(X_train,y_train,X_test,y_test,batch_size=32,epochs=10):\n",
    "    im_shape=(X_train.shape[1],1)\n",
    "    model = Sequential()\n",
    "#     model.add(Input(shape=(im_shape), name='inputs_cnn'))\n",
    "    model.add(Convolution1D(64, (6), activation='relu', input_shape=im_shape))\n",
    "    model.add(BatchNormalization())    \n",
    "    model.add(MaxPool1D(pool_size=(3), strides=(2), padding=\"same\"))    \n",
    "    model.add(Convolution1D(64, (3), activation='relu', input_shape=im_shape))    \n",
    "    model.add(BatchNormalization())    \n",
    "    model.add(MaxPool1D(pool_size=(2), strides=(2), padding=\"same\"))\n",
    "    model.add(Convolution1D(64, (3), activation='relu', input_shape=im_shape))\n",
    "    model.add(BatchNormalization())\n",
    "    model.add(MaxPool1D(pool_size=(2), strides=(2), padding=\"same\"))\n",
    "    model.add(Flatten())\n",
    "    model.add(Dense(64, activation='relu'))\n",
    "    model.add(Dense(32, activation='relu'))\n",
    "    model.add(Dense(5, activation='softmax', name='main_output'))\n",
    "    model.compile(optimizer='adam', loss='categorical_crossentropy',metrics = ['accuracy'])\n",
    "    \n",
    "    mincp_save =keras.callbacks.ModelCheckpoint('./CNN1DbestEpochMin.hdf5', save_best_only=True, monitor='val_loss', mode='min')\n",
    "    maxcp_save =keras.callbacks.ModelCheckpoint('./CNN1DbestEpochMax.hdf5', save_best_only=True, monitor='val_acc', mode='max')\n",
    "    callbacks = [mincp_save,maxcp_save]\n",
    "    model.summary()\n",
    "    import tensorflow as tf\n",
    "\n",
    "    tf.keras.utils.plot_model(\n",
    "        model\n",
    "    )\n",
    "\n",
    "    history=model.fit(X_train, y_train,epochs=epochs,callbacks=callbacks,class_weight=class_weights, batch_size=batch_size,validation_data=(X_test,y_test))\n",
    "    return(model,history)"
   ]
  },
  {
   "cell_type": "code",
   "execution_count": 49,
   "metadata": {},
   "outputs": [],
   "source": [
    "X_train_ = np.expand_dims(X_train, axis=1)\n",
    "X_valid_ = np.expand_dims(X_valid, axis=1)\n",
    "    "
   ]
  },
  {
   "cell_type": "code",
   "execution_count": 50,
   "metadata": {},
   "outputs": [],
   "source": [
    "y_train_ = to_categorical(y_train)\n",
    "y_valid_ = to_categorical(y_valid)"
   ]
  },
  {
   "cell_type": "code",
   "execution_count": 51,
   "metadata": {},
   "outputs": [],
   "source": [
    "from keras.layers import Dense, Convolution1D, MaxPool1D, Flatten, Dropout\n",
    "from keras.layers import Input\n",
    "from keras.models import Model,Sequential\n",
    "from keras.layers.normalization import BatchNormalization\n",
    "import keras\n",
    "from keras.callbacks import EarlyStopping, ModelCheckpoint"
   ]
  },
  {
   "cell_type": "code",
   "execution_count": 52,
   "metadata": {
    "scrolled": false
   },
   "outputs": [
    {
     "name": "stdout",
     "output_type": "stream",
     "text": [
      "_________________________________________________________________\n",
      "Layer (type)                 Output Shape              Param #   \n",
      "=================================================================\n",
      "conv1d_16 (Conv1D)           (None, 295, 64)           448       \n",
      "_________________________________________________________________\n",
      "batch_normalization_16 (Batc (None, 295, 64)           256       \n",
      "_________________________________________________________________\n",
      "max_pooling1d_16 (MaxPooling (None, 148, 64)           0         \n",
      "_________________________________________________________________\n",
      "conv1d_17 (Conv1D)           (None, 146, 64)           12352     \n",
      "_________________________________________________________________\n",
      "batch_normalization_17 (Batc (None, 146, 64)           256       \n",
      "_________________________________________________________________\n",
      "max_pooling1d_17 (MaxPooling (None, 73, 64)            0         \n",
      "_________________________________________________________________\n",
      "conv1d_18 (Conv1D)           (None, 71, 64)            12352     \n",
      "_________________________________________________________________\n",
      "batch_normalization_18 (Batc (None, 71, 64)            256       \n",
      "_________________________________________________________________\n",
      "max_pooling1d_18 (MaxPooling (None, 36, 64)            0         \n",
      "_________________________________________________________________\n",
      "flatten_6 (Flatten)          (None, 2304)              0         \n",
      "_________________________________________________________________\n",
      "dense_11 (Dense)             (None, 64)                147520    \n",
      "_________________________________________________________________\n",
      "dense_12 (Dense)             (None, 32)                2080      \n",
      "_________________________________________________________________\n",
      "main_output (Dense)          (None, 5)                 165       \n",
      "=================================================================\n",
      "Total params: 175,685\n",
      "Trainable params: 175,301\n",
      "Non-trainable params: 384\n",
      "_________________________________________________________________\n",
      "Train on 16320 samples, validate on 5440 samples\n",
      "Epoch 1/50\n",
      "16320/16320 [==============================] - 14s 881us/step - loss: 0.1519 - acc: 0.9536 - val_loss: 1.1998 - val_acc: 0.4790\n",
      "Epoch 2/50\n",
      "16320/16320 [==============================] - 10s 600us/step - loss: 0.0589 - acc: 0.9826 - val_loss: 0.4650 - val_acc: 0.8542\n",
      "Epoch 3/50\n",
      "16320/16320 [==============================] - 10s 636us/step - loss: 0.0392 - acc: 0.9876 - val_loss: 0.2242 - val_acc: 0.9281\n",
      "Epoch 4/50\n",
      "16320/16320 [==============================] - 10s 603us/step - loss: 0.0287 - acc: 0.9915 - val_loss: 0.0478 - val_acc: 0.9895\n",
      "Epoch 5/50\n",
      "16320/16320 [==============================] - 10s 637us/step - loss: 0.0201 - acc: 0.9939 - val_loss: 0.0791 - val_acc: 0.9809\n",
      "Epoch 6/50\n",
      "16320/16320 [==============================] - 10s 633us/step - loss: 0.0265 - acc: 0.9916 - val_loss: 0.3461 - val_acc: 0.8949\n",
      "Epoch 7/50\n",
      "16320/16320 [==============================] - 10s 634us/step - loss: 0.0207 - acc: 0.9935 - val_loss: 0.2174 - val_acc: 0.9371\n",
      "Epoch 8/50\n",
      "16320/16320 [==============================] - 10s 634us/step - loss: 0.0102 - acc: 0.9966 - val_loss: 0.0753 - val_acc: 0.9840\n",
      "Epoch 9/50\n",
      "16320/16320 [==============================] - 10s 633us/step - loss: 0.0104 - acc: 0.9968 - val_loss: 0.0735 - val_acc: 0.9857\n",
      "Epoch 10/50\n",
      "16320/16320 [==============================] - 10s 627us/step - loss: 0.0146 - acc: 0.9953 - val_loss: 0.0689 - val_acc: 0.9868\n",
      "Epoch 11/50\n",
      "16320/16320 [==============================] - 10s 632us/step - loss: 0.0188 - acc: 0.9939 - val_loss: 0.0716 - val_acc: 0.9862\n",
      "Epoch 12/50\n",
      "16320/16320 [==============================] - 10s 635us/step - loss: 0.0139 - acc: 0.9963 - val_loss: 0.0740 - val_acc: 0.9838\n",
      "Epoch 13/50\n",
      "16320/16320 [==============================] - 10s 632us/step - loss: 0.0038 - acc: 0.9990 - val_loss: 0.0754 - val_acc: 0.9888\n",
      "Epoch 14/50\n",
      "16320/16320 [==============================] - 10s 635us/step - loss: 0.0097 - acc: 0.9969 - val_loss: 0.0737 - val_acc: 0.9849\n",
      "Epoch 15/50\n",
      "16320/16320 [==============================] - 10s 634us/step - loss: 0.0035 - acc: 0.9990 - val_loss: 0.0818 - val_acc: 0.9871\n",
      "Epoch 16/50\n",
      "16320/16320 [==============================] - 10s 634us/step - loss: 0.0047 - acc: 0.9987 - val_loss: 0.0859 - val_acc: 0.9877\n",
      "Epoch 17/50\n",
      "16320/16320 [==============================] - 10s 632us/step - loss: 0.0030 - acc: 0.9993 - val_loss: 0.1153 - val_acc: 0.9822\n",
      "Epoch 18/50\n",
      "16320/16320 [==============================] - 10s 636us/step - loss: 0.0100 - acc: 0.9969 - val_loss: 0.1946 - val_acc: 0.9601\n",
      "Epoch 19/50\n",
      "16320/16320 [==============================] - 10s 630us/step - loss: 0.0107 - acc: 0.9969 - val_loss: 0.0821 - val_acc: 0.9851\n",
      "Epoch 20/50\n",
      "16320/16320 [==============================] - 10s 633us/step - loss: 0.0065 - acc: 0.9977 - val_loss: 0.0951 - val_acc: 0.9847\n",
      "Epoch 21/50\n",
      "16320/16320 [==============================] - 10s 633us/step - loss: 0.0060 - acc: 0.9978 - val_loss: 0.5500 - val_acc: 0.9393\n",
      "Epoch 22/50\n",
      "16320/16320 [==============================] - 10s 632us/step - loss: 0.0038 - acc: 0.9988 - val_loss: 0.0955 - val_acc: 0.9886\n",
      "Epoch 23/50\n",
      "16320/16320 [==============================] - 10s 634us/step - loss: 0.0011 - acc: 0.9996 - val_loss: 0.1285 - val_acc: 0.9833\n",
      "Epoch 24/50\n",
      "16320/16320 [==============================] - 10s 633us/step - loss: 0.0013 - acc: 0.9997 - val_loss: 0.0900 - val_acc: 0.9895\n",
      "Epoch 25/50\n",
      "16320/16320 [==============================] - 10s 633us/step - loss: 1.6007e-04 - acc: 1.0000 - val_loss: 0.0898 - val_acc: 0.9897\n",
      "Epoch 26/50\n",
      "16320/16320 [==============================] - 10s 636us/step - loss: 0.0057 - acc: 0.9985 - val_loss: 0.1514 - val_acc: 0.9801\n",
      "Epoch 27/50\n",
      "16320/16320 [==============================] - 10s 634us/step - loss: 0.0093 - acc: 0.9974 - val_loss: 0.1027 - val_acc: 0.9873\n",
      "Epoch 28/50\n",
      "16320/16320 [==============================] - 10s 633us/step - loss: 0.0084 - acc: 0.9974 - val_loss: 0.1246 - val_acc: 0.9783\n",
      "Epoch 29/50\n",
      "16320/16320 [==============================] - 10s 635us/step - loss: 0.0065 - acc: 0.9982 - val_loss: 0.1044 - val_acc: 0.9838\n",
      "Epoch 30/50\n",
      "16320/16320 [==============================] - 10s 634us/step - loss: 0.0070 - acc: 0.9983 - val_loss: 0.0907 - val_acc: 0.9897\n",
      "Epoch 31/50\n",
      "16320/16320 [==============================] - 10s 635us/step - loss: 0.0036 - acc: 0.9990 - val_loss: 0.0872 - val_acc: 0.9893\n",
      "Epoch 32/50\n",
      "16320/16320 [==============================] - 10s 635us/step - loss: 0.0010 - acc: 0.9998 - val_loss: 0.0923 - val_acc: 0.9901\n",
      "Epoch 33/50\n",
      "16320/16320 [==============================] - 10s 634us/step - loss: 2.2808e-04 - acc: 0.9999 - val_loss: 0.0890 - val_acc: 0.9895\n",
      "Epoch 34/50\n",
      "16320/16320 [==============================] - 10s 630us/step - loss: 0.0098 - acc: 0.9976 - val_loss: 0.0958 - val_acc: 0.9851\n",
      "Epoch 35/50\n",
      "16320/16320 [==============================] - 10s 632us/step - loss: 0.0046 - acc: 0.9988 - val_loss: 0.2239 - val_acc: 0.9607\n",
      "Epoch 36/50\n",
      "16320/16320 [==============================] - 10s 630us/step - loss: 0.0030 - acc: 0.9992 - val_loss: 0.0808 - val_acc: 0.9897\n",
      "Epoch 37/50\n",
      "16320/16320 [==============================] - 10s 632us/step - loss: 0.0034 - acc: 0.9988 - val_loss: 0.1103 - val_acc: 0.9857\n",
      "Epoch 38/50\n",
      "16320/16320 [==============================] - 10s 629us/step - loss: 0.0038 - acc: 0.9990 - val_loss: 0.1124 - val_acc: 0.9836\n",
      "Epoch 39/50\n",
      "16320/16320 [==============================] - 10s 630us/step - loss: 4.3190e-04 - acc: 0.9999 - val_loss: 0.0919 - val_acc: 0.9895\n",
      "Epoch 40/50\n",
      "16320/16320 [==============================] - 10s 629us/step - loss: 0.0029 - acc: 0.9993 - val_loss: 0.4317 - val_acc: 0.9154\n",
      "Epoch 41/50\n",
      "16320/16320 [==============================] - 10s 630us/step - loss: 0.0024 - acc: 0.9996 - val_loss: 0.0882 - val_acc: 0.9895\n",
      "Epoch 42/50\n",
      "16320/16320 [==============================] - 10s 630us/step - loss: 0.0054 - acc: 0.9983 - val_loss: 0.1726 - val_acc: 0.9792\n",
      "Epoch 43/50\n",
      "16320/16320 [==============================] - 10s 629us/step - loss: 0.0033 - acc: 0.9991 - val_loss: 0.1274 - val_acc: 0.9873\n",
      "Epoch 44/50\n",
      "16320/16320 [==============================] - 10s 634us/step - loss: 7.8609e-04 - acc: 0.9998 - val_loss: 0.1045 - val_acc: 0.9893\n",
      "Epoch 45/50\n",
      "16320/16320 [==============================] - 10s 633us/step - loss: 0.0015 - acc: 0.9996 - val_loss: 0.1442 - val_acc: 0.9822\n",
      "Epoch 46/50\n",
      "16320/16320 [==============================] - 10s 634us/step - loss: 0.0057 - acc: 0.9988 - val_loss: 0.1491 - val_acc: 0.9789\n",
      "Epoch 47/50\n",
      "16320/16320 [==============================] - 10s 634us/step - loss: 0.0059 - acc: 0.9990 - val_loss: 0.1170 - val_acc: 0.9882\n",
      "Epoch 48/50\n",
      "16320/16320 [==============================] - 10s 634us/step - loss: 0.0020 - acc: 0.9995 - val_loss: 0.0852 - val_acc: 0.9904\n",
      "Epoch 49/50\n",
      "16320/16320 [==============================] - 10s 633us/step - loss: 7.0697e-05 - acc: 1.0000 - val_loss: 0.0846 - val_acc: 0.9897\n",
      "Epoch 50/50\n",
      "16320/16320 [==============================] - 10s 631us/step - loss: 1.6887e-04 - acc: 0.9999 - val_loss: 0.1133 - val_acc: 0.9875\n"
     ]
    }
   ],
   "source": [
    "\n",
    "model,history=network(X_train,y_train_,X_valid,y_valid_,batch_size=32,epochs=50)"
   ]
  },
  {
   "cell_type": "code",
   "execution_count": 18,
   "metadata": {},
   "outputs": [],
   "source": [
    "from keras.models import load_model\n"
   ]
  },
  {
   "cell_type": "code",
   "execution_count": 39,
   "metadata": {},
   "outputs": [],
   "source": [
    "del modelCNN1DbestEpochMin.hdf5"
   ]
  },
  {
   "cell_type": "code",
   "execution_count": 40,
   "metadata": {},
   "outputs": [],
   "source": [
    "model = load_model('model_cnn1d_scaled_sequential.h5')"
   ]
  },
  {
   "cell_type": "code",
   "execution_count": 58,
   "metadata": {},
   "outputs": [],
   "source": [
    "model.load_weights('./CNN1DbestEpochMin.hdf5')"
   ]
  },
  {
   "cell_type": "code",
   "execution_count": 54,
   "metadata": {},
   "outputs": [
    {
     "data": {
      "image/png": "[encoded data removed]",
      "text/plain": [
       "<Figure size 432x288 with 1 Axes>"
      ]
     },
     "metadata": {
      "needs_background": "light"
     },
     "output_type": "display_data"
    }
   ],
   "source": [
    "loss_train = history.history['loss']\n",
    "loss_val = history.history['val_loss']\n",
    "epochs = range(1,51)\n",
    "plt.plot(epochs, loss_train, 'g', label='Training loss')\n",
    "plt.plot(epochs, loss_val, 'b', label='validation loss')\n",
    "plt.title('Training and Validation loss')\n",
    "plt.xlabel('Epochs')\n",
    "plt.ylabel('Loss')\n",
    "plt.legend()\n",
    "plt.show()"
   ]
  },
  {
   "cell_type": "code",
   "execution_count": 55,
   "metadata": {},
   "outputs": [
    {
     "data": {
      "image/png": "[encoded data removed]",
      "text/plain": [
       "<Figure size 432x288 with 1 Axes>"
      ]
     },
     "metadata": {
      "needs_background": "light"
     },
     "output_type": "display_data"
    }
   ],
   "source": [
    "loss_train = history.history['acc']\n",
    "loss_val = history.history['val_acc']\n",
    "epochs = range(1,51)\n",
    "plt.plot(epochs, loss_train, 'g', label='Training accuracy')\n",
    "plt.plot(epochs, loss_val, 'b', label='validation accuracy')\n",
    "plt.title('Training and Validation accuracy')\n",
    "plt.xlabel('Epochs')\n",
    "plt.ylabel('Accuracy')\n",
    "plt.legend()\n",
    "plt.show()"
   ]
  },
  {
   "cell_type": "code",
   "execution_count": 65,
   "metadata": {},
   "outputs": [
    {
     "data": {
      "text/plain": [
       "0.04775929571512867"
      ]
     },
     "execution_count": 65,
     "metadata": {},
     "output_type": "execute_result"
    }
   ],
   "source": [
    "min(history.history['val_loss'])"
   ]
  },
  {
   "cell_type": "code",
   "execution_count": null,
   "metadata": {},
   "outputs": [],
   "source": []
  },
  {
   "cell_type": "code",
   "execution_count": 57,
   "metadata": {},
   "outputs": [
    {
     "ename": "AttributeError",
     "evalue": "'Sequential' object has no attribute 'save_model'",
     "output_type": "error",
     "traceback": [
      "\u001b[0;31m---------------------------------------------------------------------------\u001b[0m",
      "\u001b[0;31mAttributeError\u001b[0m                            Traceback (most recent call last)",
      "\u001b[0;32m<ipython-input-57-75710260833e>\u001b[0m in \u001b[0;36m<module>\u001b[0;34m\u001b[0m\n\u001b[0;32m----> 1\u001b[0;31m \u001b[0mmodel\u001b[0m\u001b[0;34m.\u001b[0m\u001b[0msave_model\u001b[0m\u001b[0;34m(\u001b[0m\u001b[0;34m'model_cnn1d_scaled_final_sequentisal.h5'\u001b[0m\u001b[0;34m)\u001b[0m\u001b[0;34m\u001b[0m\u001b[0;34m\u001b[0m\u001b[0m\n\u001b[0m",
      "\u001b[0;31mAttributeError\u001b[0m: 'Sequential' object has no attribute 'save_model'"
     ]
    }
   ],
   "source": [
    "model.save('model_cnn1d_scaled_final_sequential.h5')"
   ]
  },
  {
   "cell_type": "code",
   "execution_count": 31,
   "metadata": {},
   "outputs": [
    {
     "data": {
      "text/plain": [
       "0.051695096405113446"
      ]
     },
     "execution_count": 31,
     "metadata": {},
     "output_type": "execute_result"
    }
   ],
   "source": [
    "min(history.history['val_loss'])"
   ]
  },
  {
   "cell_type": "code",
   "execution_count": 32,
   "metadata": {},
   "outputs": [],
   "source": [
    "X_test_ = np.expand_dims(X_test, axis=1)"
   ]
  },
  {
   "cell_type": "code",
   "execution_count": 33,
   "metadata": {},
   "outputs": [
    {
     "data": {
      "text/plain": [
       "(3, 1, 300, 1)"
      ]
     },
     "execution_count": 33,
     "metadata": {},
     "output_type": "execute_result"
    }
   ],
   "source": [
    "X_test_[0:3].shape"
   ]
  },
  {
   "cell_type": "code",
   "execution_count": 34,
   "metadata": {},
   "outputs": [],
   "source": [
    "y_valid_ = to_categorical(y_test)"
   ]
  },
  {
   "cell_type": "code",
   "execution_count": 43,
   "metadata": {},
   "outputs": [],
   "source": [
    "model.load_weights('./CNN1DbestEpochMin.hdf5')"
   ]
  },
  {
   "cell_type": "code",
   "execution_count": 146,
   "metadata": {},
   "outputs": [],
   "source": [
    "results = model.predict_classes(X_test[0:3])\n"
   ]
  },
  {
   "cell_type": "code",
   "execution_count": 148,
   "metadata": {},
   "outputs": [
    {
     "data": {
      "text/plain": [
       "array([0., 2., 1.])"
      ]
     },
     "execution_count": 148,
     "metadata": {},
     "output_type": "execute_result"
    }
   ],
   "source": [
    "y_test[0:3]"
   ]
  },
  {
   "cell_type": "code",
   "execution_count": 147,
   "metadata": {},
   "outputs": [
    {
     "data": {
      "text/plain": [
       "array([0, 2, 1])"
      ]
     },
     "execution_count": 147,
     "metadata": {},
     "output_type": "execute_result"
    }
   ],
   "source": [
    "results\n"
   ]
  },
  {
   "cell_type": "code",
   "execution_count": null,
   "metadata": {},
   "outputs": [],
   "source": [
    "X_train,y_train_,X_valid,y_valid_"
   ]
  },
  {
   "cell_type": "code",
   "execution_count": 36,
   "metadata": {},
   "outputs": [
    {
     "name": "stdout",
     "output_type": "stream",
     "text": [
      "Evaluate on test data\n",
      "16320/16320 [==============================] - 1s 87us/step\n",
      "test loss, test acc: [0.002623510850118656, 0.9990808823529411]\n"
     ]
    }
   ],
   "source": [
    "# Evaluate the model on the test data using `evaluate`\n",
    "print(\"Evaluate on test data\")\n",
    "results = model.evaluate(X_train, y_train_)\n",
    "print(\"test loss, test acc:\", results)"
   ]
  },
  {
   "cell_type": "code",
   "execution_count": 35,
   "metadata": {
    "scrolled": true
   },
   "outputs": [
    {
     "name": "stdout",
     "output_type": "stream",
     "text": [
      "Evaluate on test data\n",
      "5440/5440 [==============================] - 1s 104us/step\n",
      "test loss, test acc: [0.08446603505050435, 0.9878676470588236]\n"
     ]
    }
   ],
   "source": [
    "# Evaluate the model on the test data using `evaluate`\n",
    "print(\"Evaluate on test data\")\n",
    "results = model.evaluate(X_test, y_valid_)\n",
    "print(\"test loss, test acc:\", results)"
   ]
  },
  {
   "cell_type": "code",
   "execution_count": 79,
   "metadata": {},
   "outputs": [
    {
     "name": "stdout",
     "output_type": "stream",
     "text": [
      "appnope==0.1.2\r\n",
      "asgiref==3.2.10\r\n",
      "astroid==2.4.2\r\n",
      "astunparse==1.6.3\r\n",
      "async-generator==1.10\r\n",
      "attrs==20.3.0\r\n",
      "autopep8==1.5.6\r\n",
      "backcall==0.2.0\r\n",
      "beautifulsoup4==4.9.3\r\n",
      "bidict==0.21.2\r\n",
      "biosignalsnotebooks==0.6.5\r\n",
      "biosppy==0.7.0\r\n",
      "bleach==3.3.0\r\n",
      "bokeh==2.3.1\r\n",
      "cached-property==1.5.2\r\n",
      "certifi==2020.6.20\r\n",
      "chardet==3.0.4\r\n",
      "click==7.1.2\r\n",
      "cycler==0.10.0\r\n",
      "DateTime==4.3\r\n",
      "decorator==5.0.7\r\n",
      "defusedxml==0.6.0\r\n",
      "diff-match-patch==20200713\r\n",
      "Django==3.0.7\r\n",
      "django-admin-interface==0.12.3\r\n",
      "django-allauth==0.42.0\r\n",
      "django-ckeditor==6.0.0\r\n",
      "django-colorfield==0.3.2\r\n",
      "django-cors-headers==3.4.0\r\n",
      "django-crispy-forms==1.9.1\r\n",
      "django-environ==0.4.5\r\n",
      "django-flat-responsive==2.0\r\n",
      "django-flat-theme==1.1.4\r\n",
      "django-import-export==2.3.0\r\n",
      "django-js-asset==1.2.2\r\n",
      "django-markdown==0.8.4\r\n",
      "django-modeltranslation==0.15.1\r\n",
      "django-tinymce==3.3.0\r\n",
      "djangorestframework==3.11.0\r\n",
      "dukpy==0.2.3\r\n",
      "entrypoints==0.3\r\n",
      "et-xmlfile==1.0.1\r\n",
      "filelock==3.0.12\r\n",
      "gdown==3.13.0\r\n",
      "gunicorn==20.0.4\r\n",
      "h5py==3.2.1\r\n",
      "idna==2.10\r\n",
      "importlib-metadata==3.7.0\r\n",
      "ipython==7.22.0\r\n",
      "ipython-genutils==0.2.0\r\n",
      "isort==4.3.21\r\n",
      "javascripthon==0.11\r\n",
      "jdcal==1.4.1\r\n",
      "jedi==0.18.0\r\n",
      "Jinja2==2.11.3\r\n",
      "joblib==1.0.1\r\n",
      "jsonschema==3.2.0\r\n",
      "jupyter-client==6.1.12\r\n",
      "jupyter-core==4.7.1\r\n",
      "jupyterlab-pygments==0.1.2\r\n",
      "kiwisolver==1.3.1\r\n",
      "lazy-object-proxy==1.4.3\r\n",
      "libmagic==1.0\r\n",
      "livelossplot==0.5.4\r\n",
      "lxml==4.6.3\r\n",
      "macropy3==1.1.0b2\r\n",
      "Markdown==3.2.2\r\n",
      "MarkupPy==1.14\r\n",
      "MarkupSafe==1.1.1\r\n",
      "matplotlib==3.4.1\r\n",
      "mccabe==0.6.1\r\n",
      "mistune==0.8.4\r\n",
      "nbclient==0.5.3\r\n",
      "nbconvert==6.0.7\r\n",
      "nbformat==5.1.3\r\n",
      "nest-asyncio==1.5.1\r\n",
      "numpy==1.20.2\r\n",
      "oauthlib==3.1.0\r\n",
      "odfpy==1.4.1\r\n",
      "openpyxl==3.0.5\r\n",
      "packaging==20.9\r\n",
      "pandas==1.2.4\r\n",
      "pandocfilters==1.4.3\r\n",
      "parso==0.8.2\r\n",
      "pexpect==4.8.0\r\n",
      "pickleshare==0.7.5\r\n",
      "Pillow==7.1.2\r\n",
      "prompt-toolkit==3.0.18\r\n",
      "psycopg2-binary==2.8.6\r\n",
      "ptyprocess==0.7.0\r\n",
      "py3dns==3.2.1\r\n",
      "pycodestyle==2.7.0\r\n",
      "pyflowchart==0.1.3\r\n",
      "Pygments==2.8.1\r\n",
      "pylint==2.5.3\r\n",
      "pyparsing==2.4.7\r\n",
      "pyrsistent==0.17.3\r\n",
      "PySocks==1.7.1\r\n",
      "python-dateutil==2.8.1\r\n",
      "python-docx==0.8.10\r\n",
      "python-magic==0.4.22\r\n",
      "python-magic-bin==0.4.14\r\n",
      "python3-openid==3.2.0\r\n",
      "pytz==2020.1\r\n",
      "PyYAML==5.3.1\r\n",
      "pyzmq==22.1.0\r\n",
      "requests==2.24.0\r\n",
      "requests-oauthlib==1.3.0\r\n",
      "rope==0.17.0\r\n",
      "scikit-learn==0.24.2\r\n",
      "scipy==1.6.2\r\n",
      "shortuuid==1.0.1\r\n",
      "six==1.15.0\r\n",
      "soupsieve==2.2.1\r\n",
      "sqlparse==0.3.1\r\n",
      "tablib==2.0.0\r\n",
      "testpath==0.5.0\r\n",
      "threadpoolctl==2.1.0\r\n",
      "toml==0.10.1\r\n",
      "tornado==6.1\r\n",
      "tqdm==4.60.0\r\n",
      "traitlets==5.0.5\r\n",
      "typed-ast==1.4.2\r\n",
      "typing-extensions==3.7.4.3\r\n",
      "urllib3==1.25.9\r\n",
      "wcwidth==0.2.5\r\n",
      "webencodings==0.5.1\r\n",
      "wget==3.2\r\n",
      "whitenoise==5.1.0\r\n",
      "wrapt==1.12.1\r\n",
      "xlrd==1.2.0\r\n",
      "xlwt==1.3.0\r\n",
      "zipp==3.4.0\r\n",
      "zope.interface==5.4.0\r\n"
     ]
    }
   ],
   "source": [
    "!pip3 freeze"
   ]
  },
  {
   "cell_type": "code",
   "execution_count": null,
   "metadata": {},
   "outputs": [],
   "source": []
  }
 ],
 "metadata": {
  "kernelspec": {
   "display_name": "Python 3",
   "language": "python",
   "name": "python3"
  },
  "language_info": {
   "codemirror_mode": {
    "name": "ipython",
    "version": 3
   },
   "file_extension": ".py",
   "mimetype": "text/x-python",
   "name": "python",
   "nbconvert_exporter": "python",
   "pygments_lexer": "ipython3",
   "version": "3.7.9"
  }
 },
 "nbformat": 4,
 "nbformat_minor": 4
}
