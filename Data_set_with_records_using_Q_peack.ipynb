{
 "cells": [
  {
   "cell_type": "markdown",
   "metadata": {
    "id": "EKjxH03fawn0"
   },
   "source": [
    "# import requirments "
   ]
  },
  {
   "cell_type": "code",
   "execution_count": 1,
   "metadata": {
    "id": "iTLz26xmawn1"
   },
   "outputs": [],
   "source": [
    "import pandas as pd\n",
    "import numpy as np\n",
    "import matplotlib.pyplot as plt\n",
    "from os import listdir\n",
    "import wfdb\n",
    "from biosppy.signals import ecg , tools\n",
    "import scipy\n",
    "from sklearn import preprocessing\n",
    "import pywt\n",
    "\n"
   ]
  },
  {
   "cell_type": "markdown",
   "metadata": {
    "id": "VgKQf9_oawn1"
   },
   "source": [
    "You should download that that is it first from [Physionet's MIT-BIH](https://physionet.org/content/mitdb/1.0.0/)"
   ]
  },
  {
   "cell_type": "markdown",
   "metadata": {
    "id": "g7PEr9kbawn1"
   },
   "source": [
    "# Dataset Path"
   ]
  },
  {
   "cell_type": "code",
   "execution_count": 2,
   "metadata": {
    "id": "kJCu1qhhawn2"
   },
   "outputs": [],
   "source": [
    "data_path = '../mit-bih-arrhythmia-database-1.0.0/'\n"
   ]
  },
  {
   "cell_type": "markdown",
   "metadata": {
    "id": "bbffdk6hawn2"
   },
   "source": [
    "here is the list of patients in the dataset "
   ]
  },
  {
   "cell_type": "markdown",
   "metadata": {
    "id": "k3qPYZeqawn2"
   },
   "source": [
    "## Classes\n",
    "this is the 5 type of rythmia that we will calssification \n",
    "there is 21 records "
   ]
  },
  {
   "cell_type": "code",
   "execution_count": 3,
   "metadata": {
    "id": "KRQV41igawn3"
   },
   "outputs": [],
   "source": [
    "NOR = ['100','101','105','113'] #total : ~16270\n",
    "AP = ['209','222','232']#total : ~1974\n",
    "LBBB = ['109','111','207']#total : ~8075\n",
    "RBBB = ['118','124','212','231']#total : ~6776\n",
    "PVC = ['233','228','221','217','203','200','119','106']#total : ~3185\n"
   ]
  },
  {
   "cell_type": "markdown",
   "metadata": {
    "id": "sMqHaSNbawn3"
   },
   "source": [
    "load all the annotations and see the distribution of heart beat types across all files. \n",
    "for more Details [see more about annotation](https://archive.physionet.org/physiobank/database/html/mitdbdir/intro.htm#annotations)"
   ]
  },
  {
   "cell_type": "code",
   "execution_count": 4,
   "metadata": {
    "id": "xwYklIgnawn3"
   },
   "outputs": [],
   "source": [
    "# list of nonbeat and abnormal\n",
    "nonbeat = ['[','!',']','x','(',')','p','t','u','`',\n",
    "           '\\'','^','|','~','+','s','T','*','D','=','\"','@','Q','?','f','F','j','a','J','e','S','E','/']\n",
    "#? 5 Types \n",
    "classification = ['N','L','R','V','A'] "
   ]
  },
  {
   "cell_type": "markdown",
   "metadata": {
    "id": "V3nI0aaIawn4"
   },
   "source": [
    "# Segmentation \n",
    "here we calculate the distance between each R-Peack i nthe signal then segment raw signal in classes \n",
    "In the MIT-BIH arrhythmia database, every\n",
    "ECG beat is sliced based on Q-wave peak time"
   ]
  },
  {
   "cell_type": "code",
   "execution_count": 5,
   "metadata": {},
   "outputs": [],
   "source": [
    "def compute_wavelet_descriptor(beat, family, level):\n",
    "    wave_family = pywt.Wavelet(family)\n",
    "    coeffs = pywt.wavedec(beat, wave_family, level=level)\n",
    "    return coeffs[0]"
   ]
  },
  {
   "cell_type": "code",
   "execution_count": 6,
   "metadata": {
    "id": "utbGuTUFawn4"
   },
   "outputs": [],
   "source": [
    "def segmentation(records,good):\n",
    "    Normal = []\n",
    "    for e in records:\n",
    "        signals, fields = wfdb.rdsamp(data_path+e, channels = [0]) \n",
    "        # WT with level 3 \n",
    "        wt_signal = compute_wavelet_descriptor(signals,'db1',3)\n",
    "        # z-score\n",
    "        signal_zscore = scipy.stats.zscore(wt_signal)\n",
    "        ann = wfdb.rdann(data_path+e, 'atr')\n",
    "        ids = np.in1d(ann.symbol, good)\n",
    "        imp_beats = ann.sample[ids]\n",
    "        beats = (ann.sample)\n",
    "        for i in imp_beats:\n",
    "            beats = list(beats)\n",
    "            j = beats.index(i)\n",
    "            if(j!=0 and j!=(len(beats)-1)):\n",
    "                x = beats[j-1]\n",
    "                y = beats[j+1]\n",
    "                diff1 = abs(x - beats[j])//2\n",
    "                diff2 = abs(y - beats[j])//2\n",
    "                Normal.append(signal_zscore[beats[j] - diff1: beats[j] + diff2, 0])\n",
    "\n",
    "    \n",
    "    return Normal\n"
   ]
  },
  {
   "cell_type": "code",
   "execution_count": null,
   "metadata": {},
   "outputs": [],
   "source": []
  },
  {
   "cell_type": "code",
   "execution_count": 7,
   "metadata": {},
   "outputs": [
    {
     "ename": "NameError",
     "evalue": "name 'signals' is not defined",
     "output_type": "error",
     "traceback": [
      "\u001b[0;31m---------------------------------------------------------------------------\u001b[0m",
      "\u001b[0;31mNameError\u001b[0m                                 Traceback (most recent call last)",
      "\u001b[0;32m<ipython-input-7-c55a67571934>\u001b[0m in \u001b[0;36m<module>\u001b[0;34m\u001b[0m\n\u001b[0;32m----> 1\u001b[0;31m \u001b[0mlen\u001b[0m\u001b[0;34m(\u001b[0m\u001b[0msignals\u001b[0m\u001b[0;34m)\u001b[0m\u001b[0;34m\u001b[0m\u001b[0;34m\u001b[0m\u001b[0m\n\u001b[0m",
      "\u001b[0;31mNameError\u001b[0m: name 'signals' is not defined"
     ]
    }
   ],
   "source": [
    "len(signals)"
   ]
  },
  {
   "cell_type": "code",
   "execution_count": 8,
   "metadata": {
    "id": "cc5kcAi2awn5",
    "scrolled": true
   },
   "outputs": [
    {
     "name": "stderr",
     "output_type": "stream",
     "text": [
      "/opt/anaconda3/envs/DL/lib/python3.7/site-packages/pywt/_multilevel.py:45: UserWarning: Level value of 3 is too high: all coefficients will experience boundary effects.\n",
      "  \"boundary effects.\").format(level))\n"
     ]
    }
   ],
   "source": [
    "sig_nor = segmentation(NOR,'N')\n"
   ]
  },
  {
   "cell_type": "code",
   "execution_count": 8,
   "metadata": {
    "id": "vXosVbjeawn5",
    "scrolled": true
   },
   "outputs": [
    {
     "name": "stderr",
     "output_type": "stream",
     "text": [
      "/opt/anaconda3/envs/DL/lib/python3.7/site-packages/pywt/_multilevel.py:45: UserWarning: Level value of 3 is too high: all coefficients will experience boundary effects.\n",
      "  \"boundary effects.\").format(level))\n"
     ]
    }
   ],
   "source": [
    "sig_AP = segmentation(AP,'A')"
   ]
  },
  {
   "cell_type": "code",
   "execution_count": 9,
   "metadata": {
    "id": "bZu9HMG6awn6"
   },
   "outputs": [],
   "source": [
    "sig_LBBB = segmentation(LBBB,'L')"
   ]
  },
  {
   "cell_type": "code",
   "execution_count": 10,
   "metadata": {
    "id": "BmNAhQteawn6"
   },
   "outputs": [],
   "source": [
    "sig_RBBB = segmentation(RBBB,'R')"
   ]
  },
  {
   "cell_type": "code",
   "execution_count": 11,
   "metadata": {
    "id": "H3wrpjMYawn7"
   },
   "outputs": [],
   "source": [
    "sig_PVC = segmentation(PVC,'V')"
   ]
  },
  {
   "cell_type": "code",
   "execution_count": 12,
   "metadata": {},
   "outputs": [],
   "source": [
    "from biosppy.plotting import plot_ecg"
   ]
  },
  {
   "cell_type": "code",
   "execution_count": 17,
   "metadata": {},
   "outputs": [
    {
     "data": {
      "text/plain": [
       "[<matplotlib.lines.Line2D at 0x7fcb20bfa3d0>]"
      ]
     },
     "execution_count": 17,
     "metadata": {},
     "output_type": "execute_result"
    },
    {
     "data": {
      "image/png": "[encoded data removed]",
      "text/plain": [
       "<Figure size 432x288 with 1 Axes>"
      ]
     },
     "metadata": {
      "needs_background": "light"
     },
     "output_type": "display_data"
    }
   ],
   "source": [
    "plt.plot(sig_AP[0])"
   ]
  },
  {
   "cell_type": "code",
   "execution_count": 22,
   "metadata": {},
   "outputs": [
    {
     "name": "stdout",
     "output_type": "stream",
     "text": [
      "Collecting ecg_plot\n",
      "  Downloading ecg_plot-0.2.8-py3-none-any.whl (9.2 kB)\n",
      "Installing collected packages: ecg-plot\n",
      "Successfully installed ecg-plot-0.2.8\n",
      "\u001b[33mWARNING: You are using pip version 21.1.1; however, version 21.1.2 is available.\n",
      "You should consider upgrading via the '/Library/Frameworks/Python.framework/Versions/3.7/bin/python3 -m pip install --upgrade pip' command.\u001b[0m\n"
     ]
    }
   ],
   "source": [
    "!pip install ecg_plot\n",
    "\n"
   ]
  },
  {
   "cell_type": "code",
   "execution_count": 11,
   "metadata": {},
   "outputs": [],
   "source": [
    "import ecg_plot"
   ]
  },
  {
   "cell_type": "code",
   "execution_count": 9,
   "metadata": {},
   "outputs": [
    {
     "data": {
      "text/plain": [
       "175"
      ]
     },
     "execution_count": 9,
     "metadata": {},
     "output_type": "execute_result"
    }
   ],
   "source": [
    "len(sig_nor[0])"
   ]
  },
  {
   "cell_type": "code",
   "execution_count": 84,
   "metadata": {},
   "outputs": [
    {
     "data": {
      "text/plain": [
       "301"
      ]
     },
     "execution_count": 84,
     "metadata": {},
     "output_type": "execute_result"
    }
   ],
   "source": [
    "len(n_numpy[0])"
   ]
  },
  {
   "cell_type": "code",
   "execution_count": 13,
   "metadata": {},
   "outputs": [],
   "source": [
    "def scale_data(data, lower=0, upper=1024):\n",
    "    '''scales passed sequence between thresholds\n",
    "\n",
    "    Function that scales passed data so that it has specified lower \n",
    "    and upper bounds.\n",
    "    \n",
    "    Parameters\n",
    "    ----------\n",
    "    data : 1-d array or list\n",
    "        Sequence to be scaled\n",
    "\n",
    "    lower : int or float\n",
    "        lower threshold for scaling\n",
    "        default : 0\n",
    "\n",
    "    upper : int or float\n",
    "        upper threshold for scaling\n",
    "        default : 1024\n",
    "\n",
    "    Returns\n",
    "    -------\n",
    "    out : 1-d array\n",
    "        contains scaled data\n",
    "\n",
    "    Examples\n",
    "    --------\n",
    "    When passing data without further arguments to the function means it scales 0-1024\n",
    "    \n",
    "    >>> x = [2, 3, 4, 5]\n",
    "    >>> scale_data(x)\n",
    "    array([   0.        ,  341.33333333,  682.66666667, 1024.        ])\n",
    "\n",
    "    Or you can specify a range:\n",
    "\n",
    "    >>> scale_data(x, lower = 50, upper = 124)\n",
    "    array([ 50.        ,  74.66666667,  99.33333333, 124.        ])\n",
    "    '''\n",
    "\n",
    "    rng = np.max(data) - np.min(data)\n",
    "    minimum = np.min(data)\n",
    "    data = (upper - lower) * ((data - minimum) / rng) + lower\n",
    "    return data"
   ]
  },
  {
   "cell_type": "code",
   "execution_count": 30,
   "metadata": {},
   "outputs": [],
   "source": [
    "n_sum_ts = 0\n",
    "a_sum_ts = 0\n",
    "l_sum_ts = 0\n",
    "r_sum_ts = 0\n",
    "p_sum_ts = 0"
   ]
  },
  {
   "cell_type": "code",
   "execution_count": 31,
   "metadata": {},
   "outputs": [
    {
     "data": {
      "text/plain": [
       "284"
      ]
     },
     "execution_count": 31,
     "metadata": {},
     "output_type": "execute_result"
    }
   ],
   "source": [
    "len(sig_nor[4])"
   ]
  },
  {
   "cell_type": "code",
   "execution_count": null,
   "metadata": {},
   "outputs": [],
   "source": []
  },
  {
   "cell_type": "code",
   "execution_count": 32,
   "metadata": {},
   "outputs": [],
   "source": [
    "for i in sig_nor:\n",
    "    n_sum_ts += len(i)"
   ]
  },
  {
   "cell_type": "code",
   "execution_count": 33,
   "metadata": {
    "id": "_wYzXVOkawn8",
    "outputId": "ba7db56d-e79c-4f50-a883-62fbe1c681ff",
    "scrolled": true
   },
   "outputs": [],
   "source": [
    "for i in sig_AP:\n",
    "    a_sum_ts += len(i)"
   ]
  },
  {
   "cell_type": "code",
   "execution_count": 34,
   "metadata": {},
   "outputs": [],
   "source": [
    "for i in sig_LBBB:\n",
    "    l_sum_ts += len(i)"
   ]
  },
  {
   "cell_type": "code",
   "execution_count": 35,
   "metadata": {},
   "outputs": [],
   "source": [
    "for i in sig_RBBB:\n",
    "    r_sum_ts += len(i)"
   ]
  },
  {
   "cell_type": "code",
   "execution_count": 36,
   "metadata": {},
   "outputs": [],
   "source": [
    "for i in sig_PVC:\n",
    "    p_sum_ts += len(i)"
   ]
  },
  {
   "cell_type": "code",
   "execution_count": 37,
   "metadata": {},
   "outputs": [
    {
     "data": {
      "text/plain": [
       "538064"
      ]
     },
     "execution_count": 37,
     "metadata": {},
     "output_type": "execute_result"
    }
   ],
   "source": [
    "a_sum_ts"
   ]
  },
  {
   "cell_type": "code",
   "execution_count": 38,
   "metadata": {},
   "outputs": [
    {
     "name": "stdout",
     "output_type": "stream",
     "text": [
      "303.5764565992866\n",
      "272.85192697768764\n",
      "288.93624382207577\n",
      "306.6245386091835\n",
      "243.2090338770389\n"
     ]
    }
   ],
   "source": [
    "print(n_sum_ts / len(sig_nor))\n",
    "print(a_sum_ts / len(sig_AP))\n",
    "print(l_sum_ts / len(sig_LBBB))\n",
    "print(r_sum_ts / len(sig_RBBB))\n",
    "print(p_sum_ts / len(sig_PVC))"
   ]
  },
  {
   "cell_type": "code",
   "execution_count": 39,
   "metadata": {},
   "outputs": [],
   "source": [
    "avg_all_st = (303.5764565992866 + 272.85192697768764 + 288.93624382207577 + 306.6245386091835 + 243.2090338770389)/5"
   ]
  },
  {
   "cell_type": "code",
   "execution_count": 40,
   "metadata": {
    "scrolled": true
   },
   "outputs": [
    {
     "data": {
      "text/plain": [
       "283.0396399770545"
      ]
     },
     "execution_count": 40,
     "metadata": {},
     "output_type": "execute_result"
    }
   ],
   "source": [
    "avg_all_st"
   ]
  },
  {
   "cell_type": "code",
   "execution_count": 41,
   "metadata": {},
   "outputs": [],
   "source": [
    "record_time_s = 60 * 30 + 6"
   ]
  },
  {
   "cell_type": "code",
   "execution_count": 42,
   "metadata": {},
   "outputs": [
    {
     "data": {
      "text/plain": [
       "1806"
      ]
     },
     "execution_count": 42,
     "metadata": {},
     "output_type": "execute_result"
    }
   ],
   "source": [
    "record_time_s"
   ]
  },
  {
   "cell_type": "code",
   "execution_count": 43,
   "metadata": {},
   "outputs": [],
   "source": [
    "sample_per_s = record_time_s / 650000"
   ]
  },
  {
   "cell_type": "code",
   "execution_count": 44,
   "metadata": {},
   "outputs": [
    {
     "data": {
      "text/plain": [
       "0.0027784615384615387"
      ]
     },
     "execution_count": 44,
     "metadata": {},
     "output_type": "execute_result"
    }
   ],
   "source": [
    "sample_per_s"
   ]
  },
  {
   "cell_type": "code",
   "execution_count": 45,
   "metadata": {},
   "outputs": [
    {
     "data": {
      "text/plain": [
       "0.8335384615384616"
      ]
     },
     "execution_count": 45,
     "metadata": {},
     "output_type": "execute_result"
    }
   ],
   "source": [
    "300* sample_per_s"
   ]
  },
  {
   "cell_type": "code",
   "execution_count": null,
   "metadata": {},
   "outputs": [],
   "source": []
  },
  {
   "cell_type": "code",
   "execution_count": 46,
   "metadata": {},
   "outputs": [
    {
     "data": {
      "text/plain": [
       "[<matplotlib.lines.Line2D at 0x7fcb1ad96e90>]"
      ]
     },
     "execution_count": 46,
     "metadata": {},
     "output_type": "execute_result"
    },
    {
     "data": {
      "image/png": "[encoded data removed]",
      "text/plain": [
       "<Figure size 432x288 with 1 Axes>"
      ]
     },
     "metadata": {
      "needs_background": "light"
     },
     "output_type": "display_data"
    }
   ],
   "source": [
    "plt.plot(sig_nor[1])\n"
   ]
  },
  {
   "cell_type": "code",
   "execution_count": 47,
   "metadata": {},
   "outputs": [
    {
     "data": {
      "text/plain": [
       "[<matplotlib.lines.Line2D at 0x7fcb1cffe950>]"
      ]
     },
     "execution_count": 47,
     "metadata": {},
     "output_type": "execute_result"
    },
    {
     "data": {
      "image/png": "[encoded data removed]",
      "text/plain": [
       "<Figure size 432x288 with 1 Axes>"
      ]
     },
     "metadata": {
      "needs_background": "light"
     },
     "output_type": "display_data"
    }
   ],
   "source": [
    "plt.plot(sig_nor[1])\n"
   ]
  },
  {
   "cell_type": "code",
   "execution_count": 48,
   "metadata": {},
   "outputs": [
    {
     "data": {
      "image/png": "[encoded data removed]",
      "text/plain": [
       "<Figure size 432x288 with 1 Axes>"
      ]
     },
     "metadata": {
      "needs_background": "light"
     },
     "output_type": "display_data"
    }
   ],
   "source": [
    "for i in sig_nor[1:20] :\n",
    "    plt.plot(i)\n",
    "    "
   ]
  },
  {
   "cell_type": "code",
   "execution_count": null,
   "metadata": {},
   "outputs": [],
   "source": []
  },
  {
   "cell_type": "code",
   "execution_count": null,
   "metadata": {},
   "outputs": [],
   "source": []
  },
  {
   "cell_type": "code",
   "execution_count": 50,
   "metadata": {
    "id": "dkreLkeiawn8"
   },
   "outputs": [],
   "source": [
    "n = []\n",
    "a = []\n",
    "p = []\n",
    "l = []\n",
    "r = []"
   ]
  },
  {
   "cell_type": "code",
   "execution_count": 51,
   "metadata": {
    "id": "MoomniUlawn9"
   },
   "outputs": [],
   "source": [
    "for i in sig_nor[1:-1] : \n",
    "    si = scipy.signal.resample(i, 300)\n",
    "    n.append(si.tolist())"
   ]
  },
  {
   "cell_type": "code",
   "execution_count": 52,
   "metadata": {
    "id": "vgSYqyckawn9"
   },
   "outputs": [],
   "source": [
    "for i in sig_AP[1:-1] : \n",
    "    si = scipy.signal.resample(i, 300)    \n",
    "    a.append(si.tolist())"
   ]
  },
  {
   "cell_type": "code",
   "execution_count": 53,
   "metadata": {
    "id": "LRtRkI7kawn-"
   },
   "outputs": [],
   "source": [
    "for i in sig_LBBB[1:-1] : \n",
    "    si = scipy.signal.resample(i, 300)\n",
    "    l.append(si.tolist())"
   ]
  },
  {
   "cell_type": "code",
   "execution_count": 54,
   "metadata": {
    "id": "XRMiR3jxawn-"
   },
   "outputs": [],
   "source": [
    "for i in sig_RBBB[1:-1] : \n",
    "    si = scipy.signal.resample(i, 300)\n",
    "    r.append(si.tolist())"
   ]
  },
  {
   "cell_type": "code",
   "execution_count": 55,
   "metadata": {
    "id": "O73JGu8rawn_"
   },
   "outputs": [],
   "source": [
    "for i in sig_PVC[1:-1] : \n",
    "    si = scipy.signal.resample(i, 300)\n",
    "    p.append(si.tolist())"
   ]
  },
  {
   "cell_type": "code",
   "execution_count": 56,
   "metadata": {
    "id": "RxJmbVi-awoA",
    "outputId": "6ec57f6f-7cca-480e-b0aa-b4398c5c9fcd"
   },
   "outputs": [
    {
     "data": {
      "text/plain": [
       "8408"
      ]
     },
     "execution_count": 56,
     "metadata": {},
     "output_type": "execute_result"
    }
   ],
   "source": [
    "len(n)"
   ]
  },
  {
   "cell_type": "code",
   "execution_count": 57,
   "metadata": {
    "id": "x_NwsvzgawoB",
    "outputId": "530a91c0-f188-4dc6-8caf-624f450b1cc8"
   },
   "outputs": [
    {
     "name": "stdout",
     "output_type": "stream",
     "text": [
      "6068 3983 6771 8408 1970\n"
     ]
    }
   ],
   "source": [
    "print(len(l), len(p), len(r), len(n), len(a))"
   ]
  },
  {
   "cell_type": "code",
   "execution_count": 58,
   "metadata": {
    "id": "wWZZcF5xawoC",
    "outputId": "46b137dc-aa2c-4f16-9731-beab10393534"
   },
   "outputs": [
    {
     "name": "stdout",
     "output_type": "stream",
     "text": [
      "6068 3983 6771 8408 1970\n"
     ]
    }
   ],
   "source": [
    "print(len(l), len(p), len(r), len(n), len(a))"
   ]
  },
  {
   "cell_type": "code",
   "execution_count": 59,
   "metadata": {
    "id": "eaP1e5rhawoC"
   },
   "outputs": [],
   "source": [
    "from copy import deepcopy"
   ]
  },
  {
   "cell_type": "code",
   "execution_count": 60,
   "metadata": {
    "id": "FX8TwabMawoD"
   },
   "outputs": [],
   "source": [
    "n_copy = deepcopy(n)\n",
    "l_copy = deepcopy(l)\n",
    "p_copy = deepcopy(p)\n",
    "r_copy = deepcopy(r)\n",
    "a_copy = deepcopy(a)\n"
   ]
  },
  {
   "cell_type": "code",
   "execution_count": 61,
   "metadata": {
    "id": "WvaTWlHKawoD"
   },
   "outputs": [],
   "source": [
    "n_numpy = np.zeros((len(n_copy), len(n_copy[0])+1))\n",
    "l_numpy = np.zeros((len(l_copy), len(l_copy[0])+1))\n",
    "p_numpy = np.zeros((len(p_copy), len(p_copy[0])+1))\n",
    "r_numpy = np.zeros((len(r_copy), len(r_copy[0])+1))\n",
    "a_numpy = np.zeros((len(a_copy), len(a_copy[0])+1))"
   ]
  },
  {
   "cell_type": "code",
   "execution_count": 62,
   "metadata": {
    "id": "M1U83COMawoD",
    "outputId": "15248059-7932-41de-89a0-f90fb5efbe50"
   },
   "outputs": [
    {
     "data": {
      "text/plain": [
       "(6068, 301)"
      ]
     },
     "execution_count": 62,
     "metadata": {},
     "output_type": "execute_result"
    }
   ],
   "source": [
    "l_numpy.shape"
   ]
  },
  {
   "cell_type": "code",
   "execution_count": 63,
   "metadata": {
    "id": "WJKYQ7UyawoE"
   },
   "outputs": [],
   "source": [
    "n_numpy[:, :300]=n_copy\n",
    "l_numpy[:, :300]=l_copy\n",
    "p_numpy[:, :300]=p_copy\n",
    "r_numpy[:, :300]=r_copy\n",
    "a_numpy[:, :300]=a_copy"
   ]
  },
  {
   "cell_type": "code",
   "execution_count": 64,
   "metadata": {
    "id": "3yMOJcwXawoE"
   },
   "outputs": [],
   "source": [
    "n_numpy[:, -1]=0\n",
    "l_numpy[:, -1]=1\n",
    "p_numpy[:, -1]=2\n",
    "r_numpy[:, -1]=3\n",
    "a_numpy[:, -1]=4"
   ]
  },
  {
   "cell_type": "code",
   "execution_count": 65,
   "metadata": {
    "id": "iN8arMBbawoF"
   },
   "outputs": [],
   "source": [
    "all_len = len(n)+len(l)+len(p)+len(r)+len(a)"
   ]
  },
  {
   "cell_type": "code",
   "execution_count": 66,
   "metadata": {},
   "outputs": [
    {
     "data": {
      "text/plain": [
       "27200"
      ]
     },
     "execution_count": 66,
     "metadata": {},
     "output_type": "execute_result"
    }
   ],
   "source": [
    "all_len"
   ]
  },
  {
   "cell_type": "code",
   "execution_count": 67,
   "metadata": {
    "id": "GATPV6rTawoF",
    "outputId": "2a9b3d0a-0fe5-4ba0-9149-6567307e1d8b"
   },
   "outputs": [
    {
     "data": {
      "text/plain": [
       "True"
      ]
     },
     "execution_count": 67,
     "metadata": {},
     "output_type": "execute_result"
    }
   ],
   "source": [
    "all_len == 6068 +3983+ 6771+ 8408+ 1970"
   ]
  },
  {
   "cell_type": "code",
   "execution_count": 68,
   "metadata": {
    "id": "wqCbv02wawoF"
   },
   "outputs": [],
   "source": [
    "all_in_one = np.zeros((all_len, 301))"
   ]
  },
  {
   "cell_type": "code",
   "execution_count": 69,
   "metadata": {
    "id": "p-GRV0OQawoG",
    "outputId": "328e1622-3fdd-49b3-8c76-00f94703e664"
   },
   "outputs": [
    {
     "data": {
      "text/plain": [
       "(27200, 301)"
      ]
     },
     "execution_count": 69,
     "metadata": {},
     "output_type": "execute_result"
    }
   ],
   "source": [
    "all_in_one.shape"
   ]
  },
  {
   "cell_type": "code",
   "execution_count": 70,
   "metadata": {
    "id": "nYUGdjY4awoG",
    "outputId": "09a0e789-09bd-40b7-becf-e78a4f04c5ad"
   },
   "outputs": [
    {
     "name": "stdout",
     "output_type": "stream",
     "text": [
      "8409 14476\n"
     ]
    }
   ],
   "source": [
    "print(n_numpy.shape[0]+1, (n_numpy.shape[0]+l_numpy.shape[0]))"
   ]
  },
  {
   "cell_type": "code",
   "execution_count": 71,
   "metadata": {
    "id": "v02U_xrhawoH"
   },
   "outputs": [],
   "source": [
    "all_in_one[:n_numpy.shape[0],:]=n_numpy\n",
    "# all_in_one[n_numpy.shape[0]:(n_numpy.shape[0]+l_numpy.shape[0]),:]=l_numpy\n",
    "# all_in_one[l_numpy.shape[0]:(l_numpy.shape[0]+p_numpy.shape[0]),:]=p_numpy\n",
    "# all_in_one[p_numpy.shape[0]:(p_numpy.shape[0]+r_numpy.shape[0]),:]=r_numpy\n",
    "# all_in_one[r_numpy.shape[0]:(r_numpy.shape[0]+a_numpy.shape[0]),:]=a_numpy"
   ]
  },
  {
   "cell_type": "code",
   "execution_count": 72,
   "metadata": {
    "id": "t2X6_C3cawoH"
   },
   "outputs": [],
   "source": [
    "all_2 = None"
   ]
  },
  {
   "cell_type": "code",
   "execution_count": 73,
   "metadata": {
    "id": "EaptNhsNawoH"
   },
   "outputs": [],
   "source": [
    "all_2 = np.concatenate((n_numpy, l_numpy))"
   ]
  },
  {
   "cell_type": "code",
   "execution_count": 74,
   "metadata": {
    "id": "DN8b8fkCawoI"
   },
   "outputs": [],
   "source": [
    "all_2 = np.concatenate((all_2, p_numpy))"
   ]
  },
  {
   "cell_type": "code",
   "execution_count": 75,
   "metadata": {
    "id": "eOQpRvMVawoI"
   },
   "outputs": [],
   "source": [
    "all_2 = np.concatenate((all_2, r_numpy))\n",
    "all_2 = np.concatenate((all_2, a_numpy))"
   ]
  },
  {
   "cell_type": "code",
   "execution_count": 76,
   "metadata": {
    "id": "Xa7fEfQOawoI",
    "outputId": "4344b3c0-5ba9-4f17-8486-01c233828eba"
   },
   "outputs": [
    {
     "data": {
      "text/plain": [
       "(27200, 301)"
      ]
     },
     "execution_count": 76,
     "metadata": {},
     "output_type": "execute_result"
    }
   ],
   "source": [
    "all_2.shape"
   ]
  },
  {
   "cell_type": "code",
   "execution_count": 77,
   "metadata": {
    "id": "ZkSBdv9PawoJ"
   },
   "outputs": [],
   "source": [
    "df = pd.DataFrame(all_2, columns=range(1,302))"
   ]
  },
  {
   "cell_type": "code",
   "execution_count": 78,
   "metadata": {
    "id": "iJ8PZrjEawoJ",
    "outputId": "ce893f04-e1b0-4a0e-a609-a23f176c510a"
   },
   "outputs": [
    {
     "data": {
      "image/png": "[encoded data removed]",
      "text/plain": [
       "<Figure size 576x288 with 1 Axes>"
      ]
     },
     "metadata": {
      "needs_background": "light"
     },
     "output_type": "display_data"
    }
   ],
   "source": [
    "fig, ax = plt.subplots(figsize=(8, 4))\n",
    "plt.ylim([-2, 2])\n",
    "ax.plot(l_numpy[100,:-1])\n",
    "plt.show()"
   ]
  },
  {
   "cell_type": "code",
   "execution_count": 79,
   "metadata": {
    "id": "CSo3nomHawoJ",
    "outputId": "a1ce6961-a3e6-4975-828e-771de882f8ca"
   },
   "outputs": [
    {
     "data": {
      "text/plain": [
       "[<matplotlib.lines.Line2D at 0x7fcb1ce2c310>]"
      ]
     },
     "execution_count": 79,
     "metadata": {},
     "output_type": "execute_result"
    },
    {
     "data": {
      "image/png": "[encoded data removed]",
      "text/plain": [
       "<Figure size 432x288 with 1 Axes>"
      ]
     },
     "metadata": {
      "needs_background": "light"
     },
     "output_type": "display_data"
    }
   ],
   "source": [
    "plt.plot(l_numpy[100,:-1])"
   ]
  },
  {
   "cell_type": "code",
   "execution_count": 80,
   "metadata": {
    "id": "YaxIoOwEawoK",
    "outputId": "b977657b-4ae0-43d1-cd6b-4b57862ea171"
   },
   "outputs": [
    {
     "data": {
      "text/plain": [
       "[<matplotlib.lines.Line2D at 0x7fcaf1d89b50>]"
      ]
     },
     "execution_count": 80,
     "metadata": {},
     "output_type": "execute_result"
    },
    {
     "data": {
      "image/png": "[encoded data removed]",
      "text/plain": [
       "<Figure size 432x288 with 1 Axes>"
      ]
     },
     "metadata": {
      "needs_background": "light"
     },
     "output_type": "display_data"
    }
   ],
   "source": [
    "plt.plot(r_numpy[1000,:-1])"
   ]
  },
  {
   "cell_type": "code",
   "execution_count": 81,
   "metadata": {
    "id": "Ra30x767awoK",
    "outputId": "d46bc7fd-0a2d-4a47-f2ee-42109a4020d8"
   },
   "outputs": [
    {
     "data": {
      "text/html": [
       "<div>\n",
       "<style scoped>\n",
       "    .dataframe tbody tr th:only-of-type {\n",
       "        vertical-align: middle;\n",
       "    }\n",
       "\n",
       "    .dataframe tbody tr th {\n",
       "        vertical-align: top;\n",
       "    }\n",
       "\n",
       "    .dataframe thead th {\n",
       "        text-align: right;\n",
       "    }\n",
       "</style>\n",
       "<table border=\"1\" class=\"dataframe\">\n",
       "  <thead>\n",
       "    <tr style=\"text-align: right;\">\n",
       "      <th></th>\n",
       "      <th>1</th>\n",
       "      <th>2</th>\n",
       "      <th>3</th>\n",
       "      <th>4</th>\n",
       "      <th>5</th>\n",
       "      <th>6</th>\n",
       "      <th>7</th>\n",
       "      <th>8</th>\n",
       "      <th>9</th>\n",
       "      <th>10</th>\n",
       "      <th>...</th>\n",
       "      <th>292</th>\n",
       "      <th>293</th>\n",
       "      <th>294</th>\n",
       "      <th>295</th>\n",
       "      <th>296</th>\n",
       "      <th>297</th>\n",
       "      <th>298</th>\n",
       "      <th>299</th>\n",
       "      <th>300</th>\n",
       "      <th>301</th>\n",
       "    </tr>\n",
       "  </thead>\n",
       "  <tbody>\n",
       "    <tr>\n",
       "      <th>0</th>\n",
       "      <td>0.239643</td>\n",
       "      <td>0.164720</td>\n",
       "      <td>0.137425</td>\n",
       "      <td>0.084942</td>\n",
       "      <td>0.153273</td>\n",
       "      <td>0.184037</td>\n",
       "      <td>0.238504</td>\n",
       "      <td>0.157602</td>\n",
       "      <td>0.127725</td>\n",
       "      <td>0.120196</td>\n",
       "      <td>...</td>\n",
       "      <td>0.013269</td>\n",
       "      <td>-0.090593</td>\n",
       "      <td>-0.083783</td>\n",
       "      <td>-0.010214</td>\n",
       "      <td>0.003538</td>\n",
       "      <td>-0.048281</td>\n",
       "      <td>0.013559</td>\n",
       "      <td>-0.054481</td>\n",
       "      <td>-0.037631</td>\n",
       "      <td>0.0</td>\n",
       "    </tr>\n",
       "    <tr>\n",
       "      <th>1</th>\n",
       "      <td>-0.019156</td>\n",
       "      <td>0.056494</td>\n",
       "      <td>0.085993</td>\n",
       "      <td>0.016801</td>\n",
       "      <td>-0.018386</td>\n",
       "      <td>-0.057010</td>\n",
       "      <td>-0.068422</td>\n",
       "      <td>0.026895</td>\n",
       "      <td>-0.014682</td>\n",
       "      <td>-0.062788</td>\n",
       "      <td>...</td>\n",
       "      <td>-0.001479</td>\n",
       "      <td>-0.108656</td>\n",
       "      <td>-0.058153</td>\n",
       "      <td>0.001199</td>\n",
       "      <td>-0.007415</td>\n",
       "      <td>0.059003</td>\n",
       "      <td>-0.032712</td>\n",
       "      <td>-0.101004</td>\n",
       "      <td>-0.121043</td>\n",
       "      <td>0.0</td>\n",
       "    </tr>\n",
       "    <tr>\n",
       "      <th>2</th>\n",
       "      <td>-0.070916</td>\n",
       "      <td>-0.072735</td>\n",
       "      <td>-0.068566</td>\n",
       "      <td>-0.088535</td>\n",
       "      <td>-0.195064</td>\n",
       "      <td>-0.250222</td>\n",
       "      <td>-0.174585</td>\n",
       "      <td>-0.172860</td>\n",
       "      <td>-0.113858</td>\n",
       "      <td>-0.149651</td>\n",
       "      <td>...</td>\n",
       "      <td>0.060226</td>\n",
       "      <td>0.045062</td>\n",
       "      <td>0.087087</td>\n",
       "      <td>0.094336</td>\n",
       "      <td>0.015158</td>\n",
       "      <td>0.011150</td>\n",
       "      <td>0.037077</td>\n",
       "      <td>0.060055</td>\n",
       "      <td>0.027918</td>\n",
       "      <td>0.0</td>\n",
       "    </tr>\n",
       "    <tr>\n",
       "      <th>3</th>\n",
       "      <td>-0.045036</td>\n",
       "      <td>-0.015860</td>\n",
       "      <td>-0.051289</td>\n",
       "      <td>0.046698</td>\n",
       "      <td>0.046348</td>\n",
       "      <td>-0.004921</td>\n",
       "      <td>-0.084028</td>\n",
       "      <td>-0.172101</td>\n",
       "      <td>-0.150082</td>\n",
       "      <td>-0.089753</td>\n",
       "      <td>...</td>\n",
       "      <td>0.006724</td>\n",
       "      <td>0.015977</td>\n",
       "      <td>0.054514</td>\n",
       "      <td>0.133155</td>\n",
       "      <td>0.123297</td>\n",
       "      <td>0.076452</td>\n",
       "      <td>0.054817</td>\n",
       "      <td>-0.004272</td>\n",
       "      <td>-0.099234</td>\n",
       "      <td>0.0</td>\n",
       "    </tr>\n",
       "    <tr>\n",
       "      <th>4</th>\n",
       "      <td>0.006723</td>\n",
       "      <td>0.028755</td>\n",
       "      <td>0.040530</td>\n",
       "      <td>-0.042902</td>\n",
       "      <td>-0.081792</td>\n",
       "      <td>-0.152608</td>\n",
       "      <td>-0.105317</td>\n",
       "      <td>-0.062382</td>\n",
       "      <td>-0.040877</td>\n",
       "      <td>-0.144280</td>\n",
       "      <td>...</td>\n",
       "      <td>0.135370</td>\n",
       "      <td>0.078398</td>\n",
       "      <td>0.127388</td>\n",
       "      <td>0.167807</td>\n",
       "      <td>0.151218</td>\n",
       "      <td>0.076355</td>\n",
       "      <td>0.054625</td>\n",
       "      <td>0.005897</td>\n",
       "      <td>0.060152</td>\n",
       "      <td>0.0</td>\n",
       "    </tr>\n",
       "  </tbody>\n",
       "</table>\n",
       "<p>5 rows × 301 columns</p>\n",
       "</div>"
      ],
      "text/plain": [
       "        1         2         3         4         5         6         7    \\\n",
       "0  0.239643  0.164720  0.137425  0.084942  0.153273  0.184037  0.238504   \n",
       "1 -0.019156  0.056494  0.085993  0.016801 -0.018386 -0.057010 -0.068422   \n",
       "2 -0.070916 -0.072735 -0.068566 -0.088535 -0.195064 -0.250222 -0.174585   \n",
       "3 -0.045036 -0.015860 -0.051289  0.046698  0.046348 -0.004921 -0.084028   \n",
       "4  0.006723  0.028755  0.040530 -0.042902 -0.081792 -0.152608 -0.105317   \n",
       "\n",
       "        8         9         10   ...       292       293       294       295  \\\n",
       "0  0.157602  0.127725  0.120196  ...  0.013269 -0.090593 -0.083783 -0.010214   \n",
       "1  0.026895 -0.014682 -0.062788  ... -0.001479 -0.108656 -0.058153  0.001199   \n",
       "2 -0.172860 -0.113858 -0.149651  ...  0.060226  0.045062  0.087087  0.094336   \n",
       "3 -0.172101 -0.150082 -0.089753  ...  0.006724  0.015977  0.054514  0.133155   \n",
       "4 -0.062382 -0.040877 -0.144280  ...  0.135370  0.078398  0.127388  0.167807   \n",
       "\n",
       "        296       297       298       299       300  301  \n",
       "0  0.003538 -0.048281  0.013559 -0.054481 -0.037631  0.0  \n",
       "1 -0.007415  0.059003 -0.032712 -0.101004 -0.121043  0.0  \n",
       "2  0.015158  0.011150  0.037077  0.060055  0.027918  0.0  \n",
       "3  0.123297  0.076452  0.054817 -0.004272 -0.099234  0.0  \n",
       "4  0.151218  0.076355  0.054625  0.005897  0.060152  0.0  \n",
       "\n",
       "[5 rows x 301 columns]"
      ]
     },
     "execution_count": 81,
     "metadata": {},
     "output_type": "execute_result"
    }
   ],
   "source": [
    "df.head()"
   ]
  },
  {
   "cell_type": "code",
   "execution_count": null,
   "metadata": {},
   "outputs": [],
   "source": []
  },
  {
   "cell_type": "code",
   "execution_count": null,
   "metadata": {},
   "outputs": [],
   "source": []
  },
  {
   "cell_type": "code",
   "execution_count": null,
   "metadata": {},
   "outputs": [],
   "source": []
  },
  {
   "cell_type": "code",
   "execution_count": null,
   "metadata": {},
   "outputs": [],
   "source": []
  },
  {
   "cell_type": "code",
   "execution_count": null,
   "metadata": {},
   "outputs": [],
   "source": []
  },
  {
   "cell_type": "code",
   "execution_count": 235,
   "metadata": {
    "id": "w6uYKfh7awoL"
   },
   "outputs": [],
   "source": [
    "df.to_csv(\"MIT_BIH_DATASET_Resampled_Filltered_6_2021.csv\", index=False)"
   ]
  },
  {
   "cell_type": "code",
   "execution_count": 236,
   "metadata": {
    "id": "XLyTI5iCawoL",
    "outputId": "e568e1e0-3ff0-4d60-baaf-386eb3d0ade6"
   },
   "outputs": [
    {
     "data": {
      "text/plain": [
       "(array([   0,    0,    0, ..., 6067, 6067, 6067]),\n",
       " array([ 29,  30,  52, ..., 193, 194, 195]))"
      ]
     },
     "execution_count": 236,
     "metadata": {},
     "output_type": "execute_result"
    }
   ],
   "source": [
    "np.where(l_numpy<0)"
   ]
  },
  {
   "cell_type": "code",
   "execution_count": 237,
   "metadata": {
    "id": "5S81lXbBawoM",
    "outputId": "87ea961a-ad4e-494d-b460-703628e2c8a1"
   },
   "outputs": [
    {
     "data": {
      "text/plain": [
       "(array([    0,     0,     0, ..., 27199, 27199, 27199]),\n",
       " array([ 26,  27,  34, ..., 297, 298, 299]))"
      ]
     },
     "execution_count": 237,
     "metadata": {},
     "output_type": "execute_result"
    }
   ],
   "source": [
    "np.where(all_2<0)"
   ]
  },
  {
   "cell_type": "code",
   "execution_count": 238,
   "metadata": {
    "id": "OITAKTwhawoM",
    "outputId": "a835bd52-65b2-49e6-b49a-1bffa9227191"
   },
   "outputs": [
    {
     "data": {
      "text/plain": [
       "True"
      ]
     },
     "execution_count": 238,
     "metadata": {},
     "output_type": "execute_result"
    }
   ],
   "source": [
    "np.all(all_2[-1])==np.all(a_numpy[-1])"
   ]
  },
  {
   "cell_type": "code",
   "execution_count": 239,
   "metadata": {
    "id": "lvwfWBm8awoN",
    "outputId": "2bf9b746-5baa-4269-e107-bb3be6fdc200"
   },
   "outputs": [
    {
     "data": {
      "text/plain": [
       "(301,)"
      ]
     },
     "execution_count": 239,
     "metadata": {},
     "output_type": "execute_result"
    }
   ],
   "source": [
    "all_in_one[-1].shape"
   ]
  },
  {
   "cell_type": "code",
   "execution_count": 240,
   "metadata": {
    "id": "4j5sqcDhawoO",
    "outputId": "718c2e95-ba47-4b73-f575-5810f69081a6"
   },
   "outputs": [
    {
     "data": {
      "text/plain": [
       "(301,)"
      ]
     },
     "execution_count": 240,
     "metadata": {},
     "output_type": "execute_result"
    }
   ],
   "source": [
    "a_numpy[-1].shape"
   ]
  },
  {
   "cell_type": "code",
   "execution_count": null,
   "metadata": {},
   "outputs": [],
   "source": []
  }
 ],
 "metadata": {
  "colab": {
   "collapsed_sections": [],
   "name": "Data set with records using Q-peack.ipynb",
   "provenance": []
  },
  "kernelspec": {
   "display_name": "Python 3",
   "language": "python",
   "name": "python3"
  },
  "language_info": {
   "codemirror_mode": {
    "name": "ipython",
    "version": 3
   },
   "file_extension": ".py",
   "mimetype": "text/x-python",
   "name": "python",
   "nbconvert_exporter": "python",
   "pygments_lexer": "ipython3",
   "version": "3.7.9"
  }
 },
 "nbformat": 4,
 "nbformat_minor": 1
}
